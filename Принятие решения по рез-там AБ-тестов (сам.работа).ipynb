{
 "cells": [
  {
   "cell_type": "markdown",
   "metadata": {},
   "source": [
    "#### САМОСТОЯТЕЛЬНАЯ РАБОТА\n",
    "#### МОДУЛЬ OD-3 Принятие решения по результатам А/Б теста\n",
    "\n",
    "#### Задачи:\n",
    "- Рассчитать, насколько различаются конверсия, средний чек и ARPU пользователей в группах А и Б (ID теста 127, даты проведения: с 2019-08-05 до 2019-08-11 включительно).\n",
    "- Сформировать выводы по анализу.\n",
    "\n",
    "#### Примечание:\n",
    "- для решения необходимо использовать тест с ID 127, который проводили с 2019-08-05 до 2019-08-11 включительно.\n",
    "\n",
    "#### Критерии оценки:\n",
    "1. Отсутствие ошибок: ноутбук открывается без ошибок.\n",
    "2. Рассчитан средний чек.\n",
    "3. Рассчитан ARPU.\n",
    "4. Представлены выводы, сделанные на основе анализа.\n",
    "\n",
    "#### Требования к ответу:\n",
    "- Ответ должен быть в виде ipynb-файла.\n",
    "- Ipynb-файл должен запускаться и выполняться без необходимости изменять порядок действий. То есть при нажатии кнопки Restart Kernel & Re-run the whole notebook ноутбук должен выполниться без ошибок и выдать в конце результат проверки второй гипотезы.\n",
    "- Результатом выполнения задания является написанный алгоритм, который производит вычисления и выводит данные, на основе которых можно подтвердить или опровергнуть гипотезу.\n",
    "- Обязательно наличие выводов в формате ячеек с Markdown.\n",
    "- Большим плюсом (но это не обязательное условие) будет, если в ходе алгоритма даны комментарии к коду (в виде комментариев Python или в разметке Markdown в Jupyter Notebook) с описанием назначения создаваемых переменных и выражений."
   ]
  },
  {
   "cell_type": "code",
   "execution_count": 1,
   "metadata": {},
   "outputs": [],
   "source": [
    "# Импорты нужных библиотек и функций\n",
    "import pandas as pd\n",
    "import numpy as np\n",
    "import matplotlib.pyplot as plt\n",
    "from scipy import stats\n",
    "from scipy.stats import shapiro \n",
    "from statsmodels.stats.proportion import proportion_confint\n",
    "from statsmodels.stats.weightstats import ztest\n",
    "from datetime import datetime\n"
   ]
  },
  {
   "cell_type": "code",
   "execution_count": 2,
   "metadata": {
    "scrolled": true
   },
   "outputs": [
    {
     "data": {
      "text/html": [
       "<div>\n",
       "<style scoped>\n",
       "    .dataframe tbody tr th:only-of-type {\n",
       "        vertical-align: middle;\n",
       "    }\n",
       "\n",
       "    .dataframe tbody tr th {\n",
       "        vertical-align: top;\n",
       "    }\n",
       "\n",
       "    .dataframe thead th {\n",
       "        text-align: right;\n",
       "    }\n",
       "</style>\n",
       "<table border=\"1\" class=\"dataframe\">\n",
       "  <thead>\n",
       "    <tr style=\"text-align: right;\">\n",
       "      <th></th>\n",
       "      <th>user_id</th>\n",
       "      <th>grp</th>\n",
       "      <th>ab_test_id</th>\n",
       "    </tr>\n",
       "  </thead>\n",
       "  <tbody>\n",
       "    <tr>\n",
       "      <th>0</th>\n",
       "      <td>1</td>\n",
       "      <td>B</td>\n",
       "      <td>132</td>\n",
       "    </tr>\n",
       "    <tr>\n",
       "      <th>1</th>\n",
       "      <td>2</td>\n",
       "      <td>A</td>\n",
       "      <td>132</td>\n",
       "    </tr>\n",
       "    <tr>\n",
       "      <th>2</th>\n",
       "      <td>3</td>\n",
       "      <td>B</td>\n",
       "      <td>132</td>\n",
       "    </tr>\n",
       "    <tr>\n",
       "      <th>3</th>\n",
       "      <td>4</td>\n",
       "      <td>A</td>\n",
       "      <td>132</td>\n",
       "    </tr>\n",
       "    <tr>\n",
       "      <th>4</th>\n",
       "      <td>5</td>\n",
       "      <td>B</td>\n",
       "      <td>132</td>\n",
       "    </tr>\n",
       "  </tbody>\n",
       "</table>\n",
       "</div>"
      ],
      "text/plain": [
       "   user_id grp  ab_test_id\n",
       "0        1   B         132\n",
       "1        2   A         132\n",
       "2        3   B         132\n",
       "3        4   A         132\n",
       "4        5   B         132"
      ]
     },
     "execution_count": 2,
     "metadata": {},
     "output_type": "execute_result"
    }
   ],
   "source": [
    "# Читаем таблицу ab_test_groups\n",
    "ab_test_groups=pd.read_csv('ab_test_groups.csv')\n",
    "ab_test_groups.head()"
   ]
  },
  {
   "cell_type": "code",
   "execution_count": 3,
   "metadata": {},
   "outputs": [
    {
     "data": {
      "text/html": [
       "<div>\n",
       "<style scoped>\n",
       "    .dataframe tbody tr th:only-of-type {\n",
       "        vertical-align: middle;\n",
       "    }\n",
       "\n",
       "    .dataframe tbody tr th {\n",
       "        vertical-align: top;\n",
       "    }\n",
       "\n",
       "    .dataframe thead th {\n",
       "        text-align: right;\n",
       "    }\n",
       "</style>\n",
       "<table border=\"1\" class=\"dataframe\">\n",
       "  <thead>\n",
       "    <tr style=\"text-align: right;\">\n",
       "      <th></th>\n",
       "      <th>user_id</th>\n",
       "      <th>grp</th>\n",
       "      <th>ab_test_id</th>\n",
       "    </tr>\n",
       "  </thead>\n",
       "  <tbody>\n",
       "    <tr>\n",
       "      <th>11999</th>\n",
       "      <td>1</td>\n",
       "      <td>B</td>\n",
       "      <td>127</td>\n",
       "    </tr>\n",
       "    <tr>\n",
       "      <th>12000</th>\n",
       "      <td>2</td>\n",
       "      <td>B</td>\n",
       "      <td>127</td>\n",
       "    </tr>\n",
       "    <tr>\n",
       "      <th>12001</th>\n",
       "      <td>3</td>\n",
       "      <td>B</td>\n",
       "      <td>127</td>\n",
       "    </tr>\n",
       "    <tr>\n",
       "      <th>12002</th>\n",
       "      <td>4</td>\n",
       "      <td>B</td>\n",
       "      <td>127</td>\n",
       "    </tr>\n",
       "    <tr>\n",
       "      <th>12003</th>\n",
       "      <td>5</td>\n",
       "      <td>A</td>\n",
       "      <td>127</td>\n",
       "    </tr>\n",
       "  </tbody>\n",
       "</table>\n",
       "</div>"
      ],
      "text/plain": [
       "       user_id grp  ab_test_id\n",
       "11999        1   B         127\n",
       "12000        2   B         127\n",
       "12001        3   B         127\n",
       "12002        4   B         127\n",
       "12003        5   A         127"
      ]
     },
     "execution_count": 3,
     "metadata": {},
     "output_type": "execute_result"
    }
   ],
   "source": [
    "# Выбираем тест с ID 127\n",
    "ab_test_groups_2=ab_test_groups[ab_test_groups['ab_test_id']==127]\n",
    "ab_test_groups_2.head()"
   ]
  },
  {
   "cell_type": "code",
   "execution_count": 4,
   "metadata": {
    "scrolled": true
   },
   "outputs": [
    {
     "data": {
      "text/html": [
       "<div>\n",
       "<style scoped>\n",
       "    .dataframe tbody tr th:only-of-type {\n",
       "        vertical-align: middle;\n",
       "    }\n",
       "\n",
       "    .dataframe tbody tr th {\n",
       "        vertical-align: top;\n",
       "    }\n",
       "\n",
       "    .dataframe thead th {\n",
       "        text-align: right;\n",
       "    }\n",
       "</style>\n",
       "<table border=\"1\" class=\"dataframe\">\n",
       "  <thead>\n",
       "    <tr style=\"text-align: right;\">\n",
       "      <th></th>\n",
       "      <th>payment_id</th>\n",
       "      <th>user_id</th>\n",
       "      <th>price</th>\n",
       "      <th>created_at</th>\n",
       "      <th>tariff</th>\n",
       "    </tr>\n",
       "  </thead>\n",
       "  <tbody>\n",
       "    <tr>\n",
       "      <th>0</th>\n",
       "      <td>1</td>\n",
       "      <td>77831</td>\n",
       "      <td>200.0</td>\n",
       "      <td>2019-08-05 00:00:54</td>\n",
       "      <td>month</td>\n",
       "    </tr>\n",
       "    <tr>\n",
       "      <th>1</th>\n",
       "      <td>2</td>\n",
       "      <td>84576</td>\n",
       "      <td>200.0</td>\n",
       "      <td>2019-08-05 00:01:05</td>\n",
       "      <td>month</td>\n",
       "    </tr>\n",
       "    <tr>\n",
       "      <th>2</th>\n",
       "      <td>3</td>\n",
       "      <td>40981</td>\n",
       "      <td>140.0</td>\n",
       "      <td>2019-08-05 00:03:47</td>\n",
       "      <td>month_30off</td>\n",
       "    </tr>\n",
       "    <tr>\n",
       "      <th>3</th>\n",
       "      <td>4</td>\n",
       "      <td>130565</td>\n",
       "      <td>140.0</td>\n",
       "      <td>2019-08-05 00:09:33</td>\n",
       "      <td>month_30off</td>\n",
       "    </tr>\n",
       "    <tr>\n",
       "      <th>4</th>\n",
       "      <td>5</td>\n",
       "      <td>34758</td>\n",
       "      <td>700.0</td>\n",
       "      <td>2019-08-05 00:12:16</td>\n",
       "      <td>year_30off</td>\n",
       "    </tr>\n",
       "  </tbody>\n",
       "</table>\n",
       "</div>"
      ],
      "text/plain": [
       "   payment_id  user_id  price           created_at       tariff\n",
       "0           1    77831  200.0  2019-08-05 00:00:54        month\n",
       "1           2    84576  200.0  2019-08-05 00:01:05        month\n",
       "2           3    40981  140.0  2019-08-05 00:03:47  month_30off\n",
       "3           4   130565  140.0  2019-08-05 00:09:33  month_30off\n",
       "4           5    34758  700.0  2019-08-05 00:12:16   year_30off"
      ]
     },
     "execution_count": 4,
     "metadata": {},
     "output_type": "execute_result"
    }
   ],
   "source": [
    "# Читаем таблицу payments\n",
    "payments=pd.read_csv('payments.csv')\n",
    "payments.head()"
   ]
  },
  {
   "cell_type": "code",
   "execution_count": 5,
   "metadata": {
    "scrolled": true
   },
   "outputs": [
    {
     "data": {
      "text/html": [
       "<div>\n",
       "<style scoped>\n",
       "    .dataframe tbody tr th:only-of-type {\n",
       "        vertical-align: middle;\n",
       "    }\n",
       "\n",
       "    .dataframe tbody tr th {\n",
       "        vertical-align: top;\n",
       "    }\n",
       "\n",
       "    .dataframe thead th {\n",
       "        text-align: right;\n",
       "    }\n",
       "</style>\n",
       "<table border=\"1\" class=\"dataframe\">\n",
       "  <thead>\n",
       "    <tr style=\"text-align: right;\">\n",
       "      <th></th>\n",
       "      <th>payment_id</th>\n",
       "      <th>user_id</th>\n",
       "      <th>price</th>\n",
       "      <th>created_at</th>\n",
       "      <th>tariff</th>\n",
       "    </tr>\n",
       "  </thead>\n",
       "  <tbody>\n",
       "    <tr>\n",
       "      <th>0</th>\n",
       "      <td>1</td>\n",
       "      <td>77831</td>\n",
       "      <td>200.0</td>\n",
       "      <td>2019-08-05 00:00:54</td>\n",
       "      <td>month</td>\n",
       "    </tr>\n",
       "    <tr>\n",
       "      <th>1</th>\n",
       "      <td>2</td>\n",
       "      <td>84576</td>\n",
       "      <td>200.0</td>\n",
       "      <td>2019-08-05 00:01:05</td>\n",
       "      <td>month</td>\n",
       "    </tr>\n",
       "    <tr>\n",
       "      <th>2</th>\n",
       "      <td>3</td>\n",
       "      <td>40981</td>\n",
       "      <td>140.0</td>\n",
       "      <td>2019-08-05 00:03:47</td>\n",
       "      <td>month_30off</td>\n",
       "    </tr>\n",
       "    <tr>\n",
       "      <th>3</th>\n",
       "      <td>4</td>\n",
       "      <td>130565</td>\n",
       "      <td>140.0</td>\n",
       "      <td>2019-08-05 00:09:33</td>\n",
       "      <td>month_30off</td>\n",
       "    </tr>\n",
       "    <tr>\n",
       "      <th>4</th>\n",
       "      <td>5</td>\n",
       "      <td>34758</td>\n",
       "      <td>700.0</td>\n",
       "      <td>2019-08-05 00:12:16</td>\n",
       "      <td>year_30off</td>\n",
       "    </tr>\n",
       "  </tbody>\n",
       "</table>\n",
       "</div>"
      ],
      "text/plain": [
       "   payment_id  user_id  price          created_at       tariff\n",
       "0           1    77831  200.0 2019-08-05 00:00:54        month\n",
       "1           2    84576  200.0 2019-08-05 00:01:05        month\n",
       "2           3    40981  140.0 2019-08-05 00:03:47  month_30off\n",
       "3           4   130565  140.0 2019-08-05 00:09:33  month_30off\n",
       "4           5    34758  700.0 2019-08-05 00:12:16   year_30off"
      ]
     },
     "execution_count": 5,
     "metadata": {},
     "output_type": "execute_result"
    }
   ],
   "source": [
    "#Переведем столбец created_at в формат datetime\n",
    "#Выберем тест, который проводили с 2019-08-05 до 2019-08-11 включительно.\n",
    "payments['created_at']=pd.to_datetime(payments['created_at'])\n",
    "payments=payments[(payments['created_at']>='2019-08-05')&(payments['created_at']<'2019-08-12')]\n",
    "payments.head()"
   ]
  },
  {
   "cell_type": "code",
   "execution_count": 6,
   "metadata": {
    "scrolled": true
   },
   "outputs": [
    {
     "data": {
      "text/html": [
       "<div>\n",
       "<style scoped>\n",
       "    .dataframe tbody tr th:only-of-type {\n",
       "        vertical-align: middle;\n",
       "    }\n",
       "\n",
       "    .dataframe tbody tr th {\n",
       "        vertical-align: top;\n",
       "    }\n",
       "\n",
       "    .dataframe thead th {\n",
       "        text-align: right;\n",
       "    }\n",
       "</style>\n",
       "<table border=\"1\" class=\"dataframe\">\n",
       "  <thead>\n",
       "    <tr style=\"text-align: right;\">\n",
       "      <th></th>\n",
       "      <th>user_id</th>\n",
       "      <th>price</th>\n",
       "    </tr>\n",
       "  </thead>\n",
       "  <tbody>\n",
       "    <tr>\n",
       "      <th>0</th>\n",
       "      <td>77831</td>\n",
       "      <td>200.0</td>\n",
       "    </tr>\n",
       "    <tr>\n",
       "      <th>1</th>\n",
       "      <td>84576</td>\n",
       "      <td>200.0</td>\n",
       "    </tr>\n",
       "    <tr>\n",
       "      <th>2</th>\n",
       "      <td>40981</td>\n",
       "      <td>140.0</td>\n",
       "    </tr>\n",
       "    <tr>\n",
       "      <th>3</th>\n",
       "      <td>130565</td>\n",
       "      <td>140.0</td>\n",
       "    </tr>\n",
       "    <tr>\n",
       "      <th>4</th>\n",
       "      <td>34758</td>\n",
       "      <td>700.0</td>\n",
       "    </tr>\n",
       "  </tbody>\n",
       "</table>\n",
       "</div>"
      ],
      "text/plain": [
       "   user_id  price\n",
       "0    77831  200.0\n",
       "1    84576  200.0\n",
       "2    40981  140.0\n",
       "3   130565  140.0\n",
       "4    34758  700.0"
      ]
     },
     "execution_count": 6,
     "metadata": {},
     "output_type": "execute_result"
    }
   ],
   "source": [
    "# Оставим только два столбца user_id и price\n",
    "payments_2=payments[['user_id', 'price']]\n",
    "payments_2.head()"
   ]
  },
  {
   "cell_type": "code",
   "execution_count": 7,
   "metadata": {},
   "outputs": [
    {
     "data": {
      "text/html": [
       "<div>\n",
       "<style scoped>\n",
       "    .dataframe tbody tr th:only-of-type {\n",
       "        vertical-align: middle;\n",
       "    }\n",
       "\n",
       "    .dataframe tbody tr th {\n",
       "        vertical-align: top;\n",
       "    }\n",
       "\n",
       "    .dataframe thead th {\n",
       "        text-align: right;\n",
       "    }\n",
       "</style>\n",
       "<table border=\"1\" class=\"dataframe\">\n",
       "  <thead>\n",
       "    <tr style=\"text-align: right;\">\n",
       "      <th></th>\n",
       "      <th>user_id</th>\n",
       "      <th>price</th>\n",
       "    </tr>\n",
       "  </thead>\n",
       "  <tbody>\n",
       "    <tr>\n",
       "      <th>0</th>\n",
       "      <td>1</td>\n",
       "      <td>140.0</td>\n",
       "    </tr>\n",
       "    <tr>\n",
       "      <th>1</th>\n",
       "      <td>10</td>\n",
       "      <td>140.0</td>\n",
       "    </tr>\n",
       "    <tr>\n",
       "      <th>2</th>\n",
       "      <td>23</td>\n",
       "      <td>140.0</td>\n",
       "    </tr>\n",
       "    <tr>\n",
       "      <th>3</th>\n",
       "      <td>24</td>\n",
       "      <td>700.0</td>\n",
       "    </tr>\n",
       "    <tr>\n",
       "      <th>4</th>\n",
       "      <td>39</td>\n",
       "      <td>140.0</td>\n",
       "    </tr>\n",
       "    <tr>\n",
       "      <th>...</th>\n",
       "      <td>...</td>\n",
       "      <td>...</td>\n",
       "    </tr>\n",
       "    <tr>\n",
       "      <th>13701</th>\n",
       "      <td>153184</td>\n",
       "      <td>140.0</td>\n",
       "    </tr>\n",
       "    <tr>\n",
       "      <th>13702</th>\n",
       "      <td>153190</td>\n",
       "      <td>140.0</td>\n",
       "    </tr>\n",
       "    <tr>\n",
       "      <th>13703</th>\n",
       "      <td>153205</td>\n",
       "      <td>140.0</td>\n",
       "    </tr>\n",
       "    <tr>\n",
       "      <th>13704</th>\n",
       "      <td>153212</td>\n",
       "      <td>700.0</td>\n",
       "    </tr>\n",
       "    <tr>\n",
       "      <th>13705</th>\n",
       "      <td>153215</td>\n",
       "      <td>140.0</td>\n",
       "    </tr>\n",
       "  </tbody>\n",
       "</table>\n",
       "<p>13706 rows × 2 columns</p>\n",
       "</div>"
      ],
      "text/plain": [
       "       user_id  price\n",
       "0            1  140.0\n",
       "1           10  140.0\n",
       "2           23  140.0\n",
       "3           24  700.0\n",
       "4           39  140.0\n",
       "...        ...    ...\n",
       "13701   153184  140.0\n",
       "13702   153190  140.0\n",
       "13703   153205  140.0\n",
       "13704   153212  700.0\n",
       "13705   153215  140.0\n",
       "\n",
       "[13706 rows x 2 columns]"
      ]
     },
     "execution_count": 7,
     "metadata": {},
     "output_type": "execute_result"
    }
   ],
   "source": [
    "# Т.к. у одного пользователя может быть несколько покупок, сделаем агрегацию по пользователю\n",
    "payments_2=payments_2.groupby('user_id', as_index=False).agg({'price':'sum'})\n",
    "payments_2"
   ]
  },
  {
   "cell_type": "code",
   "execution_count": 8,
   "metadata": {},
   "outputs": [
    {
     "data": {
      "text/html": [
       "<div>\n",
       "<style scoped>\n",
       "    .dataframe tbody tr th:only-of-type {\n",
       "        vertical-align: middle;\n",
       "    }\n",
       "\n",
       "    .dataframe tbody tr th {\n",
       "        vertical-align: top;\n",
       "    }\n",
       "\n",
       "    .dataframe thead th {\n",
       "        text-align: right;\n",
       "    }\n",
       "</style>\n",
       "<table border=\"1\" class=\"dataframe\">\n",
       "  <thead>\n",
       "    <tr style=\"text-align: right;\">\n",
       "      <th></th>\n",
       "      <th>user_id</th>\n",
       "      <th>grp</th>\n",
       "      <th>ab_test_id</th>\n",
       "      <th>price</th>\n",
       "    </tr>\n",
       "  </thead>\n",
       "  <tbody>\n",
       "    <tr>\n",
       "      <th>0</th>\n",
       "      <td>1</td>\n",
       "      <td>B</td>\n",
       "      <td>127</td>\n",
       "      <td>140.0</td>\n",
       "    </tr>\n",
       "    <tr>\n",
       "      <th>1</th>\n",
       "      <td>2</td>\n",
       "      <td>B</td>\n",
       "      <td>127</td>\n",
       "      <td>NaN</td>\n",
       "    </tr>\n",
       "    <tr>\n",
       "      <th>2</th>\n",
       "      <td>3</td>\n",
       "      <td>B</td>\n",
       "      <td>127</td>\n",
       "      <td>NaN</td>\n",
       "    </tr>\n",
       "    <tr>\n",
       "      <th>3</th>\n",
       "      <td>4</td>\n",
       "      <td>B</td>\n",
       "      <td>127</td>\n",
       "      <td>NaN</td>\n",
       "    </tr>\n",
       "    <tr>\n",
       "      <th>4</th>\n",
       "      <td>5</td>\n",
       "      <td>A</td>\n",
       "      <td>127</td>\n",
       "      <td>NaN</td>\n",
       "    </tr>\n",
       "  </tbody>\n",
       "</table>\n",
       "</div>"
      ],
      "text/plain": [
       "   user_id grp  ab_test_id  price\n",
       "0        1   B         127  140.0\n",
       "1        2   B         127    NaN\n",
       "2        3   B         127    NaN\n",
       "3        4   B         127    NaN\n",
       "4        5   A         127    NaN"
      ]
     },
     "execution_count": 8,
     "metadata": {},
     "output_type": "execute_result"
    }
   ],
   "source": [
    "# Объединим эти таблицы, чтобы осталась сводная информация обо всех участниках теста и покупках каждого из них за время теста.\n",
    "ab_data_2=ab_test_groups_2.merge(payments_2,on= 'user_id', how='left')\n",
    "ab_data_2.head()"
   ]
  },
  {
   "cell_type": "code",
   "execution_count": 9,
   "metadata": {},
   "outputs": [
    {
     "data": {
      "text/html": [
       "<div>\n",
       "<style scoped>\n",
       "    .dataframe tbody tr th:only-of-type {\n",
       "        vertical-align: middle;\n",
       "    }\n",
       "\n",
       "    .dataframe tbody tr th {\n",
       "        vertical-align: top;\n",
       "    }\n",
       "\n",
       "    .dataframe thead th {\n",
       "        text-align: right;\n",
       "    }\n",
       "</style>\n",
       "<table border=\"1\" class=\"dataframe\">\n",
       "  <thead>\n",
       "    <tr style=\"text-align: right;\">\n",
       "      <th></th>\n",
       "      <th>users_count</th>\n",
       "      <th>buyers_count</th>\n",
       "    </tr>\n",
       "    <tr>\n",
       "      <th>grp</th>\n",
       "      <th></th>\n",
       "      <th></th>\n",
       "    </tr>\n",
       "  </thead>\n",
       "  <tbody>\n",
       "    <tr>\n",
       "      <th>A</th>\n",
       "      <td>76605</td>\n",
       "      <td>4279</td>\n",
       "    </tr>\n",
       "    <tr>\n",
       "      <th>B</th>\n",
       "      <td>76627</td>\n",
       "      <td>9427</td>\n",
       "    </tr>\n",
       "  </tbody>\n",
       "</table>\n",
       "</div>"
      ],
      "text/plain": [
       "     users_count  buyers_count\n",
       "grp                           \n",
       "A          76605          4279\n",
       "B          76627          9427"
      ]
     },
     "execution_count": 9,
     "metadata": {},
     "output_type": "execute_result"
    }
   ],
   "source": [
    "# Посмотрим, в каких пропорциях разбиты пользователи на группы и количество пользователей, совершивших покупку\n",
    "ab_summary_2=ab_data_2.groupby('grp', as_index=True).agg({'user_id':'count', 'price':'count'})\n",
    "ab_summary_2=ab_summary_2.rename(columns={'user_id':'users_count', 'price':'buyers_count'})\n",
    "ab_summary_2"
   ]
  },
  {
   "cell_type": "code",
   "execution_count": 10,
   "metadata": {},
   "outputs": [
    {
     "data": {
      "text/plain": [
       "grp\n",
       "A    49.992821\n",
       "Name: users_count, dtype: float64"
      ]
     },
     "execution_count": 10,
     "metadata": {},
     "output_type": "execute_result"
    }
   ],
   "source": [
    "#Посчитаем какая доля пользователей находится в группе А\n",
    "percent_A=ab_summary_2.loc[ab_summary_2.index=='A']['users_count']/ab_summary_2['users_count'].sum()*100                                                    \n",
    "percent_A"
   ]
  },
  {
   "cell_type": "markdown",
   "metadata": {},
   "source": [
    "В группе А — 49,993 % пользователей, из чего можем сделать вывод, что использована разбивка 50/50. При этом количество покупателей существенно различается."
   ]
  },
  {
   "cell_type": "code",
   "execution_count": 11,
   "metadata": {
    "scrolled": false
   },
   "outputs": [
    {
     "data": {
      "text/html": [
       "<div>\n",
       "<style scoped>\n",
       "    .dataframe tbody tr th:only-of-type {\n",
       "        vertical-align: middle;\n",
       "    }\n",
       "\n",
       "    .dataframe tbody tr th {\n",
       "        vertical-align: top;\n",
       "    }\n",
       "\n",
       "    .dataframe thead th {\n",
       "        text-align: right;\n",
       "    }\n",
       "</style>\n",
       "<table border=\"1\" class=\"dataframe\">\n",
       "  <thead>\n",
       "    <tr style=\"text-align: right;\">\n",
       "      <th></th>\n",
       "      <th>users_count</th>\n",
       "      <th>buyers_count</th>\n",
       "      <th>conversion</th>\n",
       "    </tr>\n",
       "    <tr>\n",
       "      <th>grp</th>\n",
       "      <th></th>\n",
       "      <th></th>\n",
       "      <th></th>\n",
       "    </tr>\n",
       "  </thead>\n",
       "  <tbody>\n",
       "    <tr>\n",
       "      <th>A</th>\n",
       "      <td>76605</td>\n",
       "      <td>4279</td>\n",
       "      <td>0.055858</td>\n",
       "    </tr>\n",
       "    <tr>\n",
       "      <th>B</th>\n",
       "      <td>76627</td>\n",
       "      <td>9427</td>\n",
       "      <td>0.123025</td>\n",
       "    </tr>\n",
       "  </tbody>\n",
       "</table>\n",
       "</div>"
      ],
      "text/plain": [
       "     users_count  buyers_count  conversion\n",
       "grp                                       \n",
       "A          76605          4279    0.055858\n",
       "B          76627          9427    0.123025"
      ]
     },
     "execution_count": 11,
     "metadata": {},
     "output_type": "execute_result"
    }
   ],
   "source": [
    "#Посчитаем коэффициент конверсии\n",
    "ab_summary_2['conversion']=ab_summary_2['buyers_count']/ab_summary_2['users_count']\n",
    "ab_summary_2"
   ]
  },
  {
   "cell_type": "markdown",
   "metadata": {},
   "source": [
    "Конверсия серьёзно различается: в первой группе она составляет 5,6 %, а во второй — целых 12,3 %!"
   ]
  },
  {
   "cell_type": "code",
   "execution_count": 12,
   "metadata": {
    "scrolled": false
   },
   "outputs": [
    {
     "data": {
      "text/html": [
       "<div>\n",
       "<style scoped>\n",
       "    .dataframe tbody tr th:only-of-type {\n",
       "        vertical-align: middle;\n",
       "    }\n",
       "\n",
       "    .dataframe tbody tr th {\n",
       "        vertical-align: top;\n",
       "    }\n",
       "\n",
       "    .dataframe thead th {\n",
       "        text-align: right;\n",
       "    }\n",
       "</style>\n",
       "<table border=\"1\" class=\"dataframe\">\n",
       "  <thead>\n",
       "    <tr style=\"text-align: right;\">\n",
       "      <th></th>\n",
       "      <th>users_count</th>\n",
       "      <th>buyers_count</th>\n",
       "      <th>conversion</th>\n",
       "      <th>revenue</th>\n",
       "    </tr>\n",
       "    <tr>\n",
       "      <th>grp</th>\n",
       "      <th></th>\n",
       "      <th></th>\n",
       "      <th></th>\n",
       "      <th></th>\n",
       "    </tr>\n",
       "  </thead>\n",
       "  <tbody>\n",
       "    <tr>\n",
       "      <th>A</th>\n",
       "      <td>76605</td>\n",
       "      <td>4279</td>\n",
       "      <td>0.055858</td>\n",
       "      <td>1695000.0</td>\n",
       "    </tr>\n",
       "    <tr>\n",
       "      <th>B</th>\n",
       "      <td>76627</td>\n",
       "      <td>9427</td>\n",
       "      <td>0.123025</td>\n",
       "      <td>3288180.0</td>\n",
       "    </tr>\n",
       "  </tbody>\n",
       "</table>\n",
       "</div>"
      ],
      "text/plain": [
       "     users_count  buyers_count  conversion    revenue\n",
       "grp                                                  \n",
       "A          76605          4279    0.055858  1695000.0\n",
       "B          76627          9427    0.123025  3288180.0"
      ]
     },
     "execution_count": 12,
     "metadata": {},
     "output_type": "execute_result"
    }
   ],
   "source": [
    "#Посчитаем общую прибыль по каждой группе\n",
    "ab_summary_2 = ab_summary_2.merge(ab_data_2.groupby('grp').agg({'price':'sum'}).rename(columns = {'price':'revenue'}), \n",
    "                 left_index = True, right_index = True) # Сделали агрегацию и прикрепили её к ab_summary\n",
    "ab_summary_2"
   ]
  },
  {
   "cell_type": "code",
   "execution_count": 13,
   "metadata": {
    "scrolled": true
   },
   "outputs": [
    {
     "data": {
      "text/plain": [
       "grp\n",
       "A    34.014425\n",
       "Name: revenue, dtype: float64"
      ]
     },
     "execution_count": 13,
     "metadata": {},
     "output_type": "execute_result"
    }
   ],
   "source": [
    "\n",
    "percent_revenue_A=ab_summary_2[ab_summary_2.index=='A']['revenue']/ab_summary_2['revenue'].sum()*100\n",
    "percent_revenue_A"
   ]
  },
  {
   "cell_type": "code",
   "execution_count": 14,
   "metadata": {},
   "outputs": [
    {
     "data": {
      "text/plain": [
       "grp\n",
       "B    65.985575\n",
       "Name: revenue, dtype: float64"
      ]
     },
     "execution_count": 14,
     "metadata": {},
     "output_type": "execute_result"
    }
   ],
   "source": [
    "# Посчитаем долю прибыли группы Б от общей прибыли\n",
    "percent_revenue_B=ab_summary_2[ab_summary_2.index=='B']['revenue']/ab_summary_2['revenue'].sum()*100\n",
    "percent_revenue_B"
   ]
  },
  {
   "cell_type": "markdown",
   "metadata": {},
   "source": [
    "Выручка группы А - 34, а выручка группы B - 66% общей выручки"
   ]
  },
  {
   "cell_type": "code",
   "execution_count": 15,
   "metadata": {
    "scrolled": false
   },
   "outputs": [
    {
     "data": {
      "text/html": [
       "<div>\n",
       "<style scoped>\n",
       "    .dataframe tbody tr th:only-of-type {\n",
       "        vertical-align: middle;\n",
       "    }\n",
       "\n",
       "    .dataframe tbody tr th {\n",
       "        vertical-align: top;\n",
       "    }\n",
       "\n",
       "    .dataframe thead th {\n",
       "        text-align: right;\n",
       "    }\n",
       "</style>\n",
       "<table border=\"1\" class=\"dataframe\">\n",
       "  <thead>\n",
       "    <tr style=\"text-align: right;\">\n",
       "      <th></th>\n",
       "      <th>users_count</th>\n",
       "      <th>buyers_count</th>\n",
       "      <th>conversion</th>\n",
       "      <th>revenue</th>\n",
       "      <th>avg_bill</th>\n",
       "    </tr>\n",
       "    <tr>\n",
       "      <th>grp</th>\n",
       "      <th></th>\n",
       "      <th></th>\n",
       "      <th></th>\n",
       "      <th></th>\n",
       "      <th></th>\n",
       "    </tr>\n",
       "  </thead>\n",
       "  <tbody>\n",
       "    <tr>\n",
       "      <th>A</th>\n",
       "      <td>76605</td>\n",
       "      <td>4279</td>\n",
       "      <td>0.055858</td>\n",
       "      <td>1695000.0</td>\n",
       "      <td>396.120589</td>\n",
       "    </tr>\n",
       "    <tr>\n",
       "      <th>B</th>\n",
       "      <td>76627</td>\n",
       "      <td>9427</td>\n",
       "      <td>0.123025</td>\n",
       "      <td>3288180.0</td>\n",
       "      <td>348.804498</td>\n",
       "    </tr>\n",
       "  </tbody>\n",
       "</table>\n",
       "</div>"
      ],
      "text/plain": [
       "     users_count  buyers_count  conversion    revenue    avg_bill\n",
       "grp                                                              \n",
       "A          76605          4279    0.055858  1695000.0  396.120589\n",
       "B          76627          9427    0.123025  3288180.0  348.804498"
      ]
     },
     "execution_count": 15,
     "metadata": {},
     "output_type": "execute_result"
    }
   ],
   "source": [
    "# Посчитаем средний чек\n",
    "ab_summary_2['avg_bill']=ab_summary_2['revenue']/ab_summary_2['buyers_count']\n",
    "ab_summary_2"
   ]
  },
  {
   "cell_type": "code",
   "execution_count": 16,
   "metadata": {},
   "outputs": [
    {
     "data": {
      "text/plain": [
       "11.944870457760672"
      ]
     },
     "execution_count": 16,
     "metadata": {},
     "output_type": "execute_result"
    }
   ],
   "source": [
    "# Посчитаем на сколько % снизился средний чек в группе B по сравнению с группой А\n",
    "difference_avg_bill=100-ab_summary_2.loc['B','avg_bill']/ab_summary_2.loc['A','avg_bill']*100\n",
    "difference_avg_bill"
   ]
  },
  {
   "cell_type": "markdown",
   "metadata": {},
   "source": [
    "Несмотря на то что скидка в группе Б составляет 30%, средний чек упал на 11,94%.\n",
    "Видимо, из-за акции также стали покупать больше годовых подписок."
   ]
  },
  {
   "cell_type": "code",
   "execution_count": 17,
   "metadata": {
    "scrolled": false
   },
   "outputs": [
    {
     "data": {
      "text/html": [
       "<div>\n",
       "<style scoped>\n",
       "    .dataframe tbody tr th:only-of-type {\n",
       "        vertical-align: middle;\n",
       "    }\n",
       "\n",
       "    .dataframe tbody tr th {\n",
       "        vertical-align: top;\n",
       "    }\n",
       "\n",
       "    .dataframe thead th {\n",
       "        text-align: right;\n",
       "    }\n",
       "</style>\n",
       "<table border=\"1\" class=\"dataframe\">\n",
       "  <thead>\n",
       "    <tr style=\"text-align: right;\">\n",
       "      <th></th>\n",
       "      <th>users_count</th>\n",
       "      <th>buyers_count</th>\n",
       "      <th>conversion</th>\n",
       "      <th>revenue</th>\n",
       "      <th>avg_bill</th>\n",
       "      <th>ARPU</th>\n",
       "    </tr>\n",
       "    <tr>\n",
       "      <th>grp</th>\n",
       "      <th></th>\n",
       "      <th></th>\n",
       "      <th></th>\n",
       "      <th></th>\n",
       "      <th></th>\n",
       "      <th></th>\n",
       "    </tr>\n",
       "  </thead>\n",
       "  <tbody>\n",
       "    <tr>\n",
       "      <th>A</th>\n",
       "      <td>76605</td>\n",
       "      <td>4279</td>\n",
       "      <td>0.055858</td>\n",
       "      <td>1695000.0</td>\n",
       "      <td>396.120589</td>\n",
       "      <td>22.126493</td>\n",
       "    </tr>\n",
       "    <tr>\n",
       "      <th>B</th>\n",
       "      <td>76627</td>\n",
       "      <td>9427</td>\n",
       "      <td>0.123025</td>\n",
       "      <td>3288180.0</td>\n",
       "      <td>348.804498</td>\n",
       "      <td>42.911506</td>\n",
       "    </tr>\n",
       "  </tbody>\n",
       "</table>\n",
       "</div>"
      ],
      "text/plain": [
       "     users_count  buyers_count  conversion    revenue    avg_bill       ARPU\n",
       "grp                                                                         \n",
       "A          76605          4279    0.055858  1695000.0  396.120589  22.126493\n",
       "B          76627          9427    0.123025  3288180.0  348.804498  42.911506"
      ]
     },
     "execution_count": 17,
     "metadata": {},
     "output_type": "execute_result"
    }
   ],
   "source": [
    "#Посчитаем ARPU\n",
    "ab_summary_2['ARPU']=ab_summary_2['revenue']/ab_summary_2['users_count']\n",
    "ab_summary_2"
   ]
  },
  {
   "cell_type": "code",
   "execution_count": 18,
   "metadata": {
    "scrolled": true
   },
   "outputs": [
    {
     "data": {
      "text/plain": [
       "20.785013339331144"
      ]
     },
     "execution_count": 18,
     "metadata": {},
     "output_type": "execute_result"
    }
   ],
   "source": [
    "# Посчитаем на сколько ARPU в группе B больше, чем в группе А\n",
    "ab_summary_2.loc['B','ARPU']-ab_summary_2.loc['A','ARPU']"
   ]
  },
  {
   "cell_type": "code",
   "execution_count": 19,
   "metadata": {
    "scrolled": true
   },
   "outputs": [
    {
     "data": {
      "text/plain": [
       "93.9372240035081"
      ]
     },
     "execution_count": 19,
     "metadata": {},
     "output_type": "execute_result"
    }
   ],
   "source": [
    "# Посчитаем на сколько % увеличился ARPU в группе B по сравнению с группой А\n",
    "ab_summary_2.loc['B','ARPU']/ab_summary_2.loc['A','ARPU']*100-100"
   ]
  },
  {
   "cell_type": "markdown",
   "metadata": {},
   "source": [
    "Наличие скидки в группе Б увеличило ARPU на 93% (на 20,78 рублей)"
   ]
  },
  {
   "cell_type": "code",
   "execution_count": 20,
   "metadata": {
    "scrolled": true
   },
   "outputs": [
    {
     "data": {
      "text/html": [
       "<div>\n",
       "<style scoped>\n",
       "    .dataframe tbody tr th:only-of-type {\n",
       "        vertical-align: middle;\n",
       "    }\n",
       "\n",
       "    .dataframe tbody tr th {\n",
       "        vertical-align: top;\n",
       "    }\n",
       "\n",
       "    .dataframe thead th {\n",
       "        text-align: right;\n",
       "    }\n",
       "</style>\n",
       "<table border=\"1\" class=\"dataframe\">\n",
       "  <thead>\n",
       "    <tr style=\"text-align: right;\">\n",
       "      <th></th>\n",
       "      <th>users_count</th>\n",
       "      <th>buyers_count</th>\n",
       "      <th>conversion</th>\n",
       "      <th>revenue</th>\n",
       "      <th>avg_bill</th>\n",
       "      <th>ARPU</th>\n",
       "      <th>Доп. выручка</th>\n",
       "    </tr>\n",
       "    <tr>\n",
       "      <th>grp</th>\n",
       "      <th></th>\n",
       "      <th></th>\n",
       "      <th></th>\n",
       "      <th></th>\n",
       "      <th></th>\n",
       "      <th></th>\n",
       "      <th></th>\n",
       "    </tr>\n",
       "  </thead>\n",
       "  <tbody>\n",
       "    <tr>\n",
       "      <th>A</th>\n",
       "      <td>76605</td>\n",
       "      <td>4279</td>\n",
       "      <td>0.055858</td>\n",
       "      <td>1695000.0</td>\n",
       "      <td>396.120589</td>\n",
       "      <td>22.126493</td>\n",
       "      <td>0.000000e+00</td>\n",
       "    </tr>\n",
       "    <tr>\n",
       "      <th>B</th>\n",
       "      <td>76627</td>\n",
       "      <td>9427</td>\n",
       "      <td>0.123025</td>\n",
       "      <td>3288180.0</td>\n",
       "      <td>348.804498</td>\n",
       "      <td>42.911506</td>\n",
       "      <td>1.592693e+06</td>\n",
       "    </tr>\n",
       "  </tbody>\n",
       "</table>\n",
       "</div>"
      ],
      "text/plain": [
       "     users_count  buyers_count  conversion    revenue    avg_bill       ARPU  \\\n",
       "grp                                                                            \n",
       "A          76605          4279    0.055858  1695000.0  396.120589  22.126493   \n",
       "B          76627          9427    0.123025  3288180.0  348.804498  42.911506   \n",
       "\n",
       "     Доп. выручка  \n",
       "grp                \n",
       "A    0.000000e+00  \n",
       "B    1.592693e+06  "
      ]
     },
     "execution_count": 20,
     "metadata": {},
     "output_type": "execute_result"
    }
   ],
   "source": [
    "#Посчитаем доп.выручку\n",
    "ab_summary_2['Доп. выручка'] = ab_summary_2['users_count']*(ab_summary_2['ARPU'] - ab_summary_2.loc['A', 'ARPU'])\n",
    "ab_summary_2"
   ]
  },
  {
   "cell_type": "markdown",
   "metadata": {},
   "source": [
    "Дополнительная выручка - 1 592 693 рубля"
   ]
  },
  {
   "cell_type": "code",
   "execution_count": 21,
   "metadata": {},
   "outputs": [
    {
     "data": {
      "text/plain": [
       "(-46.38627328408593, 0.0)"
      ]
     },
     "execution_count": 21,
     "metadata": {},
     "output_type": "execute_result"
    }
   ],
   "source": [
    "#Расчет статистической значимости с использованием Z-теста (исп.данный тест, т.к. конверсия - бинарная величина)\n",
    "ztest(ab_data_2.loc[ab_data_2['grp']=='A', 'price'].apply(lambda x: 1 if pd.notnull(x) else 0),\\\n",
    "ab_data_2.loc[ab_data_2['grp']=='B', 'price'].apply(lambda x: 1 if pd.notnull(x) else 0))"
   ]
  },
  {
   "cell_type": "markdown",
   "metadata": {},
   "source": [
    "P-значение в данном случае равно нулю, что позволяет говорить о фактическом улучшении конверсии (статистически значимо) "
   ]
  },
  {
   "cell_type": "code",
   "execution_count": 34,
   "metadata": {},
   "outputs": [
    {
     "data": {
      "image/png": "[encoded data removed]",
      "text/plain": [
       "<Figure size 432x288 with 1 Axes>"
      ]
     },
     "metadata": {
      "needs_background": "light"
     },
     "output_type": "display_data"
    },
    {
     "name": "stdout",
     "output_type": "stream",
     "text": [
      "Shapiro-Wilk p-value is ShapiroResult(statistic=0.5343698859214783, pvalue=0.0)\n"
     ]
    },
    {
     "data": {
      "image/png": "[encoded data removed]",
      "text/plain": [
       "<Figure size 432x288 with 1 Axes>"
      ]
     },
     "metadata": {
      "needs_background": "light"
     },
     "output_type": "display_data"
    },
    {
     "name": "stdout",
     "output_type": "stream",
     "text": [
      "Shapiro-Wilk p-value is ShapiroResult(statistic=0.1714773178100586, pvalue=0.0)\n"
     ]
    }
   ],
   "source": [
    "#Рассмотрим различия среднего чека и ARPU\n",
    "ax = plt.subplot()\n",
    "ab_data_2.loc[ab_data_2['grp'] == 'A', 'price'].dropna().hist()\n",
    "ax.set_xlabel('Чек, руб')\n",
    "ax.set_ylabel('Количество пользователей')\n",
    "ax.set_title('Гистограмма распределения чеков на платящих пользователей')\n",
    "plt.show()\n",
    "print('Shapiro-Wilk p-value is', stats.shapiro(ab_data_2.loc[ab_data_2['grp'] == 'A', 'price'].dropna()))\n",
    "\n",
    "ax = plt.subplot()\n",
    "ab_data_2.loc[ab_data_2['grp'] == 'A', 'price'].fillna(0).hist()\n",
    "ax.set_xlabel('Выручка, руб')\n",
    "ax.set_ylabel('Количество пользователей')\n",
    "ax.set_title('Гистограмма распределения выручки на пользователей')\n",
    "plt.show()\n",
    "print('Shapiro-Wilk p-value is', stats.shapiro(ab_data_2.loc[ab_data_2['grp'] == 'A', 'price'].fillna(0)))\n"
   ]
  },
  {
   "cell_type": "markdown",
   "metadata": {},
   "source": [
    "И визуальный анализ, и тест Шапиро-Вилка на нормальность говорят нам, что распределение не является нормальным."
   ]
  },
  {
   "cell_type": "code",
   "execution_count": 23,
   "metadata": {},
   "outputs": [
    {
     "name": "stdout",
     "output_type": "stream",
     "text": [
      "MannwhitneyuResult(statistic=11353450.0, pvalue=0.0)\n",
      "Ttest_indResult(statistic=8.681488291725874, pvalue=4.342920451712972e-18)\n"
     ]
    }
   ],
   "source": [
    "#Сравниваем средние чеки, применив тест Манна-уитни\n",
    "print(stats.mannwhitneyu(ab_data_2.loc[ab_data_2['grp']=='A','price'].dropna(),ab_data_2.loc[ab_data_2['grp']=='B','price'].dropna()),\n",
    "stats.ttest_ind(ab_data_2.loc[ab_data_2['grp']=='A','price'].dropna(), ab_data_2.loc[ab_data_2['grp']=='B','price'].dropna()),\\\n",
    "      sep = '\\n')"
   ]
  },
  {
   "cell_type": "markdown",
   "metadata": {},
   "source": [
    "Средние чеки значимо различаются (так как p-значение << 0.05) по каждому из тестов."
   ]
  },
  {
   "cell_type": "code",
   "execution_count": 24,
   "metadata": {},
   "outputs": [
    {
     "name": "stdout",
     "output_type": "stream",
     "text": [
      "MannwhitneyuResult(statistic=2746687083.0, pvalue=0.0)\n",
      "Ttest_indResult(statistic=-29.893345238870868, pvalue=8.818064407002295e-196)\n"
     ]
    }
   ],
   "source": [
    "# Сравниваем ARPU\n",
    "print(stats.mannwhitneyu(ab_data_2.loc[ab_data_2.grp == 'A', 'price'].fillna(0), ab_data_2.loc[ab_data_2.grp == 'B', 'price'].fillna(0)),\n",
    "      stats.ttest_ind(ab_data_2.loc[ab_data_2.grp == 'A', 'price'].fillna(0), ab_data_2.loc[ab_data_2.grp == 'B', 'price'].fillna(0)),\n",
    "     sep = '\\n')"
   ]
  },
  {
   "cell_type": "markdown",
   "metadata": {},
   "source": [
    "ARPU значимо различаются (так как p-значение << 0.05) по каждому из тестов."
   ]
  },
  {
   "cell_type": "code",
   "execution_count": 25,
   "metadata": {},
   "outputs": [],
   "source": [
    "#Важные функции для получения доверительных интервалов\n",
    "def get_conf_interval(data, conf_level = 0.95):  \n",
    "# Считает доверительные интервалы для средних\n",
    "        buf = (stats.t.interval(conf_level, len(data),\n",
    "                             loc=np.mean(data), scale=stats.sem(data)))\n",
    "        return (buf[1] - buf[0])/2\n",
    "    \n",
    "def get_conf_interval_z(succ, tot):  \n",
    "#Считает доверительные интервалы для бинарных величин\n",
    "    buf = proportion_confint(succ, tot)\n",
    "    return buf[1] - buf[0]"
   ]
  },
  {
   "cell_type": "code",
   "execution_count": 26,
   "metadata": {},
   "outputs": [
    {
     "data": {
      "text/plain": [
       "0.8641428736438357"
      ]
     },
     "execution_count": 26,
     "metadata": {},
     "output_type": "execute_result"
    }
   ],
   "source": [
    "get_conf_interval(ab_data_2.loc[ab_data_2['grp'] == 'A', 'price'].fillna(0)) \n",
    "#Доверительный полуинтервал для АРПУ пользователей в группе А"
   ]
  },
  {
   "cell_type": "code",
   "execution_count": 27,
   "metadata": {},
   "outputs": [],
   "source": [
    "#Составляем словарь с доверительными интервалами для каждой метрики и для каждой группы\n",
    "conf_intervals = {'ARPU':{'A':get_conf_interval(ab_data_2.loc[ab_data_2['grp'] == 'A', 'price'].fillna(0)),\n",
    "                          'B':get_conf_interval(ab_data_2.loc[ab_data_2['grp'] == 'B', 'price'].fillna(0))},\n",
    "                  'conversion':{'A':get_conf_interval_z(ab_data_2.loc[ab_data_2['grp'] == 'A', 'price'].dropna().count(),\n",
    "                                                        ab_data_2.loc[ab_data_2['grp'] == 'A', 'user_id'].count()),\n",
    "                               'B':get_conf_interval_z(ab_data_2.loc[ab_data_2['grp'] == 'B', 'price'].dropna().count(),\n",
    "                                                        ab_data_2.loc[ab_data_2['grp'] == 'B', 'user_id'].count())},\n",
    "                  'avg_bill':{'A':get_conf_interval(ab_data_2.loc[ab_data_2['grp'] == 'A', 'price'].dropna()),\n",
    "                          'B':get_conf_interval(ab_data_2.loc[ab_data_2['grp'] == 'B', 'price'].dropna())}\n",
    "                 }"
   ]
  },
  {
   "cell_type": "code",
   "execution_count": 28,
   "metadata": {},
   "outputs": [
    {
     "data": {
      "text/plain": [
       "{'ARPU': {'A': 0.8641428736438357, 'B': 1.0537383983825563},\n",
       " 'conversion': {'A': 0.0032524511174824022, 'B': 0.004651325604805509},\n",
       " 'avg_bill': {'A': 10.315428393735829, 'B': 5.467446406040892}}"
      ]
     },
     "execution_count": 28,
     "metadata": {},
     "output_type": "execute_result"
    }
   ],
   "source": [
    "conf_intervals"
   ]
  },
  {
   "cell_type": "code",
   "execution_count": 29,
   "metadata": {},
   "outputs": [],
   "source": [
    "#Удобная функция для подстановки подписей на barplot\n",
    "def set_labels(axes):  \n",
    "#Расставляет подписи столбцов на барплоты\n",
    "    y0, y1 = axes.get_ybound()  \n",
    "#Размер графика по оси Y\n",
    "    y_shift = 0.15* (y1 - y0)  \n",
    "#Дополнительное место под надписи\n",
    "\n",
    "    for i, rect in enumerate(axes.patches):  \n",
    "#По всем нарисованным прямоугольникам\n",
    "        height = rect.get_height()\n",
    "        if abs(height) <= 10000:\n",
    "            label = str(round(height, 2))\n",
    "            if label[-1] == '0':\n",
    "                label = label[:-1]\n",
    "        elif abs(height) <= 1000000:\n",
    "            label = str(round(height/1000, 1))\n",
    "            if label[-1] == '0':\n",
    "                label = label[:-1] + 'тыс'\n",
    "            else:\n",
    "                label = label + 'тыс'\n",
    "        else:\n",
    "            label = str(round(height/1000000, 2))\n",
    "            if label[-1] == '0':\n",
    "                label = label[:-1] + 'млн'\n",
    "            else:\n",
    "                label = label + 'млн'\n",
    "        x = rect.get_x() + rect.get_width() / 2  \n",
    "#Посередине прямоугольника\n",
    "        y = height + y_shift * 0.8  \n",
    "#Над прямоугольником в середине доп. места\n",
    "        if height < 0:\n",
    "            y = y_shift * 0.8 \n",
    "        axes.text(x, y, label, ha='center', va='center', alpha = 0.7)\n",
    "        axes.set_ybound(y0, y1 + 1.5*y_shift)"
   ]
  },
  {
   "cell_type": "code",
   "execution_count": 30,
   "metadata": {},
   "outputs": [
    {
     "data": {
      "text/html": [
       "<div>\n",
       "<style scoped>\n",
       "    .dataframe tbody tr th:only-of-type {\n",
       "        vertical-align: middle;\n",
       "    }\n",
       "\n",
       "    .dataframe tbody tr th {\n",
       "        vertical-align: top;\n",
       "    }\n",
       "\n",
       "    .dataframe thead th {\n",
       "        text-align: right;\n",
       "    }\n",
       "</style>\n",
       "<table border=\"1\" class=\"dataframe\">\n",
       "  <thead>\n",
       "    <tr style=\"text-align: right;\">\n",
       "      <th>grp</th>\n",
       "      <th>A</th>\n",
       "      <th>B</th>\n",
       "    </tr>\n",
       "  </thead>\n",
       "  <tbody>\n",
       "    <tr>\n",
       "      <th>users_count</th>\n",
       "      <td>7.660500e+04</td>\n",
       "      <td>7.662700e+04</td>\n",
       "    </tr>\n",
       "    <tr>\n",
       "      <th>buyers_count</th>\n",
       "      <td>4.279000e+03</td>\n",
       "      <td>9.427000e+03</td>\n",
       "    </tr>\n",
       "    <tr>\n",
       "      <th>conversion</th>\n",
       "      <td>5.585797e-02</td>\n",
       "      <td>1.230245e-01</td>\n",
       "    </tr>\n",
       "    <tr>\n",
       "      <th>revenue</th>\n",
       "      <td>1.695000e+06</td>\n",
       "      <td>3.288180e+06</td>\n",
       "    </tr>\n",
       "    <tr>\n",
       "      <th>avg_bill</th>\n",
       "      <td>3.961206e+02</td>\n",
       "      <td>3.488045e+02</td>\n",
       "    </tr>\n",
       "    <tr>\n",
       "      <th>ARPU</th>\n",
       "      <td>2.212649e+01</td>\n",
       "      <td>4.291151e+01</td>\n",
       "    </tr>\n",
       "    <tr>\n",
       "      <th>Доп. выручка</th>\n",
       "      <td>0.000000e+00</td>\n",
       "      <td>1.592693e+06</td>\n",
       "    </tr>\n",
       "  </tbody>\n",
       "</table>\n",
       "</div>"
      ],
      "text/plain": [
       "grp                      A             B\n",
       "users_count   7.660500e+04  7.662700e+04\n",
       "buyers_count  4.279000e+03  9.427000e+03\n",
       "conversion    5.585797e-02  1.230245e-01\n",
       "revenue       1.695000e+06  3.288180e+06\n",
       "avg_bill      3.961206e+02  3.488045e+02\n",
       "ARPU          2.212649e+01  4.291151e+01\n",
       "Доп. выручка  0.000000e+00  1.592693e+06"
      ]
     },
     "execution_count": 30,
     "metadata": {},
     "output_type": "execute_result"
    }
   ],
   "source": [
    "#Транспонированная таблица для удобства использования\n",
    "plot_summary = ab_summary_2.T \n",
    "plot_summary"
   ]
  },
  {
   "cell_type": "code",
   "execution_count": 31,
   "metadata": {},
   "outputs": [],
   "source": [
    "#Метрики со статзначимыми различиями \n",
    "significant_changes = ['conversion', 'avg_bill', 'ARPU'] "
   ]
  },
  {
   "cell_type": "code",
   "execution_count": 32,
   "metadata": {
    "scrolled": true
   },
   "outputs": [
    {
     "data": {
      "image/png": "[encoded data removed]",
      "text/plain": [
       "<Figure size 1008x288 with 7 Axes>"
      ]
     },
     "metadata": {
      "needs_background": "light"
     },
     "output_type": "display_data"
    }
   ],
   "source": [
    "from matplotlib import gridspec\n",
    "from math import ceil\n",
    "\n",
    "ax = [] \n",
    "# Массив для складирования графиков\n",
    "n_pict_in_line = 4 \n",
    "# Количество картинок в одной линии\n",
    "\n",
    "gs = gridspec.GridSpec(ceil(len(plot_summary) / float(n_pict_in_line)), n_pict_in_line) \n",
    "# Создаём сетку для графиков\n",
    "fig = plt.figure(figsize=(n_pict_in_line*3 + 2,\n",
    "                          ceil(len(plot_summary) / n_pict_in_line) * 2))\n",
    "\n",
    "## Считаем изменение метрики в процентах\n",
    "delta_percent = {}\n",
    "for row in plot_summary.index:  \n",
    "    if 'users_count' != row and 'buyers_count' != row and 'revenue' != row and \"Доп. выручка\" != row and 'avg_bill'!=row:\n",
    "        delta_percent[row] = '(' + str(round(plot_summary.loc[row, :].max()/\\\n",
    "                                  plot_summary.loc[row, :].min()*100 - 100, 1)) + '%)'\n",
    "    elif 'users_count' != row and 'buyers_count' != row and 'revenue' != row and \"Доп. выручка\" != row and\\\n",
    "    'conversion'!=row and 'ARPU'!=row:\n",
    "        delta_percent[row] = '(' + str(round(100-plot_summary.loc[row, :].min()/\\\n",
    "                                  plot_summary.loc[row, :].max()*100,1)) + '%)'   \n",
    "fig.suptitle('Результаты АБ-теста со скидками от 5 августа 2019 до 11 августа 2019')\n",
    "\n",
    "## Строим графики\n",
    "for i, col in enumerate(plot_summary.index):\n",
    "    ax.append(plt.subplot(gs[i // n_pict_in_line, i % n_pict_in_line])) \n",
    "# Добавляем subplot в нужную клетку\n",
    "    plot_summary.loc[[col], :].plot(kind='bar', rot=0, ax=ax[i], alpha=0.8, \n",
    "# Строим график в нужной клетке\n",
    "                                   yerr=conf_intervals[col] if col in conf_intervals else 0) \n",
    "    \n",
    "    \n",
    "# Редактируем подпись к графику, чтобы в ней хранилась информация о значимости различий \n",
    "    stars = ' * ' if col in significant_changes else '' \n",
    "    ticks = ax[-1].get_xticklabels()\n",
    "    ticks[0] = col + stars + delta_percent[col] if col in delta_percent else col + stars\n",
    "    ax[-1].set_xticklabels(ticks)\n",
    "    ax[-1].set_yticks([])\n",
    "    set_labels(axes=ax[i])"
   ]
  },
  {
   "cell_type": "markdown",
   "metadata": {},
   "source": [
    "#### ВЫВОД:\n",
    "1. Введение скидок способствовало:\n",
    "- значимому увеличению ARPU на 93%\n",
    "- значимому увеличению конверсии на 120%\n",
    "- значимому падению среднего чека на 11,9%.\n",
    "\n",
    "2. Дополнительная выручка составила - 1 592 693 рубля\n",
    "\n",
    "Введение скидок значительно увеличило прибыль"
   ]
  }
 ],
 "metadata": {
  "kernelspec": {
   "display_name": "Python 3",
   "language": "python",
   "name": "python3"
  },
  "language_info": {
   "codemirror_mode": {
    "name": "ipython",
    "version": 3
   },
   "file_extension": ".py",
   "mimetype": "text/x-python",
   "name": "python",
   "nbconvert_exporter": "python",
   "pygments_lexer": "ipython3",
   "version": "3.8.5"
  }
 },
 "nbformat": 4,
 "nbformat_minor": 4
}
