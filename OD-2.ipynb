{
 "cells": [
  {
   "cell_type": "markdown",
   "metadata": {},
   "source": [
    "## САМОСТОЯТЕЛЬНАЯ РАБОТА\n",
    "\n",
    "## Оценка продуктовой фичи\n",
    "\n",
    "#### Задачи: \n",
    "- Посчитать показатели Retention Rate седьмого дня и ARPPU за два периода: до и после внедрения фичи.\n",
    "- Сформировать выводы по анализу.\n",
    "\n",
    "#### Примечание: \n",
    "- т.к.в задании нет конкретного пояснения, каких пользователей учитывать, буду считать так, как представлено в модуле OD-2,т.е. \"коэффициент удержания\" и среднюю выручку от платящего пользователя в мае - для пользователей, которые зарегистрировались в мае, а в июне только тех, кто зарегистрировался в июне.\n",
    "\n",
    "#### Критерии оценки:\n",
    "\n",
    "- Отсутствие ошибок: ноутбук открывается без ошибок.\n",
    "- Retention Rate седьмого дня: показатель рассчитан для периодов до и после внедрения фичи.\n",
    "- ARPPU: показатель рассчитан для периодов до и после внедрения фичи.\n",
    "- Представлены выводы, сделанные на основе анализа.\n",
    "\n",
    "#### Требованиях к ответу:\n",
    "\n",
    "- Ответ должен быть в виде ipynb-файла.\n",
    "- Ipynb-файл должен запускаться и выполняться без необходимости изменять порядок действий. То есть при нажатии кнопки Restart Kernel & Re-run the whole notebook ноутбук должен выполниться без ошибок и выдать в конце результат проверки второй гипотезы.\n",
    "- Результатом выполнения задания является написанный алгоритм, который производит вычисления и выводит данные, на основе которых можно подтвердить или опровергнуть гипотезу.\n",
    "- Обязательно наличие выводов в формате ячеек с Markdown.\n",
    "- Большим плюсом (но это не обязательное условие) будет, если в ходе алгоритма даны комментарии к коду (в виде комментариев Python или в разметке Markdown в Jupyter Notebook) с описанием назначения создаваемых переменных и выражений."
   ]
  },
  {
   "cell_type": "code",
   "execution_count": 1,
   "metadata": {},
   "outputs": [
    {
     "name": "stdout",
     "output_type": "stream",
     "text": [
      "Requirement already satisfied: psycopg2 in c:\\users\\shirs\\anaconda3\\lib\\site-packages (2.9.1)\n"
     ]
    }
   ],
   "source": [
    "! pip install psycopg2"
   ]
  },
  {
   "cell_type": "code",
   "execution_count": 2,
   "metadata": {},
   "outputs": [],
   "source": [
    "# Импортируем необходимые библиотеки\n",
    "%matplotlib inline\n",
    "import pandas as pd\n",
    "import numpy as np\n",
    "import psycopg2  \n",
    "import psycopg2.extras "
   ]
  },
  {
   "cell_type": "markdown",
   "metadata": {},
   "source": [
    "#### Задача 1\n",
    "Посчитать показатели Retention Rate седьмого дня за два периода: до и после внедрения фичи."
   ]
  },
  {
   "cell_type": "code",
   "execution_count": 3,
   "metadata": {},
   "outputs": [],
   "source": [
    "# Создадим функцию getRegisteredUsersCount(), в которой выполним SQL-запрос.\n",
    "# Подсчитаем количество зарегистрировавшихся пользователей за май-июнь 2019 года в разрезе дней регистрации.\n",
    "# Запишем полученные данные в датафрейм.\n",
    "\n",
    "def getRegisteredUsersCount():\n",
    "    query = '''SELECT r.registration_date, count(distinct(r.user_id)) as registered_users_count\n",
    "    FROM case9.registration r\n",
    "    WHERE r.registration_date >= '2019-05-01' and r.registration_date < '2019-07-01'\n",
    "    GROUP BY 1\n",
    "    '''.format()\n",
    "    conn = psycopg2.connect(\"dbname='skillfactory' user='skillfactory' host='84.201.134.129' password='cCkxxLVrDE8EbvjueeMedPKt' port=5432\")\n",
    "    dict_cur = conn.cursor(cursor_factory=psycopg2.extras.DictCursor)\n",
    "    dict_cur.execute(query)\n",
    "    rows = dict_cur.fetchall()\n",
    "    data = []\n",
    "    for row in rows:\n",
    "        data.append(dict(row))\n",
    "    return data\n",
    "registered_users_count = pd.DataFrame(getRegisteredUsersCount())"
   ]
  },
  {
   "cell_type": "code",
   "execution_count": 4,
   "metadata": {
    "scrolled": false
   },
   "outputs": [
    {
     "name": "stdout",
     "output_type": "stream",
     "text": [
      "<class 'pandas.core.frame.DataFrame'>\n",
      "RangeIndex: 61 entries, 0 to 60\n",
      "Data columns (total 2 columns):\n",
      " #   Column                  Non-Null Count  Dtype \n",
      "---  ------                  --------------  ----- \n",
      " 0   registration_date       61 non-null     object\n",
      " 1   registered_users_count  61 non-null     int64 \n",
      "dtypes: int64(1), object(1)\n",
      "memory usage: 1.1+ KB\n"
     ]
    }
   ],
   "source": [
    "# Посмотрим на данные\n",
    "registered_users_count.info()"
   ]
  },
  {
   "cell_type": "code",
   "execution_count": 5,
   "metadata": {
    "scrolled": true
   },
   "outputs": [
    {
     "data": {
      "text/html": [
       "<div>\n",
       "<style scoped>\n",
       "    .dataframe tbody tr th:only-of-type {\n",
       "        vertical-align: middle;\n",
       "    }\n",
       "\n",
       "    .dataframe tbody tr th {\n",
       "        vertical-align: top;\n",
       "    }\n",
       "\n",
       "    .dataframe thead th {\n",
       "        text-align: right;\n",
       "    }\n",
       "</style>\n",
       "<table border=\"1\" class=\"dataframe\">\n",
       "  <thead>\n",
       "    <tr style=\"text-align: right;\">\n",
       "      <th></th>\n",
       "      <th>registration_date</th>\n",
       "      <th>registered_users_count</th>\n",
       "    </tr>\n",
       "  </thead>\n",
       "  <tbody>\n",
       "    <tr>\n",
       "      <th>0</th>\n",
       "      <td>2019-05-01</td>\n",
       "      <td>6516</td>\n",
       "    </tr>\n",
       "    <tr>\n",
       "      <th>1</th>\n",
       "      <td>2019-05-02</td>\n",
       "      <td>5309</td>\n",
       "    </tr>\n",
       "    <tr>\n",
       "      <th>2</th>\n",
       "      <td>2019-05-03</td>\n",
       "      <td>6266</td>\n",
       "    </tr>\n",
       "    <tr>\n",
       "      <th>3</th>\n",
       "      <td>2019-05-04</td>\n",
       "      <td>8639</td>\n",
       "    </tr>\n",
       "    <tr>\n",
       "      <th>4</th>\n",
       "      <td>2019-05-05</td>\n",
       "      <td>9787</td>\n",
       "    </tr>\n",
       "  </tbody>\n",
       "</table>\n",
       "</div>"
      ],
      "text/plain": [
       "  registration_date  registered_users_count\n",
       "0        2019-05-01                    6516\n",
       "1        2019-05-02                    5309\n",
       "2        2019-05-03                    6266\n",
       "3        2019-05-04                    8639\n",
       "4        2019-05-05                    9787"
      ]
     },
     "execution_count": 5,
     "metadata": {},
     "output_type": "execute_result"
    }
   ],
   "source": [
    "registered_users_count.head()"
   ]
  },
  {
   "cell_type": "code",
   "execution_count": 6,
   "metadata": {},
   "outputs": [],
   "source": [
    "# Преобразуем столбец с датой в тип datetime\n",
    "registered_users_count['registration_date']=pd.to_datetime(registered_users_count['registration_date'])"
   ]
  },
  {
   "cell_type": "code",
   "execution_count": 7,
   "metadata": {},
   "outputs": [],
   "source": [
    "# Получим данные об активных пользователях \n",
    "# и подсчитаем по дням количество активных пользователей с указанием даты регистрации.\n",
    "# дата регистрации будет выступать в качестве когорты. \n",
    "# Создадим функцию getActiveUsersCountWithCohorts() \n",
    "# Запишем данные, полученные с помощью этой функции, в датафрейм active_users_count_with_cohorts.\n",
    "\n",
    "def getActiveUsersCountWithCohorts():\n",
    "    query = '''SELECT ac.activity_date, r.registration_date, count(distinct(ac.user_id)) as active_users_count\n",
    "    FROM case9.user_activity ac\n",
    "    LEFT JOIN case9.registration r ON r.user_id = ac.user_id\n",
    "    WHERE r.registration_date >= '2019-05-01' and r.registration_date < '2019-07-01'\n",
    "    GROUP BY 1,2\n",
    "    '''.format()\n",
    "    conn = psycopg2.connect(\"dbname='skillfactory' user='skillfactory' host='84.201.134.129' password='cCkxxLVrDE8EbvjueeMedPKt' port=5432\")\n",
    "    dict_cur = conn.cursor(cursor_factory=psycopg2.extras.DictCursor)\n",
    "    dict_cur.execute(query)\n",
    "    rows = dict_cur.fetchall()\n",
    "    data = []\n",
    "    for row in rows:\n",
    "        data.append(dict(row))\n",
    "    return data \n",
    "active_users_count_with_cohorts = pd.DataFrame(getActiveUsersCountWithCohorts())"
   ]
  },
  {
   "cell_type": "code",
   "execution_count": 8,
   "metadata": {},
   "outputs": [
    {
     "name": "stdout",
     "output_type": "stream",
     "text": [
      "<class 'pandas.core.frame.DataFrame'>\n",
      "RangeIndex: 1891 entries, 0 to 1890\n",
      "Data columns (total 3 columns):\n",
      " #   Column              Non-Null Count  Dtype \n",
      "---  ------              --------------  ----- \n",
      " 0   activity_date       1891 non-null   object\n",
      " 1   registration_date   1891 non-null   object\n",
      " 2   active_users_count  1891 non-null   int64 \n",
      "dtypes: int64(1), object(2)\n",
      "memory usage: 44.4+ KB\n"
     ]
    }
   ],
   "source": [
    "# Посмотрим на данные\n",
    "active_users_count_with_cohorts.info()"
   ]
  },
  {
   "cell_type": "code",
   "execution_count": 9,
   "metadata": {},
   "outputs": [
    {
     "data": {
      "text/html": [
       "<div>\n",
       "<style scoped>\n",
       "    .dataframe tbody tr th:only-of-type {\n",
       "        vertical-align: middle;\n",
       "    }\n",
       "\n",
       "    .dataframe tbody tr th {\n",
       "        vertical-align: top;\n",
       "    }\n",
       "\n",
       "    .dataframe thead th {\n",
       "        text-align: right;\n",
       "    }\n",
       "</style>\n",
       "<table border=\"1\" class=\"dataframe\">\n",
       "  <thead>\n",
       "    <tr style=\"text-align: right;\">\n",
       "      <th></th>\n",
       "      <th>activity_date</th>\n",
       "      <th>registration_date</th>\n",
       "      <th>active_users_count</th>\n",
       "    </tr>\n",
       "  </thead>\n",
       "  <tbody>\n",
       "    <tr>\n",
       "      <th>0</th>\n",
       "      <td>2019-05-01</td>\n",
       "      <td>2019-05-01</td>\n",
       "      <td>2590</td>\n",
       "    </tr>\n",
       "    <tr>\n",
       "      <th>1</th>\n",
       "      <td>2019-05-02</td>\n",
       "      <td>2019-05-01</td>\n",
       "      <td>2146</td>\n",
       "    </tr>\n",
       "    <tr>\n",
       "      <th>2</th>\n",
       "      <td>2019-05-02</td>\n",
       "      <td>2019-05-02</td>\n",
       "      <td>2049</td>\n",
       "    </tr>\n",
       "    <tr>\n",
       "      <th>3</th>\n",
       "      <td>2019-05-03</td>\n",
       "      <td>2019-05-01</td>\n",
       "      <td>1637</td>\n",
       "    </tr>\n",
       "    <tr>\n",
       "      <th>4</th>\n",
       "      <td>2019-05-03</td>\n",
       "      <td>2019-05-02</td>\n",
       "      <td>1817</td>\n",
       "    </tr>\n",
       "  </tbody>\n",
       "</table>\n",
       "</div>"
      ],
      "text/plain": [
       "  activity_date registration_date  active_users_count\n",
       "0    2019-05-01        2019-05-01                2590\n",
       "1    2019-05-02        2019-05-01                2146\n",
       "2    2019-05-02        2019-05-02                2049\n",
       "3    2019-05-03        2019-05-01                1637\n",
       "4    2019-05-03        2019-05-02                1817"
      ]
     },
     "execution_count": 9,
     "metadata": {},
     "output_type": "execute_result"
    }
   ],
   "source": [
    "active_users_count_with_cohorts.head()"
   ]
  },
  {
   "cell_type": "code",
   "execution_count": 10,
   "metadata": {},
   "outputs": [],
   "source": [
    "# Преобразуем столбцы с датой в тип datetime\n",
    "for col in ['registration_date', 'activity_date']:\n",
    "    active_users_count_with_cohorts[col]=pd.to_datetime(active_users_count_with_cohorts[col])"
   ]
  },
  {
   "cell_type": "code",
   "execution_count": 11,
   "metadata": {},
   "outputs": [
    {
     "name": "stdout",
     "output_type": "stream",
     "text": [
      "<class 'pandas.core.frame.DataFrame'>\n",
      "Int64Index: 1891 entries, 0 to 1890\n",
      "Data columns (total 4 columns):\n",
      " #   Column                  Non-Null Count  Dtype         \n",
      "---  ------                  --------------  -----         \n",
      " 0   activity_date           1891 non-null   datetime64[ns]\n",
      " 1   registration_date       1891 non-null   datetime64[ns]\n",
      " 2   active_users_count      1891 non-null   int64         \n",
      " 3   registered_users_count  1891 non-null   int64         \n",
      "dtypes: datetime64[ns](2), int64(2)\n",
      "memory usage: 73.9 KB\n"
     ]
    }
   ],
   "source": [
    "# Объединим таблицы, чтобы рассчитать процент вернувшихся пользователей на определённый день\n",
    "retention_table=active_users_count_with_cohorts.merge(registered_users_count, on='registration_date', how='left')\n",
    "retention_table.info()"
   ]
  },
  {
   "cell_type": "code",
   "execution_count": 12,
   "metadata": {},
   "outputs": [
    {
     "data": {
      "text/html": [
       "<div>\n",
       "<style scoped>\n",
       "    .dataframe tbody tr th:only-of-type {\n",
       "        vertical-align: middle;\n",
       "    }\n",
       "\n",
       "    .dataframe tbody tr th {\n",
       "        vertical-align: top;\n",
       "    }\n",
       "\n",
       "    .dataframe thead th {\n",
       "        text-align: right;\n",
       "    }\n",
       "</style>\n",
       "<table border=\"1\" class=\"dataframe\">\n",
       "  <thead>\n",
       "    <tr style=\"text-align: right;\">\n",
       "      <th></th>\n",
       "      <th>activity_date</th>\n",
       "      <th>registration_date</th>\n",
       "      <th>active_users_count</th>\n",
       "      <th>registered_users_count</th>\n",
       "    </tr>\n",
       "  </thead>\n",
       "  <tbody>\n",
       "    <tr>\n",
       "      <th>0</th>\n",
       "      <td>2019-05-01</td>\n",
       "      <td>2019-05-01</td>\n",
       "      <td>2590</td>\n",
       "      <td>6516</td>\n",
       "    </tr>\n",
       "    <tr>\n",
       "      <th>1</th>\n",
       "      <td>2019-05-02</td>\n",
       "      <td>2019-05-01</td>\n",
       "      <td>2146</td>\n",
       "      <td>6516</td>\n",
       "    </tr>\n",
       "    <tr>\n",
       "      <th>2</th>\n",
       "      <td>2019-05-02</td>\n",
       "      <td>2019-05-02</td>\n",
       "      <td>2049</td>\n",
       "      <td>5309</td>\n",
       "    </tr>\n",
       "    <tr>\n",
       "      <th>3</th>\n",
       "      <td>2019-05-03</td>\n",
       "      <td>2019-05-01</td>\n",
       "      <td>1637</td>\n",
       "      <td>6516</td>\n",
       "    </tr>\n",
       "    <tr>\n",
       "      <th>4</th>\n",
       "      <td>2019-05-03</td>\n",
       "      <td>2019-05-02</td>\n",
       "      <td>1817</td>\n",
       "      <td>5309</td>\n",
       "    </tr>\n",
       "  </tbody>\n",
       "</table>\n",
       "</div>"
      ],
      "text/plain": [
       "  activity_date registration_date  active_users_count  registered_users_count\n",
       "0    2019-05-01        2019-05-01                2590                    6516\n",
       "1    2019-05-02        2019-05-01                2146                    6516\n",
       "2    2019-05-02        2019-05-02                2049                    5309\n",
       "3    2019-05-03        2019-05-01                1637                    6516\n",
       "4    2019-05-03        2019-05-02                1817                    5309"
      ]
     },
     "execution_count": 12,
     "metadata": {},
     "output_type": "execute_result"
    }
   ],
   "source": [
    "# Посмотрим на первые строки данных\n",
    "retention_table.head()"
   ]
  },
  {
   "cell_type": "code",
   "execution_count": 13,
   "metadata": {},
   "outputs": [
    {
     "data": {
      "text/html": [
       "<div>\n",
       "<style scoped>\n",
       "    .dataframe tbody tr th:only-of-type {\n",
       "        vertical-align: middle;\n",
       "    }\n",
       "\n",
       "    .dataframe tbody tr th {\n",
       "        vertical-align: top;\n",
       "    }\n",
       "\n",
       "    .dataframe thead th {\n",
       "        text-align: right;\n",
       "    }\n",
       "</style>\n",
       "<table border=\"1\" class=\"dataframe\">\n",
       "  <thead>\n",
       "    <tr style=\"text-align: right;\">\n",
       "      <th></th>\n",
       "      <th>activity_date</th>\n",
       "      <th>registration_date</th>\n",
       "      <th>active_users_count</th>\n",
       "      <th>registered_users_count</th>\n",
       "      <th>lifetime</th>\n",
       "    </tr>\n",
       "  </thead>\n",
       "  <tbody>\n",
       "    <tr>\n",
       "      <th>0</th>\n",
       "      <td>2019-05-01</td>\n",
       "      <td>2019-05-01</td>\n",
       "      <td>2590</td>\n",
       "      <td>6516</td>\n",
       "      <td>0</td>\n",
       "    </tr>\n",
       "    <tr>\n",
       "      <th>1</th>\n",
       "      <td>2019-05-02</td>\n",
       "      <td>2019-05-01</td>\n",
       "      <td>2146</td>\n",
       "      <td>6516</td>\n",
       "      <td>1</td>\n",
       "    </tr>\n",
       "    <tr>\n",
       "      <th>2</th>\n",
       "      <td>2019-05-02</td>\n",
       "      <td>2019-05-02</td>\n",
       "      <td>2049</td>\n",
       "      <td>5309</td>\n",
       "      <td>0</td>\n",
       "    </tr>\n",
       "    <tr>\n",
       "      <th>3</th>\n",
       "      <td>2019-05-03</td>\n",
       "      <td>2019-05-01</td>\n",
       "      <td>1637</td>\n",
       "      <td>6516</td>\n",
       "      <td>2</td>\n",
       "    </tr>\n",
       "    <tr>\n",
       "      <th>4</th>\n",
       "      <td>2019-05-03</td>\n",
       "      <td>2019-05-02</td>\n",
       "      <td>1817</td>\n",
       "      <td>5309</td>\n",
       "      <td>1</td>\n",
       "    </tr>\n",
       "  </tbody>\n",
       "</table>\n",
       "</div>"
      ],
      "text/plain": [
       "  activity_date registration_date  active_users_count  registered_users_count  \\\n",
       "0    2019-05-01        2019-05-01                2590                    6516   \n",
       "1    2019-05-02        2019-05-01                2146                    6516   \n",
       "2    2019-05-02        2019-05-02                2049                    5309   \n",
       "3    2019-05-03        2019-05-01                1637                    6516   \n",
       "4    2019-05-03        2019-05-02                1817                    5309   \n",
       "\n",
       "   lifetime  \n",
       "0         0  \n",
       "1         1  \n",
       "2         0  \n",
       "3         2  \n",
       "4         1  "
      ]
     },
     "execution_count": 13,
     "metadata": {},
     "output_type": "execute_result"
    }
   ],
   "source": [
    "# Рассчитаем какое количество дней прошло с момента регистрации до определённого дня активности\n",
    "retention_table['lifetime']=retention_table['activity_date']-retention_table['registration_date']\n",
    "\n",
    "# Чтобы получить целое количество дней, значения в колонке с типом timedelta разделим на константу np.timedelta64(1,'D') \n",
    "retention_table['lifetime']=retention_table['lifetime']/np.timedelta64(1,'D')\n",
    "\n",
    "# Приведем тип к целому числу\n",
    "retention_table['lifetime']=retention_table['lifetime'].astype(int)\n",
    "retention_table.head()"
   ]
  },
  {
   "cell_type": "code",
   "execution_count": 14,
   "metadata": {},
   "outputs": [],
   "source": [
    "# Чтобы посчитать ARPPU, напишем SQL-запрос, который позволит получить выручку по дням в разрезе когорт для пользователей,\n",
    "# зарегистрировавшихся в мае-июне 2019 года. Создадим функцию getRevenue()\n",
    "# запишем данные в датафрейм revenue.\n",
    "\n",
    "def getRevenue():\n",
    "    query = '''SELECT re.date, r.registration_date, count(distinct(re.user_id)) as users_count_with_revenue, sum(re.revenue) as revenue\n",
    "    FROM case9.user_revenue re\n",
    "    LEFT JOIN case9.registration r ON r.user_id = re.user_id\n",
    "    WHERE r.registration_date >= '2019-05-01' and r.registration_date < '2019-07-01'\n",
    "    GROUP BY 1,2\n",
    "    '''.format()\n",
    "    conn = psycopg2.connect(\"dbname='skillfactory' user='skillfactory' host='84.201.134.129' password='cCkxxLVrDE8EbvjueeMedPKt' port=5432\")\n",
    "    dict_cur = conn.cursor(cursor_factory=psycopg2.extras.DictCursor)\n",
    "    dict_cur.execute(query)\n",
    "    rows = dict_cur.fetchall()\n",
    "    data = []\n",
    "    for row in rows:\n",
    "        data.append(dict(row))\n",
    "    return data\n",
    "revenue = pd.DataFrame(getRevenue())"
   ]
  },
  {
   "cell_type": "code",
   "execution_count": 15,
   "metadata": {},
   "outputs": [
    {
     "name": "stdout",
     "output_type": "stream",
     "text": [
      "<class 'pandas.core.frame.DataFrame'>\n",
      "RangeIndex: 1745 entries, 0 to 1744\n",
      "Data columns (total 4 columns):\n",
      " #   Column                    Non-Null Count  Dtype  \n",
      "---  ------                    --------------  -----  \n",
      " 0   date                      1745 non-null   object \n",
      " 1   registration_date         1745 non-null   object \n",
      " 2   users_count_with_revenue  1745 non-null   int64  \n",
      " 3   revenue                   1745 non-null   float64\n",
      "dtypes: float64(1), int64(1), object(2)\n",
      "memory usage: 54.7+ KB\n"
     ]
    }
   ],
   "source": [
    "# Посмотрим на данные\n",
    "revenue.info()"
   ]
  },
  {
   "cell_type": "code",
   "execution_count": 16,
   "metadata": {},
   "outputs": [
    {
     "data": {
      "text/html": [
       "<div>\n",
       "<style scoped>\n",
       "    .dataframe tbody tr th:only-of-type {\n",
       "        vertical-align: middle;\n",
       "    }\n",
       "\n",
       "    .dataframe tbody tr th {\n",
       "        vertical-align: top;\n",
       "    }\n",
       "\n",
       "    .dataframe thead th {\n",
       "        text-align: right;\n",
       "    }\n",
       "</style>\n",
       "<table border=\"1\" class=\"dataframe\">\n",
       "  <thead>\n",
       "    <tr style=\"text-align: right;\">\n",
       "      <th></th>\n",
       "      <th>date</th>\n",
       "      <th>registration_date</th>\n",
       "      <th>users_count_with_revenue</th>\n",
       "      <th>revenue</th>\n",
       "    </tr>\n",
       "  </thead>\n",
       "  <tbody>\n",
       "    <tr>\n",
       "      <th>0</th>\n",
       "      <td>2019-05-01</td>\n",
       "      <td>2019-05-01</td>\n",
       "      <td>1672</td>\n",
       "      <td>2357.580</td>\n",
       "    </tr>\n",
       "    <tr>\n",
       "      <th>1</th>\n",
       "      <td>2019-05-02</td>\n",
       "      <td>2019-05-01</td>\n",
       "      <td>1420</td>\n",
       "      <td>514.679</td>\n",
       "    </tr>\n",
       "    <tr>\n",
       "      <th>2</th>\n",
       "      <td>2019-05-02</td>\n",
       "      <td>2019-05-02</td>\n",
       "      <td>1367</td>\n",
       "      <td>1629.140</td>\n",
       "    </tr>\n",
       "    <tr>\n",
       "      <th>3</th>\n",
       "      <td>2019-05-03</td>\n",
       "      <td>2019-05-01</td>\n",
       "      <td>1048</td>\n",
       "      <td>390.952</td>\n",
       "    </tr>\n",
       "    <tr>\n",
       "      <th>4</th>\n",
       "      <td>2019-05-03</td>\n",
       "      <td>2019-05-02</td>\n",
       "      <td>1164</td>\n",
       "      <td>533.608</td>\n",
       "    </tr>\n",
       "  </tbody>\n",
       "</table>\n",
       "</div>"
      ],
      "text/plain": [
       "        date registration_date  users_count_with_revenue   revenue\n",
       "0 2019-05-01        2019-05-01                      1672  2357.580\n",
       "1 2019-05-02        2019-05-01                      1420   514.679\n",
       "2 2019-05-02        2019-05-02                      1367  1629.140\n",
       "3 2019-05-03        2019-05-01                      1048   390.952\n",
       "4 2019-05-03        2019-05-02                      1164   533.608"
      ]
     },
     "execution_count": 16,
     "metadata": {},
     "output_type": "execute_result"
    }
   ],
   "source": [
    "#Преобразуем дату в формат даты\n",
    "for col in ['date', 'registration_date']:\n",
    "    revenue[col]=pd.to_datetime(revenue[col])\n",
    "revenue.head()"
   ]
  },
  {
   "cell_type": "code",
   "execution_count": 17,
   "metadata": {
    "scrolled": true
   },
   "outputs": [
    {
     "data": {
      "text/html": [
       "<div>\n",
       "<style scoped>\n",
       "    .dataframe tbody tr th:only-of-type {\n",
       "        vertical-align: middle;\n",
       "    }\n",
       "\n",
       "    .dataframe tbody tr th {\n",
       "        vertical-align: top;\n",
       "    }\n",
       "\n",
       "    .dataframe thead th {\n",
       "        text-align: right;\n",
       "    }\n",
       "</style>\n",
       "<table border=\"1\" class=\"dataframe\">\n",
       "  <thead>\n",
       "    <tr style=\"text-align: right;\">\n",
       "      <th></th>\n",
       "      <th>activity_date</th>\n",
       "      <th>registration_date</th>\n",
       "      <th>users_count_with_revenue</th>\n",
       "      <th>revenue</th>\n",
       "    </tr>\n",
       "  </thead>\n",
       "  <tbody>\n",
       "    <tr>\n",
       "      <th>0</th>\n",
       "      <td>2019-05-01</td>\n",
       "      <td>2019-05-01</td>\n",
       "      <td>1672</td>\n",
       "      <td>2357.580</td>\n",
       "    </tr>\n",
       "    <tr>\n",
       "      <th>1</th>\n",
       "      <td>2019-05-02</td>\n",
       "      <td>2019-05-01</td>\n",
       "      <td>1420</td>\n",
       "      <td>514.679</td>\n",
       "    </tr>\n",
       "    <tr>\n",
       "      <th>2</th>\n",
       "      <td>2019-05-02</td>\n",
       "      <td>2019-05-02</td>\n",
       "      <td>1367</td>\n",
       "      <td>1629.140</td>\n",
       "    </tr>\n",
       "    <tr>\n",
       "      <th>3</th>\n",
       "      <td>2019-05-03</td>\n",
       "      <td>2019-05-01</td>\n",
       "      <td>1048</td>\n",
       "      <td>390.952</td>\n",
       "    </tr>\n",
       "    <tr>\n",
       "      <th>4</th>\n",
       "      <td>2019-05-03</td>\n",
       "      <td>2019-05-02</td>\n",
       "      <td>1164</td>\n",
       "      <td>533.608</td>\n",
       "    </tr>\n",
       "  </tbody>\n",
       "</table>\n",
       "</div>"
      ],
      "text/plain": [
       "  activity_date registration_date  users_count_with_revenue   revenue\n",
       "0    2019-05-01        2019-05-01                      1672  2357.580\n",
       "1    2019-05-02        2019-05-01                      1420   514.679\n",
       "2    2019-05-02        2019-05-02                      1367  1629.140\n",
       "3    2019-05-03        2019-05-01                      1048   390.952\n",
       "4    2019-05-03        2019-05-02                      1164   533.608"
      ]
     },
     "execution_count": 17,
     "metadata": {},
     "output_type": "execute_result"
    }
   ],
   "source": [
    "# Перед объединением таблиц переименуем столбей date в activity_date\n",
    "revenue=revenue.rename(columns={'date':'activity_date'})\n",
    "revenue.head()"
   ]
  },
  {
   "cell_type": "code",
   "execution_count": 18,
   "metadata": {},
   "outputs": [
    {
     "data": {
      "text/html": [
       "<div>\n",
       "<style scoped>\n",
       "    .dataframe tbody tr th:only-of-type {\n",
       "        vertical-align: middle;\n",
       "    }\n",
       "\n",
       "    .dataframe tbody tr th {\n",
       "        vertical-align: top;\n",
       "    }\n",
       "\n",
       "    .dataframe thead th {\n",
       "        text-align: right;\n",
       "    }\n",
       "</style>\n",
       "<table border=\"1\" class=\"dataframe\">\n",
       "  <thead>\n",
       "    <tr style=\"text-align: right;\">\n",
       "      <th></th>\n",
       "      <th>activity_date</th>\n",
       "      <th>registration_date</th>\n",
       "      <th>active_users_count</th>\n",
       "      <th>registered_users_count</th>\n",
       "      <th>lifetime</th>\n",
       "      <th>users_count_with_revenue</th>\n",
       "      <th>revenue</th>\n",
       "    </tr>\n",
       "  </thead>\n",
       "  <tbody>\n",
       "    <tr>\n",
       "      <th>0</th>\n",
       "      <td>2019-05-01</td>\n",
       "      <td>2019-05-01</td>\n",
       "      <td>2590</td>\n",
       "      <td>6516</td>\n",
       "      <td>0</td>\n",
       "      <td>1672.0</td>\n",
       "      <td>2357.580</td>\n",
       "    </tr>\n",
       "    <tr>\n",
       "      <th>1</th>\n",
       "      <td>2019-05-02</td>\n",
       "      <td>2019-05-01</td>\n",
       "      <td>2146</td>\n",
       "      <td>6516</td>\n",
       "      <td>1</td>\n",
       "      <td>1420.0</td>\n",
       "      <td>514.679</td>\n",
       "    </tr>\n",
       "    <tr>\n",
       "      <th>2</th>\n",
       "      <td>2019-05-02</td>\n",
       "      <td>2019-05-02</td>\n",
       "      <td>2049</td>\n",
       "      <td>5309</td>\n",
       "      <td>0</td>\n",
       "      <td>1367.0</td>\n",
       "      <td>1629.140</td>\n",
       "    </tr>\n",
       "    <tr>\n",
       "      <th>3</th>\n",
       "      <td>2019-05-03</td>\n",
       "      <td>2019-05-01</td>\n",
       "      <td>1637</td>\n",
       "      <td>6516</td>\n",
       "      <td>2</td>\n",
       "      <td>1048.0</td>\n",
       "      <td>390.952</td>\n",
       "    </tr>\n",
       "    <tr>\n",
       "      <th>4</th>\n",
       "      <td>2019-05-03</td>\n",
       "      <td>2019-05-02</td>\n",
       "      <td>1817</td>\n",
       "      <td>5309</td>\n",
       "      <td>1</td>\n",
       "      <td>1164.0</td>\n",
       "      <td>533.608</td>\n",
       "    </tr>\n",
       "  </tbody>\n",
       "</table>\n",
       "</div>"
      ],
      "text/plain": [
       "  activity_date registration_date  active_users_count  registered_users_count  \\\n",
       "0    2019-05-01        2019-05-01                2590                    6516   \n",
       "1    2019-05-02        2019-05-01                2146                    6516   \n",
       "2    2019-05-02        2019-05-02                2049                    5309   \n",
       "3    2019-05-03        2019-05-01                1637                    6516   \n",
       "4    2019-05-03        2019-05-02                1817                    5309   \n",
       "\n",
       "   lifetime  users_count_with_revenue   revenue  \n",
       "0         0                    1672.0  2357.580  \n",
       "1         1                    1420.0   514.679  \n",
       "2         0                    1367.0  1629.140  \n",
       "3         2                    1048.0   390.952  \n",
       "4         1                    1164.0   533.608  "
      ]
     },
     "execution_count": 18,
     "metadata": {},
     "output_type": "execute_result"
    }
   ],
   "source": [
    "# Объединим таблицу retention_table и revenue\n",
    "retention_table_with_revenue=retention_table.merge(revenue, on=['activity_date','registration_date'], how='left')\n",
    "retention_table_with_revenue.head()"
   ]
  },
  {
   "cell_type": "code",
   "execution_count": 19,
   "metadata": {},
   "outputs": [
    {
     "name": "stdout",
     "output_type": "stream",
     "text": [
      "<class 'pandas.core.frame.DataFrame'>\n",
      "Int64Index: 1891 entries, 0 to 1890\n",
      "Data columns (total 7 columns):\n",
      " #   Column                    Non-Null Count  Dtype         \n",
      "---  ------                    --------------  -----         \n",
      " 0   activity_date             1891 non-null   datetime64[ns]\n",
      " 1   registration_date         1891 non-null   datetime64[ns]\n",
      " 2   active_users_count        1891 non-null   int64         \n",
      " 3   registered_users_count    1891 non-null   int64         \n",
      " 4   lifetime                  1891 non-null   int32         \n",
      " 5   users_count_with_revenue  1745 non-null   float64       \n",
      " 6   revenue                   1745 non-null   float64       \n",
      "dtypes: datetime64[ns](2), float64(2), int32(1), int64(2)\n",
      "memory usage: 110.8 KB\n"
     ]
    }
   ],
   "source": [
    "retention_table_with_revenue.info()"
   ]
  },
  {
   "cell_type": "code",
   "execution_count": 20,
   "metadata": {},
   "outputs": [],
   "source": [
    "# В столбцах user_count_with_revenue и revenue есть пропущенные значения -это говорит о том, что в какие-то даты у каких-то\n",
    "# когорт не было оплат.\n",
    "# Заменим пропущенные значения на 0\n",
    "for col in ['users_count_with_revenue', 'revenue']:\n",
    "    retention_table_with_revenue[col]=retention_table_with_revenue[col].fillna(0)"
   ]
  },
  {
   "cell_type": "code",
   "execution_count": 21,
   "metadata": {
    "scrolled": true
   },
   "outputs": [
    {
     "name": "stdout",
     "output_type": "stream",
     "text": [
      "<class 'pandas.core.frame.DataFrame'>\n",
      "Int64Index: 1891 entries, 0 to 1890\n",
      "Data columns (total 7 columns):\n",
      " #   Column                    Non-Null Count  Dtype         \n",
      "---  ------                    --------------  -----         \n",
      " 0   activity_date             1891 non-null   datetime64[ns]\n",
      " 1   registration_date         1891 non-null   datetime64[ns]\n",
      " 2   active_users_count        1891 non-null   int64         \n",
      " 3   registered_users_count    1891 non-null   int64         \n",
      " 4   lifetime                  1891 non-null   int32         \n",
      " 5   users_count_with_revenue  1891 non-null   float64       \n",
      " 6   revenue                   1891 non-null   float64       \n",
      "dtypes: datetime64[ns](2), float64(2), int32(1), int64(2)\n",
      "memory usage: 110.8 KB\n"
     ]
    }
   ],
   "source": [
    "retention_table_with_revenue.info()"
   ]
  },
  {
   "cell_type": "code",
   "execution_count": 22,
   "metadata": {},
   "outputs": [
    {
     "name": "stdout",
     "output_type": "stream",
     "text": [
      "Retention Rate 7 дня активности пользователей, зарегистрировавшихся в мае 2019, составляет 12.93 %\n"
     ]
    }
   ],
   "source": [
    "# Выделим данные активности пользавателей на 7 день после регистрации (май 2019)\n",
    "may_retention_rate_7_table=retention_table_with_revenue[(retention_table_with_revenue['lifetime']==7)&\\\n",
    "(retention_table_with_revenue['registration_date']>='2019-05-01')&\\\n",
    "(retention_table_with_revenue['registration_date']<'2019-06-01')]\n",
    "\n",
    "# Посчитаем Retention Rate 7 дня активности для пользователей, зарегистрировавшихся в мае 2019 \n",
    "may_retention_rate_7=round(may_retention_rate_7_table['active_users_count'].sum()/\\\n",
    "may_retention_rate_7_table['registered_users_count'].sum()*100, 2)\n",
    "print('Retention Rate 7 дня активности пользователей, зарегистрировавшихся в мае 2019, составляет {} %'.format(may_retention_rate_7))\n"
   ]
  },
  {
   "cell_type": "code",
   "execution_count": 23,
   "metadata": {},
   "outputs": [
    {
     "name": "stdout",
     "output_type": "stream",
     "text": [
      "Retention Rate 7 дня активности пользователей, зарегистрировавшихся в июне 2019, составляет 12.56 %\n"
     ]
    }
   ],
   "source": [
    "# Выделим данные активности пользавателей на 7 день после регистрации (июнь 2019)\n",
    "june_retention_rate_7_table=retention_table_with_revenue[(retention_table_with_revenue['lifetime']==7)&\\\n",
    "(retention_table_with_revenue['registration_date']>='2019-06-01')&(retention_table_with_revenue['registration_date']<'2019-07-01')]\n",
    "\n",
    "#june_retention_rate_7_table\n",
    "# Посчитаем Retention Rate 7 дня активности для пользователей, зарегистрировавшихся в июне 2019\n",
    "june_retention_rate_7=round(june_retention_rate_7_table['active_users_count'].sum()/june_retention_rate_7_table['registered_users_count'].sum()*100, 2)\n",
    "print('Retention Rate 7 дня активности пользователей, зарегистрировавшихся в июне 2019, составляет {} %'.format(june_retention_rate_7))"
   ]
  },
  {
   "cell_type": "markdown",
   "metadata": {},
   "source": [
    "### Задача 2\n",
    "Посчитать показатели ARPPU за два периода: до и после внедрения фичи."
   ]
  },
  {
   "cell_type": "code",
   "execution_count": 24,
   "metadata": {
    "scrolled": false
   },
   "outputs": [
    {
     "data": {
      "text/html": [
       "<div>\n",
       "<style scoped>\n",
       "    .dataframe tbody tr th:only-of-type {\n",
       "        vertical-align: middle;\n",
       "    }\n",
       "\n",
       "    .dataframe tbody tr th {\n",
       "        vertical-align: top;\n",
       "    }\n",
       "\n",
       "    .dataframe thead th {\n",
       "        text-align: right;\n",
       "    }\n",
       "</style>\n",
       "<table border=\"1\" class=\"dataframe\">\n",
       "  <thead>\n",
       "    <tr style=\"text-align: right;\">\n",
       "      <th></th>\n",
       "      <th>activity_date</th>\n",
       "      <th>registration_date</th>\n",
       "      <th>active_users_count</th>\n",
       "      <th>registered_users_count</th>\n",
       "      <th>lifetime</th>\n",
       "      <th>users_count_with_revenue</th>\n",
       "      <th>revenue</th>\n",
       "    </tr>\n",
       "  </thead>\n",
       "  <tbody>\n",
       "    <tr>\n",
       "      <th>0</th>\n",
       "      <td>2019-05-01</td>\n",
       "      <td>2019-05-01</td>\n",
       "      <td>2590</td>\n",
       "      <td>6516</td>\n",
       "      <td>0</td>\n",
       "      <td>1672.0</td>\n",
       "      <td>2357.580</td>\n",
       "    </tr>\n",
       "    <tr>\n",
       "      <th>1</th>\n",
       "      <td>2019-05-02</td>\n",
       "      <td>2019-05-01</td>\n",
       "      <td>2146</td>\n",
       "      <td>6516</td>\n",
       "      <td>1</td>\n",
       "      <td>1420.0</td>\n",
       "      <td>514.679</td>\n",
       "    </tr>\n",
       "    <tr>\n",
       "      <th>2</th>\n",
       "      <td>2019-05-02</td>\n",
       "      <td>2019-05-02</td>\n",
       "      <td>2049</td>\n",
       "      <td>5309</td>\n",
       "      <td>0</td>\n",
       "      <td>1367.0</td>\n",
       "      <td>1629.140</td>\n",
       "    </tr>\n",
       "    <tr>\n",
       "      <th>3</th>\n",
       "      <td>2019-05-03</td>\n",
       "      <td>2019-05-01</td>\n",
       "      <td>1637</td>\n",
       "      <td>6516</td>\n",
       "      <td>2</td>\n",
       "      <td>1048.0</td>\n",
       "      <td>390.952</td>\n",
       "    </tr>\n",
       "    <tr>\n",
       "      <th>4</th>\n",
       "      <td>2019-05-03</td>\n",
       "      <td>2019-05-02</td>\n",
       "      <td>1817</td>\n",
       "      <td>5309</td>\n",
       "      <td>1</td>\n",
       "      <td>1164.0</td>\n",
       "      <td>533.608</td>\n",
       "    </tr>\n",
       "  </tbody>\n",
       "</table>\n",
       "</div>"
      ],
      "text/plain": [
       "  activity_date registration_date  active_users_count  registered_users_count  \\\n",
       "0    2019-05-01        2019-05-01                2590                    6516   \n",
       "1    2019-05-02        2019-05-01                2146                    6516   \n",
       "2    2019-05-02        2019-05-02                2049                    5309   \n",
       "3    2019-05-03        2019-05-01                1637                    6516   \n",
       "4    2019-05-03        2019-05-02                1817                    5309   \n",
       "\n",
       "   lifetime  users_count_with_revenue   revenue  \n",
       "0         0                    1672.0  2357.580  \n",
       "1         1                    1420.0   514.679  \n",
       "2         0                    1367.0  1629.140  \n",
       "3         2                    1048.0   390.952  \n",
       "4         1                    1164.0   533.608  "
      ]
     },
     "execution_count": 24,
     "metadata": {},
     "output_type": "execute_result"
    }
   ],
   "source": [
    "# Отфильтруем данные с регистрацией пользователей в мае 2019\n",
    "may_retention_table_with_revenue=retention_table_with_revenue[(retention_table_with_revenue['registration_date']>='2019-05-01')&\\\n",
    "(retention_table_with_revenue['registration_date']<'2019-06-01')]\n",
    "may_retention_table_with_revenue.head()"
   ]
  },
  {
   "cell_type": "code",
   "execution_count": 25,
   "metadata": {},
   "outputs": [
    {
     "name": "stdout",
     "output_type": "stream",
     "text": [
      "ARPPU для пользователей, зарегистрировавшихся в мае 2019 - 0.31 y.e.\n"
     ]
    }
   ],
   "source": [
    "# Посчитаем показатель ARPPU для пользователей, зарегистрировавшихся в мае 2019\n",
    "may_ARPPU=round(may_retention_table_with_revenue['revenue'].sum()/may_retention_table_with_revenue['users_count_with_revenue'].sum(),2)\n",
    "print('ARPPU для пользователей, зарегистрировавшихся в мае 2019 - {} y.e.'.format(may_ARPPU))"
   ]
  },
  {
   "cell_type": "code",
   "execution_count": 26,
   "metadata": {},
   "outputs": [
    {
     "data": {
      "text/html": [
       "<div>\n",
       "<style scoped>\n",
       "    .dataframe tbody tr th:only-of-type {\n",
       "        vertical-align: middle;\n",
       "    }\n",
       "\n",
       "    .dataframe tbody tr th {\n",
       "        vertical-align: top;\n",
       "    }\n",
       "\n",
       "    .dataframe thead th {\n",
       "        text-align: right;\n",
       "    }\n",
       "</style>\n",
       "<table border=\"1\" class=\"dataframe\">\n",
       "  <thead>\n",
       "    <tr style=\"text-align: right;\">\n",
       "      <th></th>\n",
       "      <th>activity_date</th>\n",
       "      <th>registration_date</th>\n",
       "      <th>active_users_count</th>\n",
       "      <th>registered_users_count</th>\n",
       "      <th>lifetime</th>\n",
       "      <th>users_count_with_revenue</th>\n",
       "      <th>revenue</th>\n",
       "    </tr>\n",
       "  </thead>\n",
       "  <tbody>\n",
       "    <tr>\n",
       "      <th>526</th>\n",
       "      <td>2019-06-01</td>\n",
       "      <td>2019-06-01</td>\n",
       "      <td>1651</td>\n",
       "      <td>4833</td>\n",
       "      <td>0</td>\n",
       "      <td>1082.0</td>\n",
       "      <td>1611.860</td>\n",
       "    </tr>\n",
       "    <tr>\n",
       "      <th>556</th>\n",
       "      <td>2019-06-02</td>\n",
       "      <td>2019-06-01</td>\n",
       "      <td>1429</td>\n",
       "      <td>4833</td>\n",
       "      <td>1</td>\n",
       "      <td>928.0</td>\n",
       "      <td>317.738</td>\n",
       "    </tr>\n",
       "    <tr>\n",
       "      <th>557</th>\n",
       "      <td>2019-06-02</td>\n",
       "      <td>2019-06-02</td>\n",
       "      <td>1933</td>\n",
       "      <td>5255</td>\n",
       "      <td>0</td>\n",
       "      <td>1257.0</td>\n",
       "      <td>1305.220</td>\n",
       "    </tr>\n",
       "    <tr>\n",
       "      <th>586</th>\n",
       "      <td>2019-06-03</td>\n",
       "      <td>2019-06-01</td>\n",
       "      <td>1021</td>\n",
       "      <td>4833</td>\n",
       "      <td>2</td>\n",
       "      <td>623.0</td>\n",
       "      <td>192.273</td>\n",
       "    </tr>\n",
       "    <tr>\n",
       "      <th>587</th>\n",
       "      <td>2019-06-03</td>\n",
       "      <td>2019-06-02</td>\n",
       "      <td>1550</td>\n",
       "      <td>5255</td>\n",
       "      <td>1</td>\n",
       "      <td>1008.0</td>\n",
       "      <td>554.858</td>\n",
       "    </tr>\n",
       "  </tbody>\n",
       "</table>\n",
       "</div>"
      ],
      "text/plain": [
       "    activity_date registration_date  active_users_count  \\\n",
       "526    2019-06-01        2019-06-01                1651   \n",
       "556    2019-06-02        2019-06-01                1429   \n",
       "557    2019-06-02        2019-06-02                1933   \n",
       "586    2019-06-03        2019-06-01                1021   \n",
       "587    2019-06-03        2019-06-02                1550   \n",
       "\n",
       "     registered_users_count  lifetime  users_count_with_revenue   revenue  \n",
       "526                    4833         0                    1082.0  1611.860  \n",
       "556                    4833         1                     928.0   317.738  \n",
       "557                    5255         0                    1257.0  1305.220  \n",
       "586                    4833         2                     623.0   192.273  \n",
       "587                    5255         1                    1008.0   554.858  "
      ]
     },
     "execution_count": 26,
     "metadata": {},
     "output_type": "execute_result"
    }
   ],
   "source": [
    "# Отфильтруем данные с регистрацией пользователей в июне 2019\n",
    "june_retention_table_with_revenue=retention_table_with_revenue[(retention_table_with_revenue['registration_date']>='2019-06-01')&\\\n",
    "(retention_table_with_revenue['registration_date']<'2019-07-01')]\n",
    "june_retention_table_with_revenue.head()"
   ]
  },
  {
   "cell_type": "code",
   "execution_count": 27,
   "metadata": {},
   "outputs": [
    {
     "name": "stdout",
     "output_type": "stream",
     "text": [
      "ARPPU для пользователей, зарегистрировавшихся в июне 2019 - 0.39 y.e.\n"
     ]
    }
   ],
   "source": [
    "# Посчитаем показатель ARPPU для пользователей, зарегистрировавшихся в июне 2019\n",
    "june_ARPPU=round(june_retention_table_with_revenue['revenue'].sum()/june_retention_table_with_revenue['users_count_with_revenue'].sum(),2)\n",
    "print('ARPPU для пользователей, зарегистрировавшихся в июне 2019 - {} y.e.'.format(june_ARPPU))"
   ]
  },
  {
   "cell_type": "code",
   "execution_count": 28,
   "metadata": {},
   "outputs": [
    {
     "data": {
      "text/plain": [
       "1.26"
      ]
     },
     "execution_count": 28,
     "metadata": {},
     "output_type": "execute_result"
    }
   ],
   "source": [
    "# Посчитаем во сколько раз увеличился ARPPU в июне по сравнению с маем\n",
    "round(june_ARPPU/may_ARPPU,2)\n"
   ]
  },
  {
   "cell_type": "markdown",
   "metadata": {},
   "source": [
    "#### Выводы:\n",
    "1. Показатель Retention Rate седьмого дня после внедрения фичи незначительно ниже, чем до ее внедрения:\n",
    "    \n",
    "        -Retention Rate 7 дня активности пользователей, зарегистрировавшихся в мае 2019, составляет 12.93 % \n",
    "        -Retention Rate 7 дня активности пользователей, зарегистрировавшихся в июне 2019, составляет 12.56 %\n",
    "            \n",
    "2. Показатель ARPPU после внедрения фичи (июнь 2019) вырос в 1.26 раза (на 26%) по сравнению с таким же периодом до введения фичи (май 2019):\n",
    "        \n",
    "        -ARPPU для пользователей, зарегистрировавшихся в мае 2019 - 0.31 y.e.\n",
    "        -ARPPU для пользователей, зарегистрировавшихся в июне 2019 - 0.39 y.e.\n",
    "       \n",
    "3. По имеющимся данным можно сделать вывод, что в первый месяц внедрения фичи коэффициент удержания клиентов практически не изменился, однако на 26% увеличился средний доход с активного (платящего) пользователя. В первый месяц фича оказалось эффективной, нужно оценивать в динамике."
   ]
  }
 ],
 "metadata": {
  "kernelspec": {
   "display_name": "Python 3",
   "language": "python",
   "name": "python3"
  },
  "language_info": {
   "codemirror_mode": {
    "name": "ipython",
    "version": 3
   },
   "file_extension": ".py",
   "mimetype": "text/x-python",
   "name": "python",
   "nbconvert_exporter": "python",
   "pygments_lexer": "ipython3",
   "version": "3.8.5"
  }
 },
 "nbformat": 4,
 "nbformat_minor": 4
}
