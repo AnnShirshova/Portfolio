{
 "cells": [
  {
   "cell_type": "markdown",
   "metadata": {},
   "source": [
    "## PROJECT-3. Решение комплексной бизнес-задачи"
   ]
  },
  {
   "cell_type": "markdown",
   "metadata": {},
   "source": [
    "### Цель:\n",
    "-  создать рекомендательную систему по курсам, чтобы организовать их допродажу для увеличения среднего чека. "
   ]
  },
  {
   "cell_type": "markdown",
   "metadata": {},
   "source": [
    "### Задачи:\n",
    "- Построить рекомендательную систему, благодаря которой можно будет предлагать клиентам интересные им курсы. \n",
    "- Подготовить и проанализировать имеющиеся данные.\n",
    "- Составить итоговую таблицу с рекомендациями, снабдив её необходимыми комментариями, и представить  продакт-менеджеру."
   ]
  },
  {
   "cell_type": "markdown",
   "metadata": {},
   "source": [
    "### План:\n",
    "- Знакомство с датасетом.\n",
    "- Подготовка данных (при помощи SQL).\n",
    "- Обработка данных (при помощи Python).\n",
    "- Составление отчета (таблицу с рекомендациями)"
   ]
  },
  {
   "cell_type": "markdown",
   "metadata": {},
   "source": [
    "--С помощью SQL-запроса выведем данные с id-пользователей и id, приобретенных ими курсов. Возьмем данные только по тем пользователям, которые приобрели два и более курса.--\n",
    "\n",
    "with user_resource as (\n",
    "  \n",
    "  select \n",
    "    \n",
    "    distinct c.user_id, \n",
    "    \n",
    "    ci.resource_id \n",
    "  \n",
    "  from \n",
    "    \n",
    "    final.cart_items ci \n",
    "    \n",
    "    join final.carts c on ci.cart_id = c.id \n",
    "  \n",
    "  where \n",
    "    \n",
    "    resource_type = 'Course' \n",
    "    \n",
    "    and c.state = 'successful'\n",
    "\n",
    "), \n",
    "\n",
    "user_count_resource as (\n",
    "  \n",
    "  select \n",
    "    \n",
    "    ur.user_id, \n",
    "    \n",
    "    count(ur.resource_id) count_resource \n",
    "  \n",
    "  from \n",
    "    \n",
    "    user_resource ur \n",
    "  \n",
    "  group by \n",
    "    \n",
    "    1 \n",
    "  \n",
    "  having \n",
    "    \n",
    "    count(ur.resource_id)> 1\n",
    "\n",
    ") \n",
    "\n",
    "select \n",
    "  \n",
    "  ucr.user_id, \n",
    "  \n",
    "  ur.resource_id \n",
    "\n",
    "from \n",
    "  \n",
    "  user_count_resource ucr \n",
    "  \n",
    "  join user_resource ur on ucr.user_id = ur.user_id \n",
    "\n",
    "order by \n",
    "  \n",
    "  1, \n",
    "  \n",
    "  2\n"
   ]
  },
  {
   "cell_type": "code",
   "execution_count": 1,
   "metadata": {},
   "outputs": [],
   "source": [
    "# Импортируем необходимые библиотеки\n",
    "import pandas as pd\n",
    "import numpy as np\n",
    "import itertools\n",
    "import collections"
   ]
  },
  {
   "cell_type": "code",
   "execution_count": 2,
   "metadata": {
    "scrolled": false
   },
   "outputs": [
    {
     "data": {
      "text/html": [
       "<div>\n",
       "<style scoped>\n",
       "    .dataframe tbody tr th:only-of-type {\n",
       "        vertical-align: middle;\n",
       "    }\n",
       "\n",
       "    .dataframe tbody tr th {\n",
       "        vertical-align: top;\n",
       "    }\n",
       "\n",
       "    .dataframe thead th {\n",
       "        text-align: right;\n",
       "    }\n",
       "</style>\n",
       "<table border=\"1\" class=\"dataframe\">\n",
       "  <thead>\n",
       "    <tr style=\"text-align: right;\">\n",
       "      <th></th>\n",
       "      <th>user_id</th>\n",
       "      <th>resource_id</th>\n",
       "    </tr>\n",
       "  </thead>\n",
       "  <tbody>\n",
       "    <tr>\n",
       "      <th>0</th>\n",
       "      <td>51</td>\n",
       "      <td>516</td>\n",
       "    </tr>\n",
       "    <tr>\n",
       "      <th>1</th>\n",
       "      <td>51</td>\n",
       "      <td>1099</td>\n",
       "    </tr>\n",
       "    <tr>\n",
       "      <th>2</th>\n",
       "      <td>6117</td>\n",
       "      <td>356</td>\n",
       "    </tr>\n",
       "    <tr>\n",
       "      <th>3</th>\n",
       "      <td>6117</td>\n",
       "      <td>357</td>\n",
       "    </tr>\n",
       "    <tr>\n",
       "      <th>4</th>\n",
       "      <td>6117</td>\n",
       "      <td>1125</td>\n",
       "    </tr>\n",
       "  </tbody>\n",
       "</table>\n",
       "</div>"
      ],
      "text/plain": [
       "   user_id  resource_id\n",
       "0       51          516\n",
       "1       51         1099\n",
       "2     6117          356\n",
       "3     6117          357\n",
       "4     6117         1125"
      ]
     },
     "execution_count": 2,
     "metadata": {},
     "output_type": "execute_result"
    }
   ],
   "source": [
    "# Загрузим данные, полученные с помощью SQL-запроса\n",
    "courses=pd.read_csv('courses.csv')\n",
    "courses.head()"
   ]
  },
  {
   "cell_type": "code",
   "execution_count": 3,
   "metadata": {
    "scrolled": true
   },
   "outputs": [
    {
     "name": "stdout",
     "output_type": "stream",
     "text": [
      "<class 'pandas.core.frame.DataFrame'>\n",
      "RangeIndex: 34074 entries, 0 to 34073\n",
      "Data columns (total 2 columns):\n",
      " #   Column       Non-Null Count  Dtype\n",
      "---  ------       --------------  -----\n",
      " 0   user_id      34074 non-null  int64\n",
      " 1   resource_id  34074 non-null  int64\n",
      "dtypes: int64(2)\n",
      "memory usage: 532.5 KB\n"
     ]
    }
   ],
   "source": [
    "# С помощью метода info посмотрим на наши данные (кол-во строк, столбцов, типы данных, наличие пропусков)\n",
    "courses.info()"
   ]
  },
  {
   "cell_type": "code",
   "execution_count": 4,
   "metadata": {},
   "outputs": [
    {
     "data": {
      "text/html": [
       "<div>\n",
       "<style scoped>\n",
       "    .dataframe tbody tr th:only-of-type {\n",
       "        vertical-align: middle;\n",
       "    }\n",
       "\n",
       "    .dataframe tbody tr th {\n",
       "        vertical-align: top;\n",
       "    }\n",
       "\n",
       "    .dataframe thead th {\n",
       "        text-align: right;\n",
       "    }\n",
       "</style>\n",
       "<table border=\"1\" class=\"dataframe\">\n",
       "  <thead>\n",
       "    <tr style=\"text-align: right;\">\n",
       "      <th></th>\n",
       "      <th>client_id</th>\n",
       "      <th>courses_id</th>\n",
       "    </tr>\n",
       "  </thead>\n",
       "  <tbody>\n",
       "    <tr>\n",
       "      <th>0</th>\n",
       "      <td>51</td>\n",
       "      <td>516</td>\n",
       "    </tr>\n",
       "    <tr>\n",
       "      <th>1</th>\n",
       "      <td>51</td>\n",
       "      <td>1099</td>\n",
       "    </tr>\n",
       "    <tr>\n",
       "      <th>2</th>\n",
       "      <td>6117</td>\n",
       "      <td>356</td>\n",
       "    </tr>\n",
       "    <tr>\n",
       "      <th>3</th>\n",
       "      <td>6117</td>\n",
       "      <td>357</td>\n",
       "    </tr>\n",
       "    <tr>\n",
       "      <th>4</th>\n",
       "      <td>6117</td>\n",
       "      <td>1125</td>\n",
       "    </tr>\n",
       "  </tbody>\n",
       "</table>\n",
       "</div>"
      ],
      "text/plain": [
       "   client_id  courses_id\n",
       "0         51         516\n",
       "1         51        1099\n",
       "2       6117         356\n",
       "3       6117         357\n",
       "4       6117        1125"
      ]
     },
     "execution_count": 4,
     "metadata": {},
     "output_type": "execute_result"
    }
   ],
   "source": [
    "# Переименуем столбцы\n",
    "courses=courses.rename(columns={'user_id':'client_id', 'resource_id':'courses_id'})\n",
    "courses.head()"
   ]
  },
  {
   "cell_type": "code",
   "execution_count": 5,
   "metadata": {},
   "outputs": [
    {
     "data": {
      "text/plain": [
       "12656"
      ]
     },
     "execution_count": 5,
     "metadata": {},
     "output_type": "execute_result"
    }
   ],
   "source": [
    "# Определим количество уникальных пользователей\n",
    "len(courses['client_id'].unique())"
   ]
  },
  {
   "cell_type": "code",
   "execution_count": 6,
   "metadata": {},
   "outputs": [
    {
     "data": {
      "text/plain": [
       "126"
      ]
     },
     "execution_count": 6,
     "metadata": {},
     "output_type": "execute_result"
    }
   ],
   "source": [
    "# Определим количество уникальных курсов\n",
    "len(courses['courses_id'].unique())"
   ]
  },
  {
   "cell_type": "code",
   "execution_count": 7,
   "metadata": {
    "scrolled": true
   },
   "outputs": [
    {
     "data": {
      "text/html": [
       "<div>\n",
       "<style scoped>\n",
       "    .dataframe tbody tr th:only-of-type {\n",
       "        vertical-align: middle;\n",
       "    }\n",
       "\n",
       "    .dataframe tbody tr th {\n",
       "        vertical-align: top;\n",
       "    }\n",
       "\n",
       "    .dataframe thead th {\n",
       "        text-align: right;\n",
       "    }\n",
       "</style>\n",
       "<table border=\"1\" class=\"dataframe\">\n",
       "  <thead>\n",
       "    <tr style=\"text-align: right;\">\n",
       "      <th></th>\n",
       "      <th>client_id</th>\n",
       "      <th>courses_id</th>\n",
       "    </tr>\n",
       "  </thead>\n",
       "  <tbody>\n",
       "    <tr>\n",
       "      <th>0</th>\n",
       "      <td>51</td>\n",
       "      <td>[516, 1099]</td>\n",
       "    </tr>\n",
       "    <tr>\n",
       "      <th>1</th>\n",
       "      <td>6117</td>\n",
       "      <td>[356, 357, 1125]</td>\n",
       "    </tr>\n",
       "    <tr>\n",
       "      <th>2</th>\n",
       "      <td>10275</td>\n",
       "      <td>[553, 1147]</td>\n",
       "    </tr>\n",
       "    <tr>\n",
       "      <th>3</th>\n",
       "      <td>10457</td>\n",
       "      <td>[361, 1138]</td>\n",
       "    </tr>\n",
       "    <tr>\n",
       "      <th>4</th>\n",
       "      <td>17166</td>\n",
       "      <td>[356, 357]</td>\n",
       "    </tr>\n",
       "  </tbody>\n",
       "</table>\n",
       "</div>"
      ],
      "text/plain": [
       "   client_id        courses_id\n",
       "0         51       [516, 1099]\n",
       "1       6117  [356, 357, 1125]\n",
       "2      10275       [553, 1147]\n",
       "3      10457       [361, 1138]\n",
       "4      17166        [356, 357]"
      ]
     },
     "execution_count": 7,
     "metadata": {},
     "output_type": "execute_result"
    }
   ],
   "source": [
    "# Объединим, купленные каждым пользователем курсы, в список\n",
    "clients_courses_list=courses.groupby(['client_id'])['courses_id'].apply(lambda x: np.unique(x)).reset_index()\n",
    "clients_courses_list.head()"
   ]
  },
  {
   "cell_type": "code",
   "execution_count": 8,
   "metadata": {},
   "outputs": [
    {
     "name": "stdout",
     "output_type": "stream",
     "text": [
      "<class 'pandas.core.frame.DataFrame'>\n",
      "RangeIndex: 12656 entries, 0 to 12655\n",
      "Data columns (total 2 columns):\n",
      " #   Column      Non-Null Count  Dtype \n",
      "---  ------      --------------  ----- \n",
      " 0   client_id   12656 non-null  int64 \n",
      " 1   courses_id  12656 non-null  object\n",
      "dtypes: int64(1), object(1)\n",
      "memory usage: 197.9+ KB\n"
     ]
    }
   ],
   "source": [
    "# С помощью метода info посмотрим на наши данные (кол-во строк, столбцов, типы данных, наличие пропусков)\n",
    "clients_courses_list.info()"
   ]
  },
  {
   "cell_type": "code",
   "execution_count": 9,
   "metadata": {
    "scrolled": true
   },
   "outputs": [],
   "source": [
    "# Создадим один общий список всех возможных комбинаций пар курсов с помощью метода itertools.combinations\n",
    "courses_pairs=[]\n",
    "for course in clients_courses_list['courses_id']:\n",
    "    for pair in itertools.combinations(sorted(course), 2):\n",
    "        courses_pairs.append(pair)"
   ]
  },
  {
   "cell_type": "code",
   "execution_count": 10,
   "metadata": {},
   "outputs": [
    {
     "data": {
      "text/plain": [
       "3989"
      ]
     },
     "execution_count": 10,
     "metadata": {},
     "output_type": "execute_result"
    }
   ],
   "source": [
    "# Посмотрим  сколько уникалных пар курсов\n",
    "len(set(courses_pairs))"
   ]
  },
  {
   "cell_type": "code",
   "execution_count": 11,
   "metadata": {
    "scrolled": true
   },
   "outputs": [],
   "source": [
    "# С помощью функции Counter посчитаем частоту встречаемости пар курсов\n",
    "count_pairs=collections.Counter()\n",
    "for i in courses_pairs:\n",
    "    count_pairs[i]+=1"
   ]
  },
  {
   "cell_type": "code",
   "execution_count": 12,
   "metadata": {
    "scrolled": false
   },
   "outputs": [
    {
     "data": {
      "text/html": [
       "<div>\n",
       "<style scoped>\n",
       "    .dataframe tbody tr th:only-of-type {\n",
       "        vertical-align: middle;\n",
       "    }\n",
       "\n",
       "    .dataframe tbody tr th {\n",
       "        vertical-align: top;\n",
       "    }\n",
       "\n",
       "    .dataframe thead th {\n",
       "        text-align: right;\n",
       "    }\n",
       "</style>\n",
       "<table border=\"1\" class=\"dataframe\">\n",
       "  <thead>\n",
       "    <tr style=\"text-align: right;\">\n",
       "      <th></th>\n",
       "      <th>course_1</th>\n",
       "      <th>course_2</th>\n",
       "      <th>pair</th>\n",
       "    </tr>\n",
       "  </thead>\n",
       "  <tbody>\n",
       "    <tr>\n",
       "      <th>0</th>\n",
       "      <td>516</td>\n",
       "      <td>1099</td>\n",
       "      <td>516,1099</td>\n",
       "    </tr>\n",
       "    <tr>\n",
       "      <th>1</th>\n",
       "      <td>356</td>\n",
       "      <td>357</td>\n",
       "      <td>356,357</td>\n",
       "    </tr>\n",
       "    <tr>\n",
       "      <th>2</th>\n",
       "      <td>356</td>\n",
       "      <td>1125</td>\n",
       "      <td>356,1125</td>\n",
       "    </tr>\n",
       "    <tr>\n",
       "      <th>3</th>\n",
       "      <td>357</td>\n",
       "      <td>1125</td>\n",
       "      <td>357,1125</td>\n",
       "    </tr>\n",
       "    <tr>\n",
       "      <th>4</th>\n",
       "      <td>553</td>\n",
       "      <td>1147</td>\n",
       "      <td>553,1147</td>\n",
       "    </tr>\n",
       "  </tbody>\n",
       "</table>\n",
       "</div>"
      ],
      "text/plain": [
       "   course_1  course_2      pair\n",
       "0       516      1099  516,1099\n",
       "1       356       357   356,357\n",
       "2       356      1125  356,1125\n",
       "3       357      1125  357,1125\n",
       "4       553      1147  553,1147"
      ]
     },
     "execution_count": 12,
     "metadata": {},
     "output_type": "execute_result"
    }
   ],
   "source": [
    "#Создадим датафрейм с парами курсов\n",
    "df_courses=pd.DataFrame(courses_pairs)\n",
    "\n",
    "#Переименуем столбцы\n",
    "df_courses=df_courses.rename(columns={0:'course_1', 1:'course_2'})\n",
    "\n",
    "#Добавим столбец с парой курсов\n",
    "df_courses['pair']=df_courses['course_1'].astype(str)+\",\"+df_courses['course_2'].astype(str)\n",
    "df_courses.head()"
   ]
  },
  {
   "cell_type": "code",
   "execution_count": 13,
   "metadata": {
    "scrolled": true
   },
   "outputs": [
    {
     "data": {
      "text/html": [
       "<div>\n",
       "<style scoped>\n",
       "    .dataframe tbody tr th:only-of-type {\n",
       "        vertical-align: middle;\n",
       "    }\n",
       "\n",
       "    .dataframe tbody tr th {\n",
       "        vertical-align: top;\n",
       "    }\n",
       "\n",
       "    .dataframe thead th {\n",
       "        text-align: right;\n",
       "    }\n",
       "</style>\n",
       "<table border=\"1\" class=\"dataframe\">\n",
       "  <thead>\n",
       "    <tr style=\"text-align: right;\">\n",
       "      <th></th>\n",
       "      <th>pair</th>\n",
       "      <th>count</th>\n",
       "    </tr>\n",
       "  </thead>\n",
       "  <tbody>\n",
       "    <tr>\n",
       "      <th>0</th>\n",
       "      <td>1099,1100</td>\n",
       "      <td>5</td>\n",
       "    </tr>\n",
       "    <tr>\n",
       "      <th>1</th>\n",
       "      <td>1099,1101</td>\n",
       "      <td>2</td>\n",
       "    </tr>\n",
       "    <tr>\n",
       "      <th>2</th>\n",
       "      <td>1099,1102</td>\n",
       "      <td>2</td>\n",
       "    </tr>\n",
       "    <tr>\n",
       "      <th>3</th>\n",
       "      <td>1099,1103</td>\n",
       "      <td>4</td>\n",
       "    </tr>\n",
       "    <tr>\n",
       "      <th>4</th>\n",
       "      <td>1099,1125</td>\n",
       "      <td>4</td>\n",
       "    </tr>\n",
       "  </tbody>\n",
       "</table>\n",
       "</div>"
      ],
      "text/plain": [
       "        pair  count\n",
       "0  1099,1100      5\n",
       "1  1099,1101      2\n",
       "2  1099,1102      2\n",
       "3  1099,1103      4\n",
       "4  1099,1125      4"
      ]
     },
     "execution_count": 13,
     "metadata": {},
     "output_type": "execute_result"
    }
   ],
   "source": [
    "# Посчитаем количество встречаемости каждой пары курсов, сгруппировав данные по парам курсов\n",
    "group_df_courses=df_courses.groupby('pair').count().reset_index()\n",
    "\n",
    "# Оставим два необходимых столбца и переименуем столбец с данными о количестве пар.\n",
    "group_df_courses=group_df_courses[['pair', 'course_1']].rename(columns={'course_1':'count'})\n",
    "group_df_courses.head()"
   ]
  },
  {
   "cell_type": "code",
   "execution_count": 14,
   "metadata": {},
   "outputs": [
    {
     "data": {
      "text/plain": [
       "22.0"
      ]
     },
     "execution_count": 14,
     "metadata": {},
     "output_type": "execute_result"
    }
   ],
   "source": [
    "# Для того, чтобы отсечь из анализа пары курсов, которые встречаются редко, используем 90-й процентиль. \n",
    "# Чаще всего используют 99-й, 95-й и 90-й процентиль (статья habr.com). На мой взгляд, необходимо использовать именно 90-й \n",
    "# процентиль, т.к. иначе в таблице рекомендаций будет очень много пропусков.\n",
    "\n",
    "# Если взять 90-й процентиль (останется не пустых значений 55(рекоменд_1) и 44(рекоменд_2) из 126)\n",
    "# 95-й процентиль (останется не пустых значений 44 и 30 из 126)\n",
    "# 99-й процентиль (останется не пустых значений 17 и 11 из 126 )\n",
    "\n",
    "percentile=np.percentile(group_df_courses['count'], 90)\n",
    "percentile"
   ]
  },
  {
   "cell_type": "code",
   "execution_count": 15,
   "metadata": {
    "scrolled": true
   },
   "outputs": [],
   "source": [
    "# Создадим новый словарь, в котором не будет пар курсов, встречающихся реже 22 раз\n",
    "# Отсортируем пары по 1 курсу\n",
    "popular_pairs={k:v for k, v in sorted(count_pairs.items(), key=lambda item: item[0], reverse=False) if v>percentile}"
   ]
  },
  {
   "cell_type": "code",
   "execution_count": 16,
   "metadata": {},
   "outputs": [],
   "source": [
    " # Создадим функцию\n",
    "def recommendation(course): \n",
    "    course_list=[]          # Создадим пустой список\n",
    "    for i in popular_pairs.keys(): # Создадим цикл и пройдем по ключам словаря с популярными парами курсов\n",
    "        if i[0]==course:  # Если 1-й элемент пары курсов равен id курса, который мы подаем на вход ф-ии,\n",
    "            course_list.append((i, popular_pairs[i])) # то добавляем в список кортеж из пары курсов и количества\n",
    "    sorted_course_list=sorted(course_list, key=lambda x: x[1], reverse=True) # Сортируем список в порядке убывания по кол-ву\n",
    "    return sorted_course_list[:2] # Выводим два наибольших значения, которые потом включим в рекомендации №1 и №2"
   ]
  },
  {
   "cell_type": "code",
   "execution_count": 17,
   "metadata": {},
   "outputs": [
    {
     "data": {
      "text/plain": [
       "array([ 516, 1099,  356,  357, 1125,  553, 1147,  361, 1138, 1140,  551,\n",
       "        745,  568,  514,  517,  566,  363,  511,  562,  563,  509, 1144,\n",
       "        672,  552,  571,  513, 1141,  744,  862,  679,  750,  800,  569,\n",
       "        840,  765, 1187, 1100, 1103,  502,  564,  865,  764, 1139, 1186,\n",
       "        366,  367,  519,  809,  515,  912,  489,  523,  864, 1101, 1146,\n",
       "        776,  671,  753,  829,  490, 1102,  803,  659,  909,  794,  518,\n",
       "        907,  777,  908,  360,  813,  835,  741,  752,  814, 1115, 1116,\n",
       "       1161,  863,  743,  504,  572,  810, 1124, 1128,  742, 1104,  503,\n",
       "        664,  507,  570, 1185, 1198,  365,  359,  791, 1156,  362, 1184,\n",
       "        911,  358, 1160,  757,  508, 1181,  755, 1145, 1188,  756,  866,\n",
       "        749,  368,  364,  834, 1152,  670, 1199,  836, 1201, 1129, 1182,\n",
       "        902,  837, 1200,  833,  830], dtype=int64)"
      ]
     },
     "execution_count": 17,
     "metadata": {},
     "output_type": "execute_result"
    }
   ],
   "source": [
    "# Создадим переменную, в которой хранятся данные с уникальными курсами\n",
    "courses_1=courses['courses_id'].unique()\n",
    "courses_1"
   ]
  },
  {
   "cell_type": "code",
   "execution_count": 18,
   "metadata": {
    "scrolled": false
   },
   "outputs": [
    {
     "data": {
      "text/html": [
       "<div>\n",
       "<style scoped>\n",
       "    .dataframe tbody tr th:only-of-type {\n",
       "        vertical-align: middle;\n",
       "    }\n",
       "\n",
       "    .dataframe tbody tr th {\n",
       "        vertical-align: top;\n",
       "    }\n",
       "\n",
       "    .dataframe thead th {\n",
       "        text-align: right;\n",
       "    }\n",
       "</style>\n",
       "<table border=\"1\" class=\"dataframe\">\n",
       "  <thead>\n",
       "    <tr style=\"text-align: right;\">\n",
       "      <th></th>\n",
       "      <th>course_id</th>\n",
       "      <th>recommendation_1</th>\n",
       "      <th>recommendation_2</th>\n",
       "    </tr>\n",
       "  </thead>\n",
       "  <tbody>\n",
       "    <tr>\n",
       "      <th>0</th>\n",
       "      <td>516</td>\n",
       "      <td>745</td>\n",
       "      <td>553</td>\n",
       "    </tr>\n",
       "    <tr>\n",
       "      <th>1</th>\n",
       "      <td>1099</td>\n",
       "      <td>NaN</td>\n",
       "      <td>NaN</td>\n",
       "    </tr>\n",
       "    <tr>\n",
       "      <th>2</th>\n",
       "      <td>356</td>\n",
       "      <td>571</td>\n",
       "      <td>357</td>\n",
       "    </tr>\n",
       "    <tr>\n",
       "      <th>3</th>\n",
       "      <td>357</td>\n",
       "      <td>571</td>\n",
       "      <td>1125</td>\n",
       "    </tr>\n",
       "    <tr>\n",
       "      <th>4</th>\n",
       "      <td>1125</td>\n",
       "      <td>1186</td>\n",
       "      <td>NaN</td>\n",
       "    </tr>\n",
       "    <tr>\n",
       "      <th>...</th>\n",
       "      <td>...</td>\n",
       "      <td>...</td>\n",
       "      <td>...</td>\n",
       "    </tr>\n",
       "    <tr>\n",
       "      <th>121</th>\n",
       "      <td>902</td>\n",
       "      <td>NaN</td>\n",
       "      <td>NaN</td>\n",
       "    </tr>\n",
       "    <tr>\n",
       "      <th>122</th>\n",
       "      <td>837</td>\n",
       "      <td>NaN</td>\n",
       "      <td>NaN</td>\n",
       "    </tr>\n",
       "    <tr>\n",
       "      <th>123</th>\n",
       "      <td>1200</td>\n",
       "      <td>NaN</td>\n",
       "      <td>NaN</td>\n",
       "    </tr>\n",
       "    <tr>\n",
       "      <th>124</th>\n",
       "      <td>833</td>\n",
       "      <td>NaN</td>\n",
       "      <td>NaN</td>\n",
       "    </tr>\n",
       "    <tr>\n",
       "      <th>125</th>\n",
       "      <td>830</td>\n",
       "      <td>NaN</td>\n",
       "      <td>NaN</td>\n",
       "    </tr>\n",
       "  </tbody>\n",
       "</table>\n",
       "<p>126 rows × 3 columns</p>\n",
       "</div>"
      ],
      "text/plain": [
       "     course_id recommendation_1 recommendation_2\n",
       "0          516              745              553\n",
       "1         1099              NaN              NaN\n",
       "2          356              571              357\n",
       "3          357              571             1125\n",
       "4         1125             1186              NaN\n",
       "..         ...              ...              ...\n",
       "121        902              NaN              NaN\n",
       "122        837              NaN              NaN\n",
       "123       1200              NaN              NaN\n",
       "124        833              NaN              NaN\n",
       "125        830              NaN              NaN\n",
       "\n",
       "[126 rows x 3 columns]"
      ]
     },
     "execution_count": 18,
     "metadata": {},
     "output_type": "execute_result"
    }
   ],
   "source": [
    "# Создадим таблицу с курсами и рекомендациями\n",
    "recommendation_df=pd.DataFrame(columns=['recommendation_1','recommendation_2'])\n",
    "for i in courses_1:\n",
    "    if len(recommendation(i))==2: # Если функция выдает две рекомендации\n",
    "            recommendation_df.loc[i]=[recommendation(i)[0][0][1], recommendation(i)[1][0][1]]# Добавляем рекомендации в табл\n",
    "    elif len(recommendation(i))==1: # Если функция выдает одну рекомендацию\n",
    "         recommendation_df.loc[i]=[recommendation(i)[0][0][1], np.nan] # Добавляем 1 рекомендацию и NaN вместо 2-й рекоменд.\n",
    "    else:\n",
    "        recommendation_df.loc[i]=[np.nan, np.nan] # Добавляем NaN, если нет рекомендаций\n",
    "recommendation_df=recommendation_df.reset_index().rename(columns={'index':'course_id'})# Сбросим индексы,переименуем столбцы\n",
    "recommendation_df"
   ]
  },
  {
   "cell_type": "code",
   "execution_count": 19,
   "metadata": {},
   "outputs": [
    {
     "name": "stdout",
     "output_type": "stream",
     "text": [
      "<class 'pandas.core.frame.DataFrame'>\n",
      "RangeIndex: 126 entries, 0 to 125\n",
      "Data columns (total 3 columns):\n",
      " #   Column            Non-Null Count  Dtype \n",
      "---  ------            --------------  ----- \n",
      " 0   course_id         126 non-null    int64 \n",
      " 1   recommendation_1  55 non-null     object\n",
      " 2   recommendation_2  44 non-null     object\n",
      "dtypes: int64(1), object(2)\n",
      "memory usage: 3.1+ KB\n"
     ]
    }
   ],
   "source": [
    "# Посмотрим сколько у нас пустых строк\n",
    "recommendation_df.info()"
   ]
  },
  {
   "cell_type": "code",
   "execution_count": 20,
   "metadata": {
    "scrolled": true
   },
   "outputs": [
    {
     "data": {
      "text/html": [
       "<div>\n",
       "<style scoped>\n",
       "    .dataframe tbody tr th:only-of-type {\n",
       "        vertical-align: middle;\n",
       "    }\n",
       "\n",
       "    .dataframe tbody tr th {\n",
       "        vertical-align: top;\n",
       "    }\n",
       "\n",
       "    .dataframe thead th {\n",
       "        text-align: right;\n",
       "    }\n",
       "</style>\n",
       "<table border=\"1\" class=\"dataframe\">\n",
       "  <thead>\n",
       "    <tr style=\"text-align: right;\">\n",
       "      <th></th>\n",
       "      <th>course_id</th>\n",
       "      <th>recommendation_1</th>\n",
       "      <th>recommendation_2</th>\n",
       "    </tr>\n",
       "  </thead>\n",
       "  <tbody>\n",
       "    <tr>\n",
       "      <th>0</th>\n",
       "      <td>356</td>\n",
       "      <td>571</td>\n",
       "      <td>357</td>\n",
       "    </tr>\n",
       "    <tr>\n",
       "      <th>1</th>\n",
       "      <td>357</td>\n",
       "      <td>571</td>\n",
       "      <td>1125</td>\n",
       "    </tr>\n",
       "    <tr>\n",
       "      <th>2</th>\n",
       "      <td>358</td>\n",
       "      <td>570</td>\n",
       "      <td>NaN</td>\n",
       "    </tr>\n",
       "    <tr>\n",
       "      <th>3</th>\n",
       "      <td>359</td>\n",
       "      <td>NaN</td>\n",
       "      <td>NaN</td>\n",
       "    </tr>\n",
       "    <tr>\n",
       "      <th>4</th>\n",
       "      <td>360</td>\n",
       "      <td>NaN</td>\n",
       "      <td>NaN</td>\n",
       "    </tr>\n",
       "  </tbody>\n",
       "</table>\n",
       "</div>"
      ],
      "text/plain": [
       "   course_id recommendation_1 recommendation_2\n",
       "0        356              571              357\n",
       "1        357              571             1125\n",
       "2        358              570              NaN\n",
       "3        359              NaN              NaN\n",
       "4        360              NaN              NaN"
      ]
     },
     "execution_count": 20,
     "metadata": {},
     "output_type": "execute_result"
    }
   ],
   "source": [
    "# Отсортируем датафрейм по столбцу course_id\n",
    "recommendation_df=recommendation_df.sort_values(\"course_id\").reset_index(drop=True)\n",
    "recommendation_df.head()"
   ]
  },
  {
   "cell_type": "markdown",
   "metadata": {},
   "source": [
    "### Чем заполнить пропуски?\n",
    "##### В полученной таблице с рекомендациями есть пустые значения, которые необходимо заполнить:\n",
    "1. Изучим данные продаж курсов в разрезе пользователей, купивших два и более курса\n",
    "2. Рассмотрим несколько возможных вариантов:\n",
    "- добавим вместо пропусков наиболее популярные курсы (без учета новые они или давно в продаже);\n",
    "- добавим вместо пропусков наиболее популярные из новых курсов;\n",
    "- добавим вместо пропусков один наиболее популярный курс, который давно в продаже и один новый курс."
   ]
  },
  {
   "cell_type": "markdown",
   "metadata": {},
   "source": [
    "#### Рассмотрим, какие курсы самые популярные у пользователей, купивших 2 и более курсов "
   ]
  },
  {
   "cell_type": "code",
   "execution_count": 21,
   "metadata": {
    "scrolled": true
   },
   "outputs": [
    {
     "data": {
      "text/html": [
       "<div>\n",
       "<style scoped>\n",
       "    .dataframe tbody tr th:only-of-type {\n",
       "        vertical-align: middle;\n",
       "    }\n",
       "\n",
       "    .dataframe tbody tr th {\n",
       "        vertical-align: top;\n",
       "    }\n",
       "\n",
       "    .dataframe thead th {\n",
       "        text-align: right;\n",
       "    }\n",
       "</style>\n",
       "<table border=\"1\" class=\"dataframe\">\n",
       "  <thead>\n",
       "    <tr style=\"text-align: right;\">\n",
       "      <th></th>\n",
       "      <th>courses_id</th>\n",
       "      <th>count_courses</th>\n",
       "    </tr>\n",
       "  </thead>\n",
       "  <tbody>\n",
       "    <tr>\n",
       "      <th>0</th>\n",
       "      <td>551</td>\n",
       "      <td>2935</td>\n",
       "    </tr>\n",
       "    <tr>\n",
       "      <th>1</th>\n",
       "      <td>566</td>\n",
       "      <td>2342</td>\n",
       "    </tr>\n",
       "    <tr>\n",
       "      <th>2</th>\n",
       "      <td>515</td>\n",
       "      <td>1311</td>\n",
       "    </tr>\n",
       "    <tr>\n",
       "      <th>3</th>\n",
       "      <td>489</td>\n",
       "      <td>1125</td>\n",
       "    </tr>\n",
       "    <tr>\n",
       "      <th>4</th>\n",
       "      <td>490</td>\n",
       "      <td>1084</td>\n",
       "    </tr>\n",
       "    <tr>\n",
       "      <th>5</th>\n",
       "      <td>523</td>\n",
       "      <td>1053</td>\n",
       "    </tr>\n",
       "    <tr>\n",
       "      <th>6</th>\n",
       "      <td>514</td>\n",
       "      <td>983</td>\n",
       "    </tr>\n",
       "    <tr>\n",
       "      <th>7</th>\n",
       "      <td>794</td>\n",
       "      <td>875</td>\n",
       "    </tr>\n",
       "  </tbody>\n",
       "</table>\n",
       "</div>"
      ],
      "text/plain": [
       "   courses_id  count_courses\n",
       "0         551           2935\n",
       "1         566           2342\n",
       "2         515           1311\n",
       "3         489           1125\n",
       "4         490           1084\n",
       "5         523           1053\n",
       "6         514            983\n",
       "7         794            875"
      ]
     },
     "execution_count": 21,
     "metadata": {},
     "output_type": "execute_result"
    }
   ],
   "source": [
    "# Сгруппируем данные по id-курса и посчитаем количество купленных курсов за два года (нам даны данные за 2017-2018гг.)  \n",
    "courses_popul=courses.groupby('courses_id').count().reset_index()\n",
    "courses_popul=courses_popul.rename(columns={'client_id':'count_courses'})\n",
    "courses_popul=courses_popul.sort_values('count_courses', ascending=False).reset_index(drop=True)\n",
    "courses_popul.head(8)"
   ]
  },
  {
   "cell_type": "markdown",
   "metadata": {},
   "source": [
    "- Если следовать данному подходу, то нужно пропуски в столбце recommendation_1 заменить на курс с id-551, а в столбце recommendation_2 - на курс с id-566 "
   ]
  },
  {
   "cell_type": "markdown",
   "metadata": {},
   "source": [
    "#### Рассмотрим, какие курсы самые популярные у пользователей, купивших 2 и более курсов с РАЗБИВКОЙ по ГОДАМ продажи"
   ]
  },
  {
   "cell_type": "raw",
   "metadata": {},
   "source": [
    "--С помощью SQL-запроса создадим таблицу с тремя столбцами: id-курса (сгруппировано по id), количество проданных курсов и год продажи курса (сгруппировано по году продажи).Возьмем данные только по тем пользователям, которые приобрели два и более курса--\n",
    "\n",
    "with user_resource as (\n",
    "  \n",
    "  select \n",
    "    \n",
    "    distinct c.user_id, \n",
    "    \n",
    "    ci.resource_id, \n",
    "    \n",
    "    c.purchased_at \n",
    "  \n",
    "  from \n",
    "    \n",
    "    final.cart_items ci \n",
    "    \n",
    "    join final.carts c on ci.cart_id = c.id \n",
    "  \n",
    "  where \n",
    "    \n",
    "    resource_type = 'Course' \n",
    "    \n",
    "    and c.state = 'successful'\n",
    "\n",
    "), \n",
    "\n",
    "user_count_resource as (\n",
    "  \n",
    "  select \n",
    "    \n",
    "    ur.user_id, \n",
    "    \n",
    "    count(ur.resource_id) count_resource \n",
    "  \n",
    "  from \n",
    "    \n",
    "    user_resource ur \n",
    "  \n",
    "  group by \n",
    "    \n",
    "    1 \n",
    "  \n",
    "  having \n",
    "    \n",
    "    count(ur.resource_id)> 1\n",
    "\n",
    ") \n",
    "\n",
    "select \n",
    "  \n",
    "  ur.resource_id, \n",
    "  \n",
    "  count(ur.resource_id) count_purchased, \n",
    "  \n",
    "  extract(\n",
    "    \n",
    "    year \n",
    "    \n",
    "    from \n",
    "      \n",
    "      ur.purchased_at :: date\n",
    "  \n",
    "  ) year_purchased \n",
    "\n",
    "from \n",
    "  \n",
    "  user_count_resource ucr \n",
    "  \n",
    "  join user_resource ur on ucr.user_id = ur.user_id \n",
    "\n",
    "group by \n",
    "  \n",
    "  1, \n",
    "  \n",
    "  3 \n",
    "\n",
    "order by \n",
    "  \n",
    "  2 desc\n"
   ]
  },
  {
   "cell_type": "code",
   "execution_count": 22,
   "metadata": {
    "scrolled": true
   },
   "outputs": [
    {
     "data": {
      "text/html": [
       "<div>\n",
       "<style scoped>\n",
       "    .dataframe tbody tr th:only-of-type {\n",
       "        vertical-align: middle;\n",
       "    }\n",
       "\n",
       "    .dataframe tbody tr th {\n",
       "        vertical-align: top;\n",
       "    }\n",
       "\n",
       "    .dataframe thead th {\n",
       "        text-align: right;\n",
       "    }\n",
       "</style>\n",
       "<table border=\"1\" class=\"dataframe\">\n",
       "  <thead>\n",
       "    <tr style=\"text-align: right;\">\n",
       "      <th></th>\n",
       "      <th>resource_id</th>\n",
       "      <th>count_purchased</th>\n",
       "      <th>year_purchased</th>\n",
       "    </tr>\n",
       "  </thead>\n",
       "  <tbody>\n",
       "    <tr>\n",
       "      <th>0</th>\n",
       "      <td>551</td>\n",
       "      <td>2801</td>\n",
       "      <td>2017</td>\n",
       "    </tr>\n",
       "    <tr>\n",
       "      <th>1</th>\n",
       "      <td>566</td>\n",
       "      <td>1191</td>\n",
       "      <td>2018</td>\n",
       "    </tr>\n",
       "    <tr>\n",
       "      <th>2</th>\n",
       "      <td>566</td>\n",
       "      <td>1160</td>\n",
       "      <td>2017</td>\n",
       "    </tr>\n",
       "    <tr>\n",
       "      <th>3</th>\n",
       "      <td>515</td>\n",
       "      <td>1034</td>\n",
       "      <td>2017</td>\n",
       "    </tr>\n",
       "    <tr>\n",
       "      <th>4</th>\n",
       "      <td>794</td>\n",
       "      <td>888</td>\n",
       "      <td>2018</td>\n",
       "    </tr>\n",
       "    <tr>\n",
       "      <th>...</th>\n",
       "      <td>...</td>\n",
       "      <td>...</td>\n",
       "      <td>...</td>\n",
       "    </tr>\n",
       "    <tr>\n",
       "      <th>186</th>\n",
       "      <td>911</td>\n",
       "      <td>3</td>\n",
       "      <td>2018</td>\n",
       "    </tr>\n",
       "    <tr>\n",
       "      <th>187</th>\n",
       "      <td>833</td>\n",
       "      <td>3</td>\n",
       "      <td>2018</td>\n",
       "    </tr>\n",
       "    <tr>\n",
       "      <th>188</th>\n",
       "      <td>1199</td>\n",
       "      <td>2</td>\n",
       "      <td>2018</td>\n",
       "    </tr>\n",
       "    <tr>\n",
       "      <th>189</th>\n",
       "      <td>1201</td>\n",
       "      <td>2</td>\n",
       "      <td>2018</td>\n",
       "    </tr>\n",
       "    <tr>\n",
       "      <th>190</th>\n",
       "      <td>1200</td>\n",
       "      <td>2</td>\n",
       "      <td>2018</td>\n",
       "    </tr>\n",
       "  </tbody>\n",
       "</table>\n",
       "<p>191 rows × 3 columns</p>\n",
       "</div>"
      ],
      "text/plain": [
       "     resource_id  count_purchased  year_purchased\n",
       "0            551             2801            2017\n",
       "1            566             1191            2018\n",
       "2            566             1160            2017\n",
       "3            515             1034            2017\n",
       "4            794              888            2018\n",
       "..           ...              ...             ...\n",
       "186          911                3            2018\n",
       "187          833                3            2018\n",
       "188         1199                2            2018\n",
       "189         1201                2            2018\n",
       "190         1200                2            2018\n",
       "\n",
       "[191 rows x 3 columns]"
      ]
     },
     "execution_count": 22,
     "metadata": {},
     "output_type": "execute_result"
    }
   ],
   "source": [
    "# Загрузим данные\n",
    "courses_2_2017_2018=pd.read_csv('courses_2_2017_2018.csv')\n",
    "courses_2_2017_2018"
   ]
  },
  {
   "cell_type": "code",
   "execution_count": 23,
   "metadata": {
    "scrolled": false
   },
   "outputs": [
    {
     "name": "stdout",
     "output_type": "stream",
     "text": [
      "<class 'pandas.core.frame.DataFrame'>\n",
      "RangeIndex: 191 entries, 0 to 190\n",
      "Data columns (total 3 columns):\n",
      " #   Column           Non-Null Count  Dtype\n",
      "---  ------           --------------  -----\n",
      " 0   resource_id      191 non-null    int64\n",
      " 1   count_purchased  191 non-null    int64\n",
      " 2   year_purchased   191 non-null    int64\n",
      "dtypes: int64(3)\n",
      "memory usage: 4.6 KB\n"
     ]
    }
   ],
   "source": [
    "courses_2_2017_2018.info()"
   ]
  },
  {
   "cell_type": "code",
   "execution_count": 24,
   "metadata": {},
   "outputs": [
    {
     "data": {
      "text/html": [
       "<div>\n",
       "<style scoped>\n",
       "    .dataframe tbody tr th:only-of-type {\n",
       "        vertical-align: middle;\n",
       "    }\n",
       "\n",
       "    .dataframe tbody tr th {\n",
       "        vertical-align: top;\n",
       "    }\n",
       "\n",
       "    .dataframe thead th {\n",
       "        text-align: right;\n",
       "    }\n",
       "</style>\n",
       "<table border=\"1\" class=\"dataframe\">\n",
       "  <thead>\n",
       "    <tr style=\"text-align: right;\">\n",
       "      <th></th>\n",
       "      <th>resource_id</th>\n",
       "      <th>count_purchased</th>\n",
       "      <th>year_purchased</th>\n",
       "    </tr>\n",
       "  </thead>\n",
       "  <tbody>\n",
       "    <tr>\n",
       "      <th>0</th>\n",
       "      <td>551</td>\n",
       "      <td>2801</td>\n",
       "      <td>2017</td>\n",
       "    </tr>\n",
       "    <tr>\n",
       "      <th>2</th>\n",
       "      <td>566</td>\n",
       "      <td>1160</td>\n",
       "      <td>2017</td>\n",
       "    </tr>\n",
       "    <tr>\n",
       "      <th>3</th>\n",
       "      <td>515</td>\n",
       "      <td>1034</td>\n",
       "      <td>2017</td>\n",
       "    </tr>\n",
       "    <tr>\n",
       "      <th>5</th>\n",
       "      <td>523</td>\n",
       "      <td>875</td>\n",
       "      <td>2017</td>\n",
       "    </tr>\n",
       "    <tr>\n",
       "      <th>6</th>\n",
       "      <td>489</td>\n",
       "      <td>857</td>\n",
       "      <td>2017</td>\n",
       "    </tr>\n",
       "    <tr>\n",
       "      <th>...</th>\n",
       "      <td>...</td>\n",
       "      <td>...</td>\n",
       "      <td>...</td>\n",
       "    </tr>\n",
       "    <tr>\n",
       "      <th>158</th>\n",
       "      <td>671</td>\n",
       "      <td>25</td>\n",
       "      <td>2017</td>\n",
       "    </tr>\n",
       "    <tr>\n",
       "      <th>159</th>\n",
       "      <td>364</td>\n",
       "      <td>24</td>\n",
       "      <td>2017</td>\n",
       "    </tr>\n",
       "    <tr>\n",
       "      <th>162</th>\n",
       "      <td>365</td>\n",
       "      <td>19</td>\n",
       "      <td>2017</td>\n",
       "    </tr>\n",
       "    <tr>\n",
       "      <th>163</th>\n",
       "      <td>670</td>\n",
       "      <td>19</td>\n",
       "      <td>2017</td>\n",
       "    </tr>\n",
       "    <tr>\n",
       "      <th>170</th>\n",
       "      <td>791</td>\n",
       "      <td>10</td>\n",
       "      <td>2017</td>\n",
       "    </tr>\n",
       "  </tbody>\n",
       "</table>\n",
       "<p>65 rows × 3 columns</p>\n",
       "</div>"
      ],
      "text/plain": [
       "     resource_id  count_purchased  year_purchased\n",
       "0            551             2801            2017\n",
       "2            566             1160            2017\n",
       "3            515             1034            2017\n",
       "5            523              875            2017\n",
       "6            489              857            2017\n",
       "..           ...              ...             ...\n",
       "158          671               25            2017\n",
       "159          364               24            2017\n",
       "162          365               19            2017\n",
       "163          670               19            2017\n",
       "170          791               10            2017\n",
       "\n",
       "[65 rows x 3 columns]"
      ]
     },
     "execution_count": 24,
     "metadata": {},
     "output_type": "execute_result"
    }
   ],
   "source": [
    "# Посмотрим данные по продажам за 2017 год\n",
    "courses_2_2017=courses_2_2017_2018[courses_2_2017_2018['year_purchased']==2017]\n",
    "courses_2_2017"
   ]
  },
  {
   "cell_type": "markdown",
   "metadata": {},
   "source": [
    "\n",
    "- В 2017 году самыми популярным курсом был курс с номером id - 551, на втором месте - 566"
   ]
  },
  {
   "cell_type": "code",
   "execution_count": 25,
   "metadata": {},
   "outputs": [
    {
     "name": "stdout",
     "output_type": "stream",
     "text": [
      "[356 357 358 359 360 361 362 363 364 365 366 367 368 489 490 502 503 504\n",
      " 507 508 509 511 513 514 515 516 517 518 519 523 551 552 553 562 563 564\n",
      " 566 568 569 570 571 572 659 664 670 671 672 679 741 742 743 744 745 749\n",
      " 750 752 753 755 756 757 764 765 776 777 791]\n"
     ]
    }
   ],
   "source": [
    "# Посмотрим какие курсы продавались в 2017 году (отсортируем массив по id курсов)\n",
    "print(np.array(courses_2_2017['resource_id'].sort_values()))"
   ]
  },
  {
   "cell_type": "markdown",
   "metadata": {},
   "source": [
    "- В 2017 году продавались курсы с номерами id от 356 до 791 "
   ]
  },
  {
   "cell_type": "code",
   "execution_count": 26,
   "metadata": {
    "scrolled": true
   },
   "outputs": [
    {
     "data": {
      "text/html": [
       "<div>\n",
       "<style scoped>\n",
       "    .dataframe tbody tr th:only-of-type {\n",
       "        vertical-align: middle;\n",
       "    }\n",
       "\n",
       "    .dataframe tbody tr th {\n",
       "        vertical-align: top;\n",
       "    }\n",
       "\n",
       "    .dataframe thead th {\n",
       "        text-align: right;\n",
       "    }\n",
       "</style>\n",
       "<table border=\"1\" class=\"dataframe\">\n",
       "  <thead>\n",
       "    <tr style=\"text-align: right;\">\n",
       "      <th></th>\n",
       "      <th>resource_id</th>\n",
       "      <th>count_purchased</th>\n",
       "      <th>year_purchased</th>\n",
       "    </tr>\n",
       "  </thead>\n",
       "  <tbody>\n",
       "    <tr>\n",
       "      <th>1</th>\n",
       "      <td>566</td>\n",
       "      <td>1191</td>\n",
       "      <td>2018</td>\n",
       "    </tr>\n",
       "    <tr>\n",
       "      <th>4</th>\n",
       "      <td>794</td>\n",
       "      <td>888</td>\n",
       "      <td>2018</td>\n",
       "    </tr>\n",
       "    <tr>\n",
       "      <th>8</th>\n",
       "      <td>809</td>\n",
       "      <td>640</td>\n",
       "      <td>2018</td>\n",
       "    </tr>\n",
       "    <tr>\n",
       "      <th>9</th>\n",
       "      <td>840</td>\n",
       "      <td>615</td>\n",
       "      <td>2018</td>\n",
       "    </tr>\n",
       "    <tr>\n",
       "      <th>14</th>\n",
       "      <td>1103</td>\n",
       "      <td>416</td>\n",
       "      <td>2018</td>\n",
       "    </tr>\n",
       "    <tr>\n",
       "      <th>15</th>\n",
       "      <td>514</td>\n",
       "      <td>414</td>\n",
       "      <td>2018</td>\n",
       "    </tr>\n",
       "    <tr>\n",
       "      <th>17</th>\n",
       "      <td>490</td>\n",
       "      <td>387</td>\n",
       "      <td>2018</td>\n",
       "    </tr>\n",
       "    <tr>\n",
       "      <th>20</th>\n",
       "      <td>1100</td>\n",
       "      <td>362</td>\n",
       "      <td>2018</td>\n",
       "    </tr>\n",
       "    <tr>\n",
       "      <th>21</th>\n",
       "      <td>1125</td>\n",
       "      <td>354</td>\n",
       "      <td>2018</td>\n",
       "    </tr>\n",
       "    <tr>\n",
       "      <th>22</th>\n",
       "      <td>764</td>\n",
       "      <td>344</td>\n",
       "      <td>2018</td>\n",
       "    </tr>\n",
       "  </tbody>\n",
       "</table>\n",
       "</div>"
      ],
      "text/plain": [
       "    resource_id  count_purchased  year_purchased\n",
       "1           566             1191            2018\n",
       "4           794              888            2018\n",
       "8           809              640            2018\n",
       "9           840              615            2018\n",
       "14         1103              416            2018\n",
       "15          514              414            2018\n",
       "17          490              387            2018\n",
       "20         1100              362            2018\n",
       "21         1125              354            2018\n",
       "22          764              344            2018"
      ]
     },
     "execution_count": 26,
     "metadata": {},
     "output_type": "execute_result"
    }
   ],
   "source": [
    "# Рассмотрим данные по продажам за 2018 год\n",
    "courses_2_2018=courses_2_2017_2018[courses_2_2017_2018['year_purchased']==2018]\n",
    "courses_2_2018.head(10)"
   ]
  },
  {
   "cell_type": "markdown",
   "metadata": {},
   "source": [
    "- в 2018 году наиболее популярный курс с id - 566, на втором месте - 794"
   ]
  },
  {
   "cell_type": "code",
   "execution_count": 27,
   "metadata": {},
   "outputs": [
    {
     "data": {
      "text/html": [
       "<div>\n",
       "<style scoped>\n",
       "    .dataframe tbody tr th:only-of-type {\n",
       "        vertical-align: middle;\n",
       "    }\n",
       "\n",
       "    .dataframe tbody tr th {\n",
       "        vertical-align: top;\n",
       "    }\n",
       "\n",
       "    .dataframe thead th {\n",
       "        text-align: right;\n",
       "    }\n",
       "</style>\n",
       "<table border=\"1\" class=\"dataframe\">\n",
       "  <thead>\n",
       "    <tr style=\"text-align: right;\">\n",
       "      <th></th>\n",
       "      <th>resource_id</th>\n",
       "      <th>count_purchased</th>\n",
       "      <th>year_purchased</th>\n",
       "    </tr>\n",
       "  </thead>\n",
       "  <tbody>\n",
       "    <tr>\n",
       "      <th>74</th>\n",
       "      <td>551</td>\n",
       "      <td>143</td>\n",
       "      <td>2018</td>\n",
       "    </tr>\n",
       "  </tbody>\n",
       "</table>\n",
       "</div>"
      ],
      "text/plain": [
       "    resource_id  count_purchased  year_purchased\n",
       "74          551              143            2018"
      ]
     },
     "execution_count": 27,
     "metadata": {},
     "output_type": "execute_result"
    }
   ],
   "source": [
    "# Посмотрим какие продажи в 2018 году курса с id-551, который был самым популярным в 2017г\n",
    "courses_2_2018[courses_2_2018['resource_id']==551]"
   ]
  },
  {
   "cell_type": "markdown",
   "metadata": {},
   "source": [
    "- Самый популярный курс в 2018 году с id-551, в 2018 году оказался на 75 месте"
   ]
  },
  {
   "cell_type": "code",
   "execution_count": 28,
   "metadata": {},
   "outputs": [
    {
     "name": "stdout",
     "output_type": "stream",
     "text": [
      "[ 356  357  358  359  360  361  362  363  364  365  366  367  368  489\n",
      "  490  502  503  504  507  508  509  511  513  514  515  516  517  518\n",
      "  519  523  551  552  553  562  563  564  566  568  569  570  571  572\n",
      "  659  664  670  671  672  679  741  742  743  744  745  749  750  752\n",
      "  753  755  756  757  764  765  776  777  791  794  800  803  809  810\n",
      "  813  814  829  830  833  834  835  836  837  840  862  863  864  865\n",
      "  866  902  907  908  909  911  912 1099 1100 1101 1102 1103 1104 1115\n",
      " 1116 1124 1125 1128 1129 1138 1139 1140 1141 1144 1145 1146 1147 1152\n",
      " 1156 1160 1161 1181 1182 1184 1185 1186 1187 1188 1198 1199 1200 1201]\n"
     ]
    }
   ],
   "source": [
    "### Посмотрим какие курсы продавались в 2018 году (отсортируем DataFrame по id курсов)\n",
    "print(np.array(courses_2_2018['resource_id'].sort_values()))"
   ]
  },
  {
   "cell_type": "markdown",
   "metadata": {},
   "source": [
    "- В 2018 году продавались курсы с номерами id от 356 до 1201\n",
    "- В 2018 году появились новые курсы с id от 794 до 1201\n",
    "- Самый продаваемый курс из новых курсов в 2018 году - 794\n",
    "- Курс 566 удерживает лидирующие позиции (в 2017 году-2 место, в 2018 - 1 место), а курс 551, который лидирует по общим продажам, в 2017 году был на 1 месте, его продажи были почти в 2,5 раза больше, чем у курса 566, в 2018 году практически не продается (143 продажи, 75 место в рейтинге)."
   ]
  },
  {
   "cell_type": "markdown",
   "metadata": {},
   "source": [
    "Если анализировать данные по продажам отдельно за 2017 и 2018 годы, и руководствоваться просьбой продакт-менеджера, увеличить продажи новых курсов, то целесообразно, на мой взгляд:\n",
    "- заменить пропуски в столбце recommendation_1 на курс с id-566 (он второй по популярности за весь период продаж, но зато он стабильно продавался и в 2017, и в 2018г., в отличии от курса с id-551, который является самым популярным, но в 2018г продажи резко упали и в рейтинге он оказался на 75 месте), \n",
    "- а в столбце recommendation_2 - на курс с id-794 (в общем объеме продаж за два года он 8-й по популярности, а в 2018г - 2-й по популярности, это объясняется тем, что это новый курс, который появился только в 2018 году и из новых курсов он самый популярный)."
   ]
  },
  {
   "cell_type": "code",
   "execution_count": 29,
   "metadata": {
    "scrolled": false
   },
   "outputs": [
    {
     "data": {
      "text/html": [
       "<div>\n",
       "<style scoped>\n",
       "    .dataframe tbody tr th:only-of-type {\n",
       "        vertical-align: middle;\n",
       "    }\n",
       "\n",
       "    .dataframe tbody tr th {\n",
       "        vertical-align: top;\n",
       "    }\n",
       "\n",
       "    .dataframe thead th {\n",
       "        text-align: right;\n",
       "    }\n",
       "</style>\n",
       "<table border=\"1\" class=\"dataframe\">\n",
       "  <thead>\n",
       "    <tr style=\"text-align: right;\">\n",
       "      <th></th>\n",
       "      <th>course_id</th>\n",
       "      <th>recommendation_1</th>\n",
       "      <th>recommendation_2</th>\n",
       "    </tr>\n",
       "  </thead>\n",
       "  <tbody>\n",
       "    <tr>\n",
       "      <th>65</th>\n",
       "      <td>794</td>\n",
       "      <td>809</td>\n",
       "      <td>1103</td>\n",
       "    </tr>\n",
       "  </tbody>\n",
       "</table>\n",
       "</div>"
      ],
      "text/plain": [
       "    course_id recommendation_1 recommendation_2\n",
       "65        794              809             1103"
      ]
     },
     "execution_count": 29,
     "metadata": {},
     "output_type": "execute_result"
    }
   ],
   "source": [
    "# Перед тем, как заполнить пропуски, проверим, есть ли пропуски у курса с id-794\n",
    "recommendation_df[recommendation_df['course_id']==794]"
   ]
  },
  {
   "cell_type": "code",
   "execution_count": 30,
   "metadata": {},
   "outputs": [
    {
     "data": {
      "text/html": [
       "<div>\n",
       "<style scoped>\n",
       "    .dataframe tbody tr th:only-of-type {\n",
       "        vertical-align: middle;\n",
       "    }\n",
       "\n",
       "    .dataframe tbody tr th {\n",
       "        vertical-align: top;\n",
       "    }\n",
       "\n",
       "    .dataframe thead th {\n",
       "        text-align: right;\n",
       "    }\n",
       "</style>\n",
       "<table border=\"1\" class=\"dataframe\">\n",
       "  <thead>\n",
       "    <tr style=\"text-align: right;\">\n",
       "      <th></th>\n",
       "      <th>course_id</th>\n",
       "      <th>recommendation_1</th>\n",
       "      <th>recommendation_2</th>\n",
       "    </tr>\n",
       "  </thead>\n",
       "  <tbody>\n",
       "    <tr>\n",
       "      <th>36</th>\n",
       "      <td>566</td>\n",
       "      <td>794</td>\n",
       "      <td>570</td>\n",
       "    </tr>\n",
       "  </tbody>\n",
       "</table>\n",
       "</div>"
      ],
      "text/plain": [
       "    course_id recommendation_1 recommendation_2\n",
       "36        566              794              570"
      ]
     },
     "execution_count": 30,
     "metadata": {},
     "output_type": "execute_result"
    }
   ],
   "source": [
    "# Проверим, есть ли пропуски у курса с id-566\n",
    "recommendation_df[recommendation_df['course_id']==566]"
   ]
  },
  {
   "cell_type": "markdown",
   "metadata": {},
   "source": [
    "- Т.к. у курсов 566 и 794 все рекомендации заполнены, мы можем не переживать, что при заполнении пропусков курсы задублируются."
   ]
  },
  {
   "cell_type": "code",
   "execution_count": 31,
   "metadata": {},
   "outputs": [
    {
     "data": {
      "text/html": [
       "<div>\n",
       "<style scoped>\n",
       "    .dataframe tbody tr th:only-of-type {\n",
       "        vertical-align: middle;\n",
       "    }\n",
       "\n",
       "    .dataframe tbody tr th {\n",
       "        vertical-align: top;\n",
       "    }\n",
       "\n",
       "    .dataframe thead th {\n",
       "        text-align: right;\n",
       "    }\n",
       "</style>\n",
       "<table border=\"1\" class=\"dataframe\">\n",
       "  <thead>\n",
       "    <tr style=\"text-align: right;\">\n",
       "      <th></th>\n",
       "      <th>course_id</th>\n",
       "      <th>recommendation_1</th>\n",
       "      <th>recommendation_2</th>\n",
       "    </tr>\n",
       "  </thead>\n",
       "  <tbody>\n",
       "    <tr>\n",
       "      <th>0</th>\n",
       "      <td>356</td>\n",
       "      <td>571</td>\n",
       "      <td>357</td>\n",
       "    </tr>\n",
       "    <tr>\n",
       "      <th>1</th>\n",
       "      <td>357</td>\n",
       "      <td>571</td>\n",
       "      <td>1125</td>\n",
       "    </tr>\n",
       "    <tr>\n",
       "      <th>2</th>\n",
       "      <td>358</td>\n",
       "      <td>570</td>\n",
       "      <td>794</td>\n",
       "    </tr>\n",
       "    <tr>\n",
       "      <th>3</th>\n",
       "      <td>359</td>\n",
       "      <td>566</td>\n",
       "      <td>794</td>\n",
       "    </tr>\n",
       "    <tr>\n",
       "      <th>4</th>\n",
       "      <td>360</td>\n",
       "      <td>566</td>\n",
       "      <td>794</td>\n",
       "    </tr>\n",
       "    <tr>\n",
       "      <th>...</th>\n",
       "      <td>...</td>\n",
       "      <td>...</td>\n",
       "      <td>...</td>\n",
       "    </tr>\n",
       "    <tr>\n",
       "      <th>121</th>\n",
       "      <td>1188</td>\n",
       "      <td>566</td>\n",
       "      <td>794</td>\n",
       "    </tr>\n",
       "    <tr>\n",
       "      <th>122</th>\n",
       "      <td>1198</td>\n",
       "      <td>566</td>\n",
       "      <td>794</td>\n",
       "    </tr>\n",
       "    <tr>\n",
       "      <th>123</th>\n",
       "      <td>1199</td>\n",
       "      <td>566</td>\n",
       "      <td>794</td>\n",
       "    </tr>\n",
       "    <tr>\n",
       "      <th>124</th>\n",
       "      <td>1200</td>\n",
       "      <td>566</td>\n",
       "      <td>794</td>\n",
       "    </tr>\n",
       "    <tr>\n",
       "      <th>125</th>\n",
       "      <td>1201</td>\n",
       "      <td>566</td>\n",
       "      <td>794</td>\n",
       "    </tr>\n",
       "  </tbody>\n",
       "</table>\n",
       "<p>126 rows × 3 columns</p>\n",
       "</div>"
      ],
      "text/plain": [
       "     course_id  recommendation_1  recommendation_2\n",
       "0          356               571               357\n",
       "1          357               571              1125\n",
       "2          358               570               794\n",
       "3          359               566               794\n",
       "4          360               566               794\n",
       "..         ...               ...               ...\n",
       "121       1188               566               794\n",
       "122       1198               566               794\n",
       "123       1199               566               794\n",
       "124       1200               566               794\n",
       "125       1201               566               794\n",
       "\n",
       "[126 rows x 3 columns]"
      ]
     },
     "execution_count": 31,
     "metadata": {},
     "output_type": "execute_result"
    }
   ],
   "source": [
    "# Заменим пропуски в столбце recommendation_1 на курс с id 566,\n",
    "# в столбце recommendation_2 - на курс с id 794\n",
    "recommendation_df['recommendation_1']=recommendation_df['recommendation_1'].fillna(566).astype(int)\n",
    "recommendation_df['recommendation_2']=recommendation_df['recommendation_2'].fillna(794).astype(int)\n",
    "recommendation_df"
   ]
  },
  {
   "cell_type": "code",
   "execution_count": 32,
   "metadata": {},
   "outputs": [
    {
     "data": {
      "text/html": [
       "<div>\n",
       "<style scoped>\n",
       "    .dataframe tbody tr th:only-of-type {\n",
       "        vertical-align: middle;\n",
       "    }\n",
       "\n",
       "    .dataframe tbody tr th {\n",
       "        vertical-align: top;\n",
       "    }\n",
       "\n",
       "    .dataframe thead th {\n",
       "        text-align: right;\n",
       "    }\n",
       "</style>\n",
       "<table border=\"1\" class=\"dataframe\">\n",
       "  <thead>\n",
       "    <tr style=\"text-align: right;\">\n",
       "      <th></th>\n",
       "      <th>course_id</th>\n",
       "      <th>recommendation_1</th>\n",
       "      <th>recommendation_2</th>\n",
       "    </tr>\n",
       "  </thead>\n",
       "  <tbody>\n",
       "    <tr>\n",
       "      <th>53</th>\n",
       "      <td>749</td>\n",
       "      <td>794</td>\n",
       "      <td>794</td>\n",
       "    </tr>\n",
       "    <tr>\n",
       "      <th>63</th>\n",
       "      <td>777</td>\n",
       "      <td>794</td>\n",
       "      <td>794</td>\n",
       "    </tr>\n",
       "  </tbody>\n",
       "</table>\n",
       "</div>"
      ],
      "text/plain": [
       "    course_id  recommendation_1  recommendation_2\n",
       "53        749               794               794\n",
       "63        777               794               794"
      ]
     },
     "execution_count": 32,
     "metadata": {},
     "output_type": "execute_result"
    }
   ],
   "source": [
    "# Посмотрим, есть ли курсы, у которых две одинаковые рекомендации\n",
    "recommendation_df[(recommendation_df['recommendation_1'])==(recommendation_df['recommendation_2'])]"
   ]
  },
  {
   "cell_type": "code",
   "execution_count": 33,
   "metadata": {
    "scrolled": true
   },
   "outputs": [
    {
     "data": {
      "text/html": [
       "<div>\n",
       "<style scoped>\n",
       "    .dataframe tbody tr th:only-of-type {\n",
       "        vertical-align: middle;\n",
       "    }\n",
       "\n",
       "    .dataframe tbody tr th {\n",
       "        vertical-align: top;\n",
       "    }\n",
       "\n",
       "    .dataframe thead th {\n",
       "        text-align: right;\n",
       "    }\n",
       "</style>\n",
       "<table border=\"1\" class=\"dataframe\">\n",
       "  <thead>\n",
       "    <tr style=\"text-align: right;\">\n",
       "      <th></th>\n",
       "      <th>course_id</th>\n",
       "      <th>recommendation_1</th>\n",
       "      <th>recommendation_2</th>\n",
       "    </tr>\n",
       "  </thead>\n",
       "  <tbody>\n",
       "    <tr>\n",
       "      <th>0</th>\n",
       "      <td>356</td>\n",
       "      <td>571</td>\n",
       "      <td>357</td>\n",
       "    </tr>\n",
       "    <tr>\n",
       "      <th>1</th>\n",
       "      <td>357</td>\n",
       "      <td>571</td>\n",
       "      <td>1125</td>\n",
       "    </tr>\n",
       "    <tr>\n",
       "      <th>2</th>\n",
       "      <td>358</td>\n",
       "      <td>570</td>\n",
       "      <td>794</td>\n",
       "    </tr>\n",
       "    <tr>\n",
       "      <th>3</th>\n",
       "      <td>359</td>\n",
       "      <td>566</td>\n",
       "      <td>794</td>\n",
       "    </tr>\n",
       "    <tr>\n",
       "      <th>4</th>\n",
       "      <td>360</td>\n",
       "      <td>566</td>\n",
       "      <td>794</td>\n",
       "    </tr>\n",
       "    <tr>\n",
       "      <th>...</th>\n",
       "      <td>...</td>\n",
       "      <td>...</td>\n",
       "      <td>...</td>\n",
       "    </tr>\n",
       "    <tr>\n",
       "      <th>121</th>\n",
       "      <td>1188</td>\n",
       "      <td>566</td>\n",
       "      <td>794</td>\n",
       "    </tr>\n",
       "    <tr>\n",
       "      <th>122</th>\n",
       "      <td>1198</td>\n",
       "      <td>566</td>\n",
       "      <td>794</td>\n",
       "    </tr>\n",
       "    <tr>\n",
       "      <th>123</th>\n",
       "      <td>1199</td>\n",
       "      <td>566</td>\n",
       "      <td>794</td>\n",
       "    </tr>\n",
       "    <tr>\n",
       "      <th>124</th>\n",
       "      <td>1200</td>\n",
       "      <td>566</td>\n",
       "      <td>794</td>\n",
       "    </tr>\n",
       "    <tr>\n",
       "      <th>125</th>\n",
       "      <td>1201</td>\n",
       "      <td>566</td>\n",
       "      <td>794</td>\n",
       "    </tr>\n",
       "  </tbody>\n",
       "</table>\n",
       "<p>126 rows × 3 columns</p>\n",
       "</div>"
      ],
      "text/plain": [
       "     course_id  recommendation_1  recommendation_2\n",
       "0          356               571               357\n",
       "1          357               571              1125\n",
       "2          358               570               794\n",
       "3          359               566               794\n",
       "4          360               566               794\n",
       "..         ...               ...               ...\n",
       "121       1188               566               794\n",
       "122       1198               566               794\n",
       "123       1199               566               794\n",
       "124       1200               566               794\n",
       "125       1201               566               794\n",
       "\n",
       "[126 rows x 3 columns]"
      ]
     },
     "execution_count": 33,
     "metadata": {},
     "output_type": "execute_result"
    }
   ],
   "source": [
    "# Создадим функцию, которая при дублировании рекомендаций, заменит курс 794 в столбце recommendation_2 на курс с id-366\n",
    "def fillna(row):\n",
    "    if row['recommendation_2']==row['recommendation_1']:\n",
    "        return 366\n",
    "    else:\n",
    "        return row['recommendation_2']\n",
    "recommendation_df['recommendation_2'] = recommendation_df.apply(lambda row: fillna(row), axis=1)  \n",
    "recommendation_df"
   ]
  },
  {
   "cell_type": "code",
   "execution_count": 34,
   "metadata": {},
   "outputs": [
    {
     "data": {
      "text/html": [
       "<div>\n",
       "<style scoped>\n",
       "    .dataframe tbody tr th:only-of-type {\n",
       "        vertical-align: middle;\n",
       "    }\n",
       "\n",
       "    .dataframe tbody tr th {\n",
       "        vertical-align: top;\n",
       "    }\n",
       "\n",
       "    .dataframe thead th {\n",
       "        text-align: right;\n",
       "    }\n",
       "</style>\n",
       "<table border=\"1\" class=\"dataframe\">\n",
       "  <thead>\n",
       "    <tr style=\"text-align: right;\">\n",
       "      <th></th>\n",
       "      <th>course_id</th>\n",
       "      <th>recommendation_1</th>\n",
       "      <th>recommendation_2</th>\n",
       "    </tr>\n",
       "  </thead>\n",
       "  <tbody>\n",
       "    <tr>\n",
       "      <th>53</th>\n",
       "      <td>749</td>\n",
       "      <td>794</td>\n",
       "      <td>366</td>\n",
       "    </tr>\n",
       "  </tbody>\n",
       "</table>\n",
       "</div>"
      ],
      "text/plain": [
       "    course_id  recommendation_1  recommendation_2\n",
       "53        749               794               366"
      ]
     },
     "execution_count": 34,
     "metadata": {},
     "output_type": "execute_result"
    }
   ],
   "source": [
    "# Проверим работу функции fillna\n",
    "recommendation_df[recommendation_df['course_id']==749]"
   ]
  },
  {
   "cell_type": "code",
   "execution_count": 35,
   "metadata": {},
   "outputs": [
    {
     "data": {
      "text/html": [
       "<div>\n",
       "<style scoped>\n",
       "    .dataframe tbody tr th:only-of-type {\n",
       "        vertical-align: middle;\n",
       "    }\n",
       "\n",
       "    .dataframe tbody tr th {\n",
       "        vertical-align: top;\n",
       "    }\n",
       "\n",
       "    .dataframe thead th {\n",
       "        text-align: right;\n",
       "    }\n",
       "</style>\n",
       "<table border=\"1\" class=\"dataframe\">\n",
       "  <thead>\n",
       "    <tr style=\"text-align: right;\">\n",
       "      <th></th>\n",
       "      <th>course_id</th>\n",
       "      <th>recommendation_1</th>\n",
       "      <th>recommendation_2</th>\n",
       "    </tr>\n",
       "  </thead>\n",
       "  <tbody>\n",
       "  </tbody>\n",
       "</table>\n",
       "</div>"
      ],
      "text/plain": [
       "Empty DataFrame\n",
       "Columns: [course_id, recommendation_1, recommendation_2]\n",
       "Index: []"
      ]
     },
     "execution_count": 35,
     "metadata": {},
     "output_type": "execute_result"
    }
   ],
   "source": [
    "# Посмотрим, после применения ф-ии, есть ли курсы, у которых две одинаковые рекомендации\n",
    "recommendation_df[(recommendation_df['recommendation_1'])==(recommendation_df['recommendation_2'])]"
   ]
  },
  {
   "cell_type": "code",
   "execution_count": 36,
   "metadata": {},
   "outputs": [],
   "source": [
    "#Сохраним файл в формате xls\n",
    "recommendation_df.to_excel(\"Recommendation_table.xls\", index=False)"
   ]
  },
  {
   "cell_type": "markdown",
   "metadata": {},
   "source": [
    "### Выводы:\n",
    "1. Курсы с номерами id-551 и 566 являются наиболее популярными у пользователей, купивших два и более курсов, за весь предоставленный период продаж (2017-2018гг):\n",
    "- id-551 - 2935 продаж\n",
    "- id-566 - 2341 продажа\n",
    "2. В 2017 году самым популярным курсом был курс с номером id-551, на втором месте курс с id-566:\n",
    "- id-551 - 2801 продажа\n",
    "- id-566 - 1160 продажа\n",
    "3. В 2018 году самым популярным курсом был курс с номером id-566, на втором месте-id-794, а продажи курса с id-551 (самый популярный в 2017) упали приблизительно в 20 раз и в рейтинге он оказался на 75 месте.\n",
    "- id-566 - 1191 продажа\n",
    "- id-794 - 888 продаж\n",
    "- id-551 - 143 продажи\n",
    "4. Курсы с id от 794 до 1201 появились в продаже только в 2018 году\n",
    "\n",
    "#### Критерии, по которым были включены курсы в рекомендательную таблицу:\n",
    "1. в рекомендацию-1 включен наиболее популярный курс, который покупают с данным курсом;\n",
    "2. в рекомендацию-2 включен второй по популярности курс, который приобретают с данным курсом;\n",
    "3. для курсов, к которым не удалось найти рекомендацию, предложены следующие курсы:\n",
    "- рекомендация-1 - курс с id-566 (он второй по популярности за весь период продаж, но зато он стабильно продавался и в 2017, и в 2018г., в отличии от курса с id-551, который является самым популярным, но в 2018г продажи резко упали и в рейтинге он оказался на 75 месте)\n",
    "- рекомендация-2 - курс с id-794 (в общем объеме продаж за два года он 8-й по популярности, а в 2018г - 2-й по популярности, это объясняется тем, что это новый курс, который появился только в 2018 году и из новых курсов он самый популярный)."
   ]
  },
  {
   "cell_type": "markdown",
   "metadata": {
    "scrolled": false
   },
   "source": [
    "### Примечание:\n",
    "\n",
    "Заменяя пропуски в таблице, я руководствовалась просьбой продакт-менеджера увеличить продажи новых курсов, а так же анализировала продажи отдельно за 2017 и 2018 годы. Поэтому в рекомендацию-1 был включен курс с id-566 (второй в рейтинге продаж, но со стабильными продажами в 2017 и 2018), а в рекомендацию-2 - новый курс с id-794 (самый популярный из новых, и второй по популярности в 2018г).\n",
    "\n",
    "Так же хочется отметить, что по неизвестным мне причинам, самый популярный курс с id-551,  продажи  которого в 2017 году примерно в 2.5 раза превышали второй по популярности курс, в 2018 году почти не пользовался популярностью, его продажи упали приблизительно в 20 раз. \n",
    "\n",
    "При необходимости, по решению продакт-менеджера, в рекомендательной таблице могу заменить курс 566 или 794 на курс с id-551."
   ]
  },
  {
   "cell_type": "markdown",
   "metadata": {},
   "source": [
    "#### ЗАПУСКАЕМ А/Б-ТЕСТ\n",
    "\n",
    "Cпустя месяц на сайте реализована новая функциональность с предложением добавить в корзину второй подходящий курс. \n",
    "\n",
    "Чтобы оценить эффективность этой функции и качество подбора рекомендаций запускается сплит-тест, где все клиенты случайным образом делятся на контрольную и тестовую группы. Тестовой группе показываются рекомендации, а контрольной — нет.\n",
    "\n",
    "- До реализации рекомендаций средняя конверсия в покупку второго курса была 3,2%. Мы ожидаем, что ввод рекомендаций сможет поднять её до 4%.\n",
    "- Определяем минимальный размер выборки для проведения теста при уровне достоверности 95% и статистической мощности 80%.\n",
    "(Для расчёта используем онлайн-калькулятором)\n",
    "\n",
    "- Результат: 7900 - минимальный размер выборки для проведения A/Б теста."
   ]
  },
  {
   "cell_type": "markdown",
   "metadata": {},
   "source": [
    "#### Оцениваем результаты А/Б-тестирования\n",
    "Прошло три недели. Каждый из вариантов сплит-теста достиг необходимого размера выборки, необходимо принять решение, был ли ввод рекомендаций успешен.\n",
    "\n",
    "РЕЗУЛЬТАТЫ:\n",
    "\n",
    "1. В контрольной группе оказалось 8732 клиента, оформивших заказ, из них 293 купили больше одного курса.\n",
    "\n",
    "2. В тестовой — 8847 клиентов, из них 347 купили больше одного курса.\n",
    "\n",
    "#### Чему равно p-значение?\n",
    "\n",
    "Для расчёта использован онлайн-калькулятор.\n",
    "\n",
    "- Результат: P-value=0.022\n",
    "\n",
    "#### Вывод:\n",
    "Вариант с рекомендациями показал статистически значимо лучший результат, нужно реализовывать его для всех клиентов."
   ]
  }
 ],
 "metadata": {
  "kernelspec": {
   "display_name": "Python 3",
   "language": "python",
   "name": "python3"
  },
  "language_info": {
   "codemirror_mode": {
    "name": "ipython",
    "version": 3
   },
   "file_extension": ".py",
   "mimetype": "text/x-python",
   "name": "python",
   "nbconvert_exporter": "python",
   "pygments_lexer": "ipython3",
   "version": "3.8.5"
  }
 },
 "nbformat": 4,
 "nbformat_minor": 4
}
