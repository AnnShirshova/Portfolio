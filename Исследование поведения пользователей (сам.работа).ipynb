{
 "cells": [
  {
   "cell_type": "markdown",
   "metadata": {},
   "source": [
    "## САМОСТОЯТЕЛЬНАЯ РАБОТА\n",
    "## Исследование поведения пользователей\n"
   ]
  },
  {
   "cell_type": "markdown",
   "metadata": {},
   "source": [
    "#### Необходимо проверить два предположения:\n",
    " - Зависит ли вероятность оплаты от выбранного пользователем уровня сложности?\n",
    " - Существует ли разница во времени между событиями регистрации и оплаты для разных групп пользователей с разным уровнем сложности?\n",
    "\n",
    "Проверку произвести на основе данных пользователей, которые зарегистрировались в 2018 году (с 1 января по 31 декабря 2018 года включительно)."
   ]
  },
  {
   "cell_type": "markdown",
   "metadata": {},
   "source": [
    "#### План:\n",
    " - Получить данные из файла.\n",
    "\n",
    " - Произвести обзор данных и преобразование данных, если оно необходимо.\n",
    "\n",
    " - Выделить группы пользователей по событиям выбора уровня сложности (чтобы найти зависимость между фактом выбора уровня      сложности и оплатой).\n",
    "\n",
    " - Рассчитать для каждой группы процент оплат.\n",
    "\n",
    " - Для каждой группы сделать по два датафрейма: один — с событиями выбора уровня сложности, другой — с событиями оплаты.\n",
    "\n",
    " - Объединить датафреймы в рамках одной группы и найти разницу во времени между событиями.\n",
    "\n",
    " - Рассчитайте среднее время между событиями выбора уровня сложности и оплатой.\n",
    " ###### Дополнительно:\n",
    " - Расcчитать количество и долю пользователей, которые приступили к этапу выбора уровня сложности.\n",
    " - Рассчитать процент выбора пользователями различных уровней сложности.\n",
    " - Рассчитать среднее время между событиями регистрации и оплатой у групп пользователей, выбравших разные уровни сложности.\n",
    " \n",
    "- СДЕЛАТЬ ВЫВОДЫ"
   ]
  },
  {
   "cell_type": "markdown",
   "metadata": {},
   "source": [
    "#### Получение данных из файла "
   ]
  },
  {
   "cell_type": "code",
   "execution_count": 1,
   "metadata": {},
   "outputs": [
    {
     "data": {
      "text/html": [
       "<div>\n",
       "<style scoped>\n",
       "    .dataframe tbody tr th:only-of-type {\n",
       "        vertical-align: middle;\n",
       "    }\n",
       "\n",
       "    .dataframe tbody tr th {\n",
       "        vertical-align: top;\n",
       "    }\n",
       "\n",
       "    .dataframe thead th {\n",
       "        text-align: right;\n",
       "    }\n",
       "</style>\n",
       "<table border=\"1\" class=\"dataframe\">\n",
       "  <thead>\n",
       "    <tr style=\"text-align: right;\">\n",
       "      <th></th>\n",
       "      <th>id</th>\n",
       "      <th>event_type</th>\n",
       "      <th>selected_level</th>\n",
       "      <th>start_time</th>\n",
       "      <th>tutorial_id</th>\n",
       "      <th>user_id</th>\n",
       "    </tr>\n",
       "  </thead>\n",
       "  <tbody>\n",
       "    <tr>\n",
       "      <th>0</th>\n",
       "      <td>28903</td>\n",
       "      <td>registration</td>\n",
       "      <td>NaN</td>\n",
       "      <td>2016-05-11T23:40:55</td>\n",
       "      <td>NaN</td>\n",
       "      <td>12583</td>\n",
       "    </tr>\n",
       "    <tr>\n",
       "      <th>1</th>\n",
       "      <td>28904</td>\n",
       "      <td>registration</td>\n",
       "      <td>NaN</td>\n",
       "      <td>2016-05-11T23:49:58</td>\n",
       "      <td>NaN</td>\n",
       "      <td>12584</td>\n",
       "    </tr>\n",
       "    <tr>\n",
       "      <th>2</th>\n",
       "      <td>28905</td>\n",
       "      <td>registration</td>\n",
       "      <td>NaN</td>\n",
       "      <td>2016-05-12T00:53:07</td>\n",
       "      <td>NaN</td>\n",
       "      <td>12585</td>\n",
       "    </tr>\n",
       "    <tr>\n",
       "      <th>3</th>\n",
       "      <td>28906</td>\n",
       "      <td>tutorial_start</td>\n",
       "      <td>NaN</td>\n",
       "      <td>2016-05-12T01:32:20</td>\n",
       "      <td>17562.0</td>\n",
       "      <td>12585</td>\n",
       "    </tr>\n",
       "    <tr>\n",
       "      <th>4</th>\n",
       "      <td>28907</td>\n",
       "      <td>tutorial_finish</td>\n",
       "      <td>NaN</td>\n",
       "      <td>2016-05-12T01:34:53</td>\n",
       "      <td>17562.0</td>\n",
       "      <td>12585</td>\n",
       "    </tr>\n",
       "  </tbody>\n",
       "</table>\n",
       "</div>"
      ],
      "text/plain": [
       "      id       event_type selected_level           start_time  tutorial_id  \\\n",
       "0  28903     registration            NaN  2016-05-11T23:40:55          NaN   \n",
       "1  28904     registration            NaN  2016-05-11T23:49:58          NaN   \n",
       "2  28905     registration            NaN  2016-05-12T00:53:07          NaN   \n",
       "3  28906   tutorial_start            NaN  2016-05-12T01:32:20      17562.0   \n",
       "4  28907  tutorial_finish            NaN  2016-05-12T01:34:53      17562.0   \n",
       "\n",
       "   user_id  \n",
       "0    12583  \n",
       "1    12584  \n",
       "2    12585  \n",
       "3    12585  \n",
       "4    12585  "
      ]
     },
     "execution_count": 1,
     "metadata": {},
     "output_type": "execute_result"
    }
   ],
   "source": [
    "import pandas as pd          \n",
    "df= pd.read_csv('Events.csv')\n",
    "df.head()"
   ]
  },
  {
   "cell_type": "code",
   "execution_count": 2,
   "metadata": {},
   "outputs": [
    {
     "data": {
      "text/html": [
       "<div>\n",
       "<style scoped>\n",
       "    .dataframe tbody tr th:only-of-type {\n",
       "        vertical-align: middle;\n",
       "    }\n",
       "\n",
       "    .dataframe tbody tr th {\n",
       "        vertical-align: top;\n",
       "    }\n",
       "\n",
       "    .dataframe thead th {\n",
       "        text-align: right;\n",
       "    }\n",
       "</style>\n",
       "<table border=\"1\" class=\"dataframe\">\n",
       "  <thead>\n",
       "    <tr style=\"text-align: right;\">\n",
       "      <th></th>\n",
       "      <th>id</th>\n",
       "      <th>user_id</th>\n",
       "      <th>event_datetime</th>\n",
       "      <th>amount</th>\n",
       "    </tr>\n",
       "  </thead>\n",
       "  <tbody>\n",
       "    <tr>\n",
       "      <th>0</th>\n",
       "      <td>15674</td>\n",
       "      <td>12584</td>\n",
       "      <td>2016-05-12T10:34:16</td>\n",
       "      <td>100</td>\n",
       "    </tr>\n",
       "    <tr>\n",
       "      <th>1</th>\n",
       "      <td>15675</td>\n",
       "      <td>12985</td>\n",
       "      <td>2016-05-13T08:25:56</td>\n",
       "      <td>50</td>\n",
       "    </tr>\n",
       "    <tr>\n",
       "      <th>2</th>\n",
       "      <td>15676</td>\n",
       "      <td>12828</td>\n",
       "      <td>2016-05-13T16:33:46</td>\n",
       "      <td>50</td>\n",
       "    </tr>\n",
       "    <tr>\n",
       "      <th>3</th>\n",
       "      <td>15677</td>\n",
       "      <td>12598</td>\n",
       "      <td>2016-05-14T01:09:37</td>\n",
       "      <td>150</td>\n",
       "    </tr>\n",
       "    <tr>\n",
       "      <th>4</th>\n",
       "      <td>15678</td>\n",
       "      <td>13037</td>\n",
       "      <td>2016-05-14T01:24:46</td>\n",
       "      <td>100</td>\n",
       "    </tr>\n",
       "  </tbody>\n",
       "</table>\n",
       "</div>"
      ],
      "text/plain": [
       "      id  user_id       event_datetime  amount\n",
       "0  15674    12584  2016-05-12T10:34:16     100\n",
       "1  15675    12985  2016-05-13T08:25:56      50\n",
       "2  15676    12828  2016-05-13T16:33:46      50\n",
       "3  15677    12598  2016-05-14T01:09:37     150\n",
       "4  15678    13037  2016-05-14T01:24:46     100"
      ]
     },
     "execution_count": 2,
     "metadata": {},
     "output_type": "execute_result"
    }
   ],
   "source": [
    "import pandas as pd  \n",
    "pdf=pd.read_csv('Purchase.xls')\n",
    "pdf.head()"
   ]
  },
  {
   "cell_type": "markdown",
   "metadata": {},
   "source": [
    "#### Обзор и преобразование данных."
   ]
  },
  {
   "cell_type": "code",
   "execution_count": 3,
   "metadata": {},
   "outputs": [
    {
     "name": "stdout",
     "output_type": "stream",
     "text": [
      "<class 'pandas.core.frame.DataFrame'>\n",
      "RangeIndex: 252334 entries, 0 to 252333\n",
      "Data columns (total 6 columns):\n",
      " #   Column          Non-Null Count   Dtype  \n",
      "---  ------          --------------   -----  \n",
      " 0   id              252334 non-null  int64  \n",
      " 1   event_type      252334 non-null  object \n",
      " 2   selected_level  31086 non-null   object \n",
      " 3   start_time      252334 non-null  object \n",
      " 4   tutorial_id     125103 non-null  float64\n",
      " 5   user_id         252334 non-null  int64  \n",
      "dtypes: float64(1), int64(2), object(3)\n",
      "memory usage: 11.6+ MB\n"
     ]
    }
   ],
   "source": [
    "df.info()"
   ]
  },
  {
   "cell_type": "code",
   "execution_count": 4,
   "metadata": {},
   "outputs": [
    {
     "data": {
      "text/html": [
       "<div>\n",
       "<style scoped>\n",
       "    .dataframe tbody tr th:only-of-type {\n",
       "        vertical-align: middle;\n",
       "    }\n",
       "\n",
       "    .dataframe tbody tr th {\n",
       "        vertical-align: top;\n",
       "    }\n",
       "\n",
       "    .dataframe thead th {\n",
       "        text-align: right;\n",
       "    }\n",
       "</style>\n",
       "<table border=\"1\" class=\"dataframe\">\n",
       "  <thead>\n",
       "    <tr style=\"text-align: right;\">\n",
       "      <th></th>\n",
       "      <th>id</th>\n",
       "      <th>event_type</th>\n",
       "      <th>selected_level</th>\n",
       "      <th>start_time</th>\n",
       "      <th>tutorial_id</th>\n",
       "      <th>user_id</th>\n",
       "    </tr>\n",
       "  </thead>\n",
       "  <tbody>\n",
       "    <tr>\n",
       "      <th>count</th>\n",
       "      <td>252334.00000</td>\n",
       "      <td>252334</td>\n",
       "      <td>31086</td>\n",
       "      <td>252334</td>\n",
       "      <td>125103.000000</td>\n",
       "      <td>252334.000000</td>\n",
       "    </tr>\n",
       "    <tr>\n",
       "      <th>unique</th>\n",
       "      <td>NaN</td>\n",
       "      <td>5</td>\n",
       "      <td>3</td>\n",
       "      <td>251565</td>\n",
       "      <td>NaN</td>\n",
       "      <td>NaN</td>\n",
       "    </tr>\n",
       "    <tr>\n",
       "      <th>top</th>\n",
       "      <td>NaN</td>\n",
       "      <td>registration</td>\n",
       "      <td>medium</td>\n",
       "      <td>2017-05-29T11:03:08</td>\n",
       "      <td>NaN</td>\n",
       "      <td>NaN</td>\n",
       "    </tr>\n",
       "    <tr>\n",
       "      <th>freq</th>\n",
       "      <td>NaN</td>\n",
       "      <td>74908</td>\n",
       "      <td>17408</td>\n",
       "      <td>16</td>\n",
       "      <td>NaN</td>\n",
       "      <td>NaN</td>\n",
       "    </tr>\n",
       "    <tr>\n",
       "      <th>mean</th>\n",
       "      <td>155069.50000</td>\n",
       "      <td>NaN</td>\n",
       "      <td>NaN</td>\n",
       "      <td>NaN</td>\n",
       "      <td>51815.675364</td>\n",
       "      <td>50003.098790</td>\n",
       "    </tr>\n",
       "    <tr>\n",
       "      <th>std</th>\n",
       "      <td>72842.69575</td>\n",
       "      <td>NaN</td>\n",
       "      <td>NaN</td>\n",
       "      <td>NaN</td>\n",
       "      <td>19792.496704</td>\n",
       "      <td>21586.690775</td>\n",
       "    </tr>\n",
       "    <tr>\n",
       "      <th>min</th>\n",
       "      <td>28903.00000</td>\n",
       "      <td>NaN</td>\n",
       "      <td>NaN</td>\n",
       "      <td>NaN</td>\n",
       "      <td>17562.000000</td>\n",
       "      <td>12583.000000</td>\n",
       "    </tr>\n",
       "    <tr>\n",
       "      <th>25%</th>\n",
       "      <td>91986.25000</td>\n",
       "      <td>NaN</td>\n",
       "      <td>NaN</td>\n",
       "      <td>NaN</td>\n",
       "      <td>34666.000000</td>\n",
       "      <td>31302.000000</td>\n",
       "    </tr>\n",
       "    <tr>\n",
       "      <th>50%</th>\n",
       "      <td>155069.50000</td>\n",
       "      <td>NaN</td>\n",
       "      <td>NaN</td>\n",
       "      <td>NaN</td>\n",
       "      <td>51794.000000</td>\n",
       "      <td>49983.000000</td>\n",
       "    </tr>\n",
       "    <tr>\n",
       "      <th>75%</th>\n",
       "      <td>218152.75000</td>\n",
       "      <td>NaN</td>\n",
       "      <td>NaN</td>\n",
       "      <td>NaN</td>\n",
       "      <td>68961.500000</td>\n",
       "      <td>68670.000000</td>\n",
       "    </tr>\n",
       "    <tr>\n",
       "      <th>max</th>\n",
       "      <td>281236.00000</td>\n",
       "      <td>NaN</td>\n",
       "      <td>NaN</td>\n",
       "      <td>NaN</td>\n",
       "      <td>86127.000000</td>\n",
       "      <td>87490.000000</td>\n",
       "    </tr>\n",
       "  </tbody>\n",
       "</table>\n",
       "</div>"
      ],
      "text/plain": [
       "                  id    event_type selected_level           start_time  \\\n",
       "count   252334.00000        252334          31086               252334   \n",
       "unique           NaN             5              3               251565   \n",
       "top              NaN  registration         medium  2017-05-29T11:03:08   \n",
       "freq             NaN         74908          17408                   16   \n",
       "mean    155069.50000           NaN            NaN                  NaN   \n",
       "std      72842.69575           NaN            NaN                  NaN   \n",
       "min      28903.00000           NaN            NaN                  NaN   \n",
       "25%      91986.25000           NaN            NaN                  NaN   \n",
       "50%     155069.50000           NaN            NaN                  NaN   \n",
       "75%     218152.75000           NaN            NaN                  NaN   \n",
       "max     281236.00000           NaN            NaN                  NaN   \n",
       "\n",
       "          tutorial_id        user_id  \n",
       "count   125103.000000  252334.000000  \n",
       "unique            NaN            NaN  \n",
       "top               NaN            NaN  \n",
       "freq              NaN            NaN  \n",
       "mean     51815.675364   50003.098790  \n",
       "std      19792.496704   21586.690775  \n",
       "min      17562.000000   12583.000000  \n",
       "25%      34666.000000   31302.000000  \n",
       "50%      51794.000000   49983.000000  \n",
       "75%      68961.500000   68670.000000  \n",
       "max      86127.000000   87490.000000  "
      ]
     },
     "execution_count": 4,
     "metadata": {},
     "output_type": "execute_result"
    }
   ],
   "source": [
    "df.describe(include='all')"
   ]
  },
  {
   "cell_type": "code",
   "execution_count": 5,
   "metadata": {},
   "outputs": [
    {
     "name": "stdout",
     "output_type": "stream",
     "text": [
      "<class 'pandas.core.frame.DataFrame'>\n",
      "RangeIndex: 5956 entries, 0 to 5955\n",
      "Data columns (total 4 columns):\n",
      " #   Column          Non-Null Count  Dtype \n",
      "---  ------          --------------  ----- \n",
      " 0   id              5956 non-null   int64 \n",
      " 1   user_id         5956 non-null   int64 \n",
      " 2   event_datetime  5956 non-null   object\n",
      " 3   amount          5956 non-null   int64 \n",
      "dtypes: int64(3), object(1)\n",
      "memory usage: 186.2+ KB\n"
     ]
    }
   ],
   "source": [
    "pdf.info()"
   ]
  },
  {
   "cell_type": "code",
   "execution_count": 6,
   "metadata": {},
   "outputs": [
    {
     "data": {
      "text/html": [
       "<div>\n",
       "<style scoped>\n",
       "    .dataframe tbody tr th:only-of-type {\n",
       "        vertical-align: middle;\n",
       "    }\n",
       "\n",
       "    .dataframe tbody tr th {\n",
       "        vertical-align: top;\n",
       "    }\n",
       "\n",
       "    .dataframe thead th {\n",
       "        text-align: right;\n",
       "    }\n",
       "</style>\n",
       "<table border=\"1\" class=\"dataframe\">\n",
       "  <thead>\n",
       "    <tr style=\"text-align: right;\">\n",
       "      <th></th>\n",
       "      <th>id</th>\n",
       "      <th>user_id</th>\n",
       "      <th>amount</th>\n",
       "    </tr>\n",
       "  </thead>\n",
       "  <tbody>\n",
       "    <tr>\n",
       "      <th>count</th>\n",
       "      <td>5956.000000</td>\n",
       "      <td>5956.000000</td>\n",
       "      <td>5956.000000</td>\n",
       "    </tr>\n",
       "    <tr>\n",
       "      <th>mean</th>\n",
       "      <td>18651.500000</td>\n",
       "      <td>50224.943251</td>\n",
       "      <td>108.919577</td>\n",
       "    </tr>\n",
       "    <tr>\n",
       "      <th>std</th>\n",
       "      <td>1719.493433</td>\n",
       "      <td>21458.351127</td>\n",
       "      <td>55.786902</td>\n",
       "    </tr>\n",
       "    <tr>\n",
       "      <th>min</th>\n",
       "      <td>15674.000000</td>\n",
       "      <td>12584.000000</td>\n",
       "      <td>25.000000</td>\n",
       "    </tr>\n",
       "    <tr>\n",
       "      <th>25%</th>\n",
       "      <td>17162.750000</td>\n",
       "      <td>31701.500000</td>\n",
       "      <td>50.000000</td>\n",
       "    </tr>\n",
       "    <tr>\n",
       "      <th>50%</th>\n",
       "      <td>18651.500000</td>\n",
       "      <td>50343.500000</td>\n",
       "      <td>100.000000</td>\n",
       "    </tr>\n",
       "    <tr>\n",
       "      <th>75%</th>\n",
       "      <td>20140.250000</td>\n",
       "      <td>68584.500000</td>\n",
       "      <td>150.000000</td>\n",
       "    </tr>\n",
       "    <tr>\n",
       "      <th>max</th>\n",
       "      <td>21629.000000</td>\n",
       "      <td>87480.000000</td>\n",
       "      <td>350.000000</td>\n",
       "    </tr>\n",
       "  </tbody>\n",
       "</table>\n",
       "</div>"
      ],
      "text/plain": [
       "                 id       user_id       amount\n",
       "count   5956.000000   5956.000000  5956.000000\n",
       "mean   18651.500000  50224.943251   108.919577\n",
       "std     1719.493433  21458.351127    55.786902\n",
       "min    15674.000000  12584.000000    25.000000\n",
       "25%    17162.750000  31701.500000    50.000000\n",
       "50%    18651.500000  50343.500000   100.000000\n",
       "75%    20140.250000  68584.500000   150.000000\n",
       "max    21629.000000  87480.000000   350.000000"
      ]
     },
     "execution_count": 6,
     "metadata": {},
     "output_type": "execute_result"
    }
   ],
   "source": [
    "pdf.describe()"
   ]
  },
  {
   "cell_type": "code",
   "execution_count": 7,
   "metadata": {},
   "outputs": [],
   "source": [
    "reg_df_2018=(df.start_time>='2018-01-01')&(df.start_time<'2019-01-01')&(df.event_type=='registration')\n",
    "#Выбираем из данных только тех, кто зарегистрировался в 2018 году\n",
    "\n",
    "registered=df[reg_df_2018]['user_id'].to_list()\n",
    "# Создаем список пользователей, зарегистрировннах в 2018 году\n",
    "\n",
    "events_2018=df[df.user_id.isin(registered)]\n",
    "### Создаем датафрейм с пользователями, которые зарегистрировались в 2018 году\n",
    "\n",
    "purchase_2018=pdf[pdf.user_id.isin(registered)]\n",
    "### Создаем датафрейм с данными об оплатах, которые совершают пользователи, зарегистрированные в 2018 году"
   ]
  },
  {
   "cell_type": "code",
   "execution_count": 8,
   "metadata": {},
   "outputs": [
    {
     "data": {
      "text/html": [
       "<div>\n",
       "<style scoped>\n",
       "    .dataframe tbody tr th:only-of-type {\n",
       "        vertical-align: middle;\n",
       "    }\n",
       "\n",
       "    .dataframe tbody tr th {\n",
       "        vertical-align: top;\n",
       "    }\n",
       "\n",
       "    .dataframe thead th {\n",
       "        text-align: right;\n",
       "    }\n",
       "</style>\n",
       "<table border=\"1\" class=\"dataframe\">\n",
       "  <thead>\n",
       "    <tr style=\"text-align: right;\">\n",
       "      <th></th>\n",
       "      <th>id</th>\n",
       "      <th>event_type</th>\n",
       "      <th>selected_level</th>\n",
       "      <th>start_time</th>\n",
       "      <th>tutorial_id</th>\n",
       "      <th>user_id</th>\n",
       "    </tr>\n",
       "  </thead>\n",
       "  <tbody>\n",
       "    <tr>\n",
       "      <th>51405</th>\n",
       "      <td>80308</td>\n",
       "      <td>registration</td>\n",
       "      <td>NaN</td>\n",
       "      <td>2018-01-01T03:48:40</td>\n",
       "      <td>NaN</td>\n",
       "      <td>27832</td>\n",
       "    </tr>\n",
       "    <tr>\n",
       "      <th>51406</th>\n",
       "      <td>80309</td>\n",
       "      <td>registration</td>\n",
       "      <td>NaN</td>\n",
       "      <td>2018-01-01T04:07:25</td>\n",
       "      <td>NaN</td>\n",
       "      <td>27833</td>\n",
       "    </tr>\n",
       "    <tr>\n",
       "      <th>51407</th>\n",
       "      <td>80310</td>\n",
       "      <td>registration</td>\n",
       "      <td>NaN</td>\n",
       "      <td>2018-01-01T08:35:10</td>\n",
       "      <td>NaN</td>\n",
       "      <td>27834</td>\n",
       "    </tr>\n",
       "    <tr>\n",
       "      <th>51408</th>\n",
       "      <td>80311</td>\n",
       "      <td>registration</td>\n",
       "      <td>NaN</td>\n",
       "      <td>2018-01-01T11:54:47</td>\n",
       "      <td>NaN</td>\n",
       "      <td>27835</td>\n",
       "    </tr>\n",
       "    <tr>\n",
       "      <th>51409</th>\n",
       "      <td>80312</td>\n",
       "      <td>registration</td>\n",
       "      <td>NaN</td>\n",
       "      <td>2018-01-01T13:28:07</td>\n",
       "      <td>NaN</td>\n",
       "      <td>27836</td>\n",
       "    </tr>\n",
       "  </tbody>\n",
       "</table>\n",
       "</div>"
      ],
      "text/plain": [
       "          id    event_type selected_level           start_time  tutorial_id  \\\n",
       "51405  80308  registration            NaN  2018-01-01T03:48:40          NaN   \n",
       "51406  80309  registration            NaN  2018-01-01T04:07:25          NaN   \n",
       "51407  80310  registration            NaN  2018-01-01T08:35:10          NaN   \n",
       "51408  80311  registration            NaN  2018-01-01T11:54:47          NaN   \n",
       "51409  80312  registration            NaN  2018-01-01T13:28:07          NaN   \n",
       "\n",
       "       user_id  \n",
       "51405    27832  \n",
       "51406    27833  \n",
       "51407    27834  \n",
       "51408    27835  \n",
       "51409    27836  "
      ]
     },
     "execution_count": 8,
     "metadata": {},
     "output_type": "execute_result"
    }
   ],
   "source": [
    "events_2018.head()"
   ]
  },
  {
   "cell_type": "code",
   "execution_count": 9,
   "metadata": {},
   "outputs": [
    {
     "name": "stdout",
     "output_type": "stream",
     "text": [
      "<class 'pandas.core.frame.DataFrame'>\n",
      "Int64Index: 66959 entries, 51405 to 118364\n",
      "Data columns (total 6 columns):\n",
      " #   Column          Non-Null Count  Dtype  \n",
      "---  ------          --------------  -----  \n",
      " 0   id              66959 non-null  int64  \n",
      " 1   event_type      66959 non-null  object \n",
      " 2   selected_level  8342 non-null   object \n",
      " 3   start_time      66959 non-null  object \n",
      " 4   tutorial_id     32954 non-null  float64\n",
      " 5   user_id         66959 non-null  int64  \n",
      "dtypes: float64(1), int64(2), object(3)\n",
      "memory usage: 3.6+ MB\n"
     ]
    }
   ],
   "source": [
    "events_2018.info()"
   ]
  },
  {
   "cell_type": "code",
   "execution_count": 10,
   "metadata": {},
   "outputs": [
    {
     "data": {
      "text/html": [
       "<div>\n",
       "<style scoped>\n",
       "    .dataframe tbody tr th:only-of-type {\n",
       "        vertical-align: middle;\n",
       "    }\n",
       "\n",
       "    .dataframe tbody tr th {\n",
       "        vertical-align: top;\n",
       "    }\n",
       "\n",
       "    .dataframe thead th {\n",
       "        text-align: right;\n",
       "    }\n",
       "</style>\n",
       "<table border=\"1\" class=\"dataframe\">\n",
       "  <thead>\n",
       "    <tr style=\"text-align: right;\">\n",
       "      <th></th>\n",
       "      <th>id</th>\n",
       "      <th>user_id</th>\n",
       "      <th>event_datetime</th>\n",
       "      <th>amount</th>\n",
       "    </tr>\n",
       "  </thead>\n",
       "  <tbody>\n",
       "    <tr>\n",
       "      <th>1171</th>\n",
       "      <td>16845</td>\n",
       "      <td>27845</td>\n",
       "      <td>2018-01-03T18:53:43</td>\n",
       "      <td>100</td>\n",
       "    </tr>\n",
       "    <tr>\n",
       "      <th>1172</th>\n",
       "      <td>16846</td>\n",
       "      <td>27865</td>\n",
       "      <td>2018-01-04T14:46:10</td>\n",
       "      <td>250</td>\n",
       "    </tr>\n",
       "    <tr>\n",
       "      <th>1174</th>\n",
       "      <td>16848</td>\n",
       "      <td>27911</td>\n",
       "      <td>2018-01-07T08:19:12</td>\n",
       "      <td>50</td>\n",
       "    </tr>\n",
       "    <tr>\n",
       "      <th>1175</th>\n",
       "      <td>16849</td>\n",
       "      <td>27910</td>\n",
       "      <td>2018-01-07T12:11:34</td>\n",
       "      <td>100</td>\n",
       "    </tr>\n",
       "    <tr>\n",
       "      <th>1176</th>\n",
       "      <td>16850</td>\n",
       "      <td>27940</td>\n",
       "      <td>2018-01-07T13:16:41</td>\n",
       "      <td>200</td>\n",
       "    </tr>\n",
       "  </tbody>\n",
       "</table>\n",
       "</div>"
      ],
      "text/plain": [
       "         id  user_id       event_datetime  amount\n",
       "1171  16845    27845  2018-01-03T18:53:43     100\n",
       "1172  16846    27865  2018-01-04T14:46:10     250\n",
       "1174  16848    27911  2018-01-07T08:19:12      50\n",
       "1175  16849    27910  2018-01-07T12:11:34     100\n",
       "1176  16850    27940  2018-01-07T13:16:41     200"
      ]
     },
     "execution_count": 10,
     "metadata": {},
     "output_type": "execute_result"
    }
   ],
   "source": [
    "purchase_2018.head()"
   ]
  },
  {
   "cell_type": "code",
   "execution_count": 11,
   "metadata": {},
   "outputs": [
    {
     "name": "stdout",
     "output_type": "stream",
     "text": [
      "<class 'pandas.core.frame.DataFrame'>\n",
      "Int64Index: 1600 entries, 1171 to 2778\n",
      "Data columns (total 4 columns):\n",
      " #   Column          Non-Null Count  Dtype \n",
      "---  ------          --------------  ----- \n",
      " 0   id              1600 non-null   int64 \n",
      " 1   user_id         1600 non-null   int64 \n",
      " 2   event_datetime  1600 non-null   object\n",
      " 3   amount          1600 non-null   int64 \n",
      "dtypes: int64(3), object(1)\n",
      "memory usage: 62.5+ KB\n"
     ]
    }
   ],
   "source": [
    "purchase_2018.info()"
   ]
  },
  {
   "cell_type": "code",
   "execution_count": 12,
   "metadata": {},
   "outputs": [],
   "source": [
    "# Переименуем столбцы\n",
    "\n",
    "events_2018=events_2018.rename(columns={'id':'event_id'})\n",
    "purchase_2018=purchase_2018.rename(columns={'id':'purchase_id'})"
   ]
  },
  {
   "cell_type": "code",
   "execution_count": 13,
   "metadata": {},
   "outputs": [],
   "source": [
    "# Преобразуем данные строкового типа в datetime\n",
    "\n",
    "events_2018['start_time'] = pd.to_datetime(events_2018['start_time'])\n",
    "purchase_2018['event_datetime'] = pd.to_datetime(purchase_2018['event_datetime'])"
   ]
  },
  {
   "cell_type": "code",
   "execution_count": 14,
   "metadata": {},
   "outputs": [
    {
     "data": {
      "text/html": [
       "<div>\n",
       "<style scoped>\n",
       "    .dataframe tbody tr th:only-of-type {\n",
       "        vertical-align: middle;\n",
       "    }\n",
       "\n",
       "    .dataframe tbody tr th {\n",
       "        vertical-align: top;\n",
       "    }\n",
       "\n",
       "    .dataframe thead th {\n",
       "        text-align: right;\n",
       "    }\n",
       "</style>\n",
       "<table border=\"1\" class=\"dataframe\">\n",
       "  <thead>\n",
       "    <tr style=\"text-align: right;\">\n",
       "      <th></th>\n",
       "      <th>purchase_id</th>\n",
       "      <th>user_id</th>\n",
       "      <th>event_datetime</th>\n",
       "      <th>amount</th>\n",
       "      <th>event_type</th>\n",
       "    </tr>\n",
       "  </thead>\n",
       "  <tbody>\n",
       "    <tr>\n",
       "      <th>1171</th>\n",
       "      <td>16845</td>\n",
       "      <td>27845</td>\n",
       "      <td>2018-01-03 18:53:43</td>\n",
       "      <td>100</td>\n",
       "      <td>purchase</td>\n",
       "    </tr>\n",
       "    <tr>\n",
       "      <th>1172</th>\n",
       "      <td>16846</td>\n",
       "      <td>27865</td>\n",
       "      <td>2018-01-04 14:46:10</td>\n",
       "      <td>250</td>\n",
       "      <td>purchase</td>\n",
       "    </tr>\n",
       "    <tr>\n",
       "      <th>1174</th>\n",
       "      <td>16848</td>\n",
       "      <td>27911</td>\n",
       "      <td>2018-01-07 08:19:12</td>\n",
       "      <td>50</td>\n",
       "      <td>purchase</td>\n",
       "    </tr>\n",
       "    <tr>\n",
       "      <th>1175</th>\n",
       "      <td>16849</td>\n",
       "      <td>27910</td>\n",
       "      <td>2018-01-07 12:11:34</td>\n",
       "      <td>100</td>\n",
       "      <td>purchase</td>\n",
       "    </tr>\n",
       "    <tr>\n",
       "      <th>1176</th>\n",
       "      <td>16850</td>\n",
       "      <td>27940</td>\n",
       "      <td>2018-01-07 13:16:41</td>\n",
       "      <td>200</td>\n",
       "      <td>purchase</td>\n",
       "    </tr>\n",
       "  </tbody>\n",
       "</table>\n",
       "</div>"
      ],
      "text/plain": [
       "      purchase_id  user_id      event_datetime  amount event_type\n",
       "1171        16845    27845 2018-01-03 18:53:43     100   purchase\n",
       "1172        16846    27865 2018-01-04 14:46:10     250   purchase\n",
       "1174        16848    27911 2018-01-07 08:19:12      50   purchase\n",
       "1175        16849    27910 2018-01-07 12:11:34     100   purchase\n",
       "1176        16850    27940 2018-01-07 13:16:41     200   purchase"
      ]
     },
     "execution_count": 14,
     "metadata": {},
     "output_type": "execute_result"
    }
   ],
   "source": [
    "# Добавим в датафрейм purchase_2018 столбец event_type, который будет содержать одно значение purchase. \n",
    "# Это нужно, чтобы в объединённом датафрейме однозначно выделить события оплаты.\n",
    "\n",
    "purchase_2018['event_type'] = 'purchase'\n",
    "purchase_2018.head()"
   ]
  },
  {
   "cell_type": "code",
   "execution_count": 15,
   "metadata": {
    "scrolled": true
   },
   "outputs": [
    {
     "data": {
      "text/html": [
       "<div>\n",
       "<style scoped>\n",
       "    .dataframe tbody tr th:only-of-type {\n",
       "        vertical-align: middle;\n",
       "    }\n",
       "\n",
       "    .dataframe tbody tr th {\n",
       "        vertical-align: top;\n",
       "    }\n",
       "\n",
       "    .dataframe thead th {\n",
       "        text-align: right;\n",
       "    }\n",
       "</style>\n",
       "<table border=\"1\" class=\"dataframe\">\n",
       "  <thead>\n",
       "    <tr style=\"text-align: right;\">\n",
       "      <th></th>\n",
       "      <th>purchase_id</th>\n",
       "      <th>user_id</th>\n",
       "      <th>amount</th>\n",
       "    </tr>\n",
       "  </thead>\n",
       "  <tbody>\n",
       "    <tr>\n",
       "      <th>count</th>\n",
       "      <td>1600.000000</td>\n",
       "      <td>1600.000000</td>\n",
       "      <td>1600.000000</td>\n",
       "    </tr>\n",
       "    <tr>\n",
       "      <th>mean</th>\n",
       "      <td>17645.505625</td>\n",
       "      <td>37752.766250</td>\n",
       "      <td>110.734375</td>\n",
       "    </tr>\n",
       "    <tr>\n",
       "      <th>std</th>\n",
       "      <td>462.038637</td>\n",
       "      <td>5822.621784</td>\n",
       "      <td>54.696628</td>\n",
       "    </tr>\n",
       "    <tr>\n",
       "      <th>min</th>\n",
       "      <td>16845.000000</td>\n",
       "      <td>27845.000000</td>\n",
       "      <td>25.000000</td>\n",
       "    </tr>\n",
       "    <tr>\n",
       "      <th>25%</th>\n",
       "      <td>17245.750000</td>\n",
       "      <td>32815.750000</td>\n",
       "      <td>50.000000</td>\n",
       "    </tr>\n",
       "    <tr>\n",
       "      <th>50%</th>\n",
       "      <td>17645.500000</td>\n",
       "      <td>37633.500000</td>\n",
       "      <td>100.000000</td>\n",
       "    </tr>\n",
       "    <tr>\n",
       "      <th>75%</th>\n",
       "      <td>18045.250000</td>\n",
       "      <td>43023.000000</td>\n",
       "      <td>150.000000</td>\n",
       "    </tr>\n",
       "    <tr>\n",
       "      <th>max</th>\n",
       "      <td>18452.000000</td>\n",
       "      <td>47742.000000</td>\n",
       "      <td>300.000000</td>\n",
       "    </tr>\n",
       "  </tbody>\n",
       "</table>\n",
       "</div>"
      ],
      "text/plain": [
       "        purchase_id       user_id       amount\n",
       "count   1600.000000   1600.000000  1600.000000\n",
       "mean   17645.505625  37752.766250   110.734375\n",
       "std      462.038637   5822.621784    54.696628\n",
       "min    16845.000000  27845.000000    25.000000\n",
       "25%    17245.750000  32815.750000    50.000000\n",
       "50%    17645.500000  37633.500000   100.000000\n",
       "75%    18045.250000  43023.000000   150.000000\n",
       "max    18452.000000  47742.000000   300.000000"
      ]
     },
     "execution_count": 15,
     "metadata": {},
     "output_type": "execute_result"
    }
   ],
   "source": [
    "purchase_2018.describe()"
   ]
  },
  {
   "cell_type": "code",
   "execution_count": 17,
   "metadata": {},
   "outputs": [
    {
     "data": {
      "text/plain": [
       "array([nan, 'medium', 'hard', 'easy'], dtype=object)"
      ]
     },
     "execution_count": 17,
     "metadata": {},
     "output_type": "execute_result"
    }
   ],
   "source": [
    "### Оценим, какие уникальные события есть в колонке selected_level:\n",
    "events_2018['selected_level'].unique()"
   ]
  },
  {
   "cell_type": "code",
   "execution_count": 18,
   "metadata": {},
   "outputs": [
    {
     "data": {
      "text/html": [
       "<div>\n",
       "<style scoped>\n",
       "    .dataframe tbody tr th:only-of-type {\n",
       "        vertical-align: middle;\n",
       "    }\n",
       "\n",
       "    .dataframe tbody tr th {\n",
       "        vertical-align: top;\n",
       "    }\n",
       "\n",
       "    .dataframe thead th {\n",
       "        text-align: right;\n",
       "    }\n",
       "</style>\n",
       "<table border=\"1\" class=\"dataframe\">\n",
       "  <thead>\n",
       "    <tr style=\"text-align: right;\">\n",
       "      <th></th>\n",
       "      <th>event_id</th>\n",
       "      <th>event_type</th>\n",
       "      <th>selected_level</th>\n",
       "      <th>start_time</th>\n",
       "      <th>tutorial_id</th>\n",
       "      <th>user_id</th>\n",
       "      <th>purchase_id</th>\n",
       "      <th>event_datetime</th>\n",
       "      <th>amount</th>\n",
       "    </tr>\n",
       "  </thead>\n",
       "  <tbody>\n",
       "    <tr>\n",
       "      <th>51405</th>\n",
       "      <td>80308.0</td>\n",
       "      <td>registration</td>\n",
       "      <td>NaN</td>\n",
       "      <td>2018-01-01 03:48:40</td>\n",
       "      <td>NaN</td>\n",
       "      <td>27832</td>\n",
       "      <td>NaN</td>\n",
       "      <td>NaT</td>\n",
       "      <td>NaN</td>\n",
       "    </tr>\n",
       "    <tr>\n",
       "      <th>51406</th>\n",
       "      <td>80309.0</td>\n",
       "      <td>registration</td>\n",
       "      <td>NaN</td>\n",
       "      <td>2018-01-01 04:07:25</td>\n",
       "      <td>NaN</td>\n",
       "      <td>27833</td>\n",
       "      <td>NaN</td>\n",
       "      <td>NaT</td>\n",
       "      <td>NaN</td>\n",
       "    </tr>\n",
       "    <tr>\n",
       "      <th>51407</th>\n",
       "      <td>80310.0</td>\n",
       "      <td>registration</td>\n",
       "      <td>NaN</td>\n",
       "      <td>2018-01-01 08:35:10</td>\n",
       "      <td>NaN</td>\n",
       "      <td>27834</td>\n",
       "      <td>NaN</td>\n",
       "      <td>NaT</td>\n",
       "      <td>NaN</td>\n",
       "    </tr>\n",
       "    <tr>\n",
       "      <th>51408</th>\n",
       "      <td>80311.0</td>\n",
       "      <td>registration</td>\n",
       "      <td>NaN</td>\n",
       "      <td>2018-01-01 11:54:47</td>\n",
       "      <td>NaN</td>\n",
       "      <td>27835</td>\n",
       "      <td>NaN</td>\n",
       "      <td>NaT</td>\n",
       "      <td>NaN</td>\n",
       "    </tr>\n",
       "    <tr>\n",
       "      <th>51409</th>\n",
       "      <td>80312.0</td>\n",
       "      <td>registration</td>\n",
       "      <td>NaN</td>\n",
       "      <td>2018-01-01 13:28:07</td>\n",
       "      <td>NaN</td>\n",
       "      <td>27836</td>\n",
       "      <td>NaN</td>\n",
       "      <td>NaT</td>\n",
       "      <td>NaN</td>\n",
       "    </tr>\n",
       "    <tr>\n",
       "      <th>...</th>\n",
       "      <td>...</td>\n",
       "      <td>...</td>\n",
       "      <td>...</td>\n",
       "      <td>...</td>\n",
       "      <td>...</td>\n",
       "      <td>...</td>\n",
       "      <td>...</td>\n",
       "      <td>...</td>\n",
       "      <td>...</td>\n",
       "    </tr>\n",
       "    <tr>\n",
       "      <th>2767</th>\n",
       "      <td>NaN</td>\n",
       "      <td>purchase</td>\n",
       "      <td>NaN</td>\n",
       "      <td>NaT</td>\n",
       "      <td>NaN</td>\n",
       "      <td>47498</td>\n",
       "      <td>18441.0</td>\n",
       "      <td>2019-01-02 03:48:19</td>\n",
       "      <td>100.0</td>\n",
       "    </tr>\n",
       "    <tr>\n",
       "      <th>2768</th>\n",
       "      <td>NaN</td>\n",
       "      <td>purchase</td>\n",
       "      <td>NaN</td>\n",
       "      <td>NaT</td>\n",
       "      <td>NaN</td>\n",
       "      <td>47647</td>\n",
       "      <td>18442.0</td>\n",
       "      <td>2019-01-02 23:26:26</td>\n",
       "      <td>150.0</td>\n",
       "    </tr>\n",
       "    <tr>\n",
       "      <th>2769</th>\n",
       "      <td>NaN</td>\n",
       "      <td>purchase</td>\n",
       "      <td>NaN</td>\n",
       "      <td>NaT</td>\n",
       "      <td>NaN</td>\n",
       "      <td>47554</td>\n",
       "      <td>18443.0</td>\n",
       "      <td>2019-01-03 00:36:36</td>\n",
       "      <td>50.0</td>\n",
       "    </tr>\n",
       "    <tr>\n",
       "      <th>2774</th>\n",
       "      <td>NaN</td>\n",
       "      <td>purchase</td>\n",
       "      <td>NaN</td>\n",
       "      <td>NaT</td>\n",
       "      <td>NaN</td>\n",
       "      <td>47742</td>\n",
       "      <td>18448.0</td>\n",
       "      <td>2019-01-04 12:51:41</td>\n",
       "      <td>50.0</td>\n",
       "    </tr>\n",
       "    <tr>\n",
       "      <th>2778</th>\n",
       "      <td>NaN</td>\n",
       "      <td>purchase</td>\n",
       "      <td>NaN</td>\n",
       "      <td>NaT</td>\n",
       "      <td>NaN</td>\n",
       "      <td>47732</td>\n",
       "      <td>18452.0</td>\n",
       "      <td>2019-01-06 07:14:25</td>\n",
       "      <td>150.0</td>\n",
       "    </tr>\n",
       "  </tbody>\n",
       "</table>\n",
       "<p>68559 rows × 9 columns</p>\n",
       "</div>"
      ],
      "text/plain": [
       "       event_id    event_type selected_level          start_time  tutorial_id  \\\n",
       "51405   80308.0  registration            NaN 2018-01-01 03:48:40          NaN   \n",
       "51406   80309.0  registration            NaN 2018-01-01 04:07:25          NaN   \n",
       "51407   80310.0  registration            NaN 2018-01-01 08:35:10          NaN   \n",
       "51408   80311.0  registration            NaN 2018-01-01 11:54:47          NaN   \n",
       "51409   80312.0  registration            NaN 2018-01-01 13:28:07          NaN   \n",
       "...         ...           ...            ...                 ...          ...   \n",
       "2767        NaN      purchase            NaN                 NaT          NaN   \n",
       "2768        NaN      purchase            NaN                 NaT          NaN   \n",
       "2769        NaN      purchase            NaN                 NaT          NaN   \n",
       "2774        NaN      purchase            NaN                 NaT          NaN   \n",
       "2778        NaN      purchase            NaN                 NaT          NaN   \n",
       "\n",
       "       user_id  purchase_id      event_datetime  amount  \n",
       "51405    27832          NaN                 NaT     NaN  \n",
       "51406    27833          NaN                 NaT     NaN  \n",
       "51407    27834          NaN                 NaT     NaN  \n",
       "51408    27835          NaN                 NaT     NaN  \n",
       "51409    27836          NaN                 NaT     NaN  \n",
       "...        ...          ...                 ...     ...  \n",
       "2767     47498      18441.0 2019-01-02 03:48:19   100.0  \n",
       "2768     47647      18442.0 2019-01-02 23:26:26   150.0  \n",
       "2769     47554      18443.0 2019-01-03 00:36:36    50.0  \n",
       "2774     47742      18448.0 2019-01-04 12:51:41    50.0  \n",
       "2778     47732      18452.0 2019-01-06 07:14:25   150.0  \n",
       "\n",
       "[68559 rows x 9 columns]"
      ]
     },
     "execution_count": 18,
     "metadata": {},
     "output_type": "execute_result"
    }
   ],
   "source": [
    "# Объединим датафреймы events_2018 и purchase_2018 с помощью функции pd.concat() и запишем объединенный датафрейм \n",
    "# в переменную total_events.\n",
    "total_events=pd.concat([events_2018, purchase_2018])\n",
    "total_events"
   ]
  },
  {
   "cell_type": "code",
   "execution_count": 19,
   "metadata": {
    "scrolled": true
   },
   "outputs": [
    {
     "name": "stdout",
     "output_type": "stream",
     "text": [
      "<class 'pandas.core.frame.DataFrame'>\n",
      "Int64Index: 68559 entries, 51405 to 2778\n",
      "Data columns (total 9 columns):\n",
      " #   Column          Non-Null Count  Dtype         \n",
      "---  ------          --------------  -----         \n",
      " 0   event_id        66959 non-null  float64       \n",
      " 1   event_type      68559 non-null  object        \n",
      " 2   selected_level  8342 non-null   object        \n",
      " 3   start_time      66959 non-null  datetime64[ns]\n",
      " 4   tutorial_id     32954 non-null  float64       \n",
      " 5   user_id         68559 non-null  int64         \n",
      " 6   purchase_id     1600 non-null   float64       \n",
      " 7   event_datetime  1600 non-null   datetime64[ns]\n",
      " 8   amount          1600 non-null   float64       \n",
      "dtypes: datetime64[ns](2), float64(4), int64(1), object(2)\n",
      "memory usage: 5.2+ MB\n"
     ]
    }
   ],
   "source": [
    "total_events.info()"
   ]
  },
  {
   "cell_type": "code",
   "execution_count": 20,
   "metadata": {
    "scrolled": false
   },
   "outputs": [
    {
     "data": {
      "text/html": [
       "<div>\n",
       "<style scoped>\n",
       "    .dataframe tbody tr th:only-of-type {\n",
       "        vertical-align: middle;\n",
       "    }\n",
       "\n",
       "    .dataframe tbody tr th {\n",
       "        vertical-align: top;\n",
       "    }\n",
       "\n",
       "    .dataframe thead th {\n",
       "        text-align: right;\n",
       "    }\n",
       "</style>\n",
       "<table border=\"1\" class=\"dataframe\">\n",
       "  <thead>\n",
       "    <tr style=\"text-align: right;\">\n",
       "      <th></th>\n",
       "      <th>event_id</th>\n",
       "      <th>event_type</th>\n",
       "      <th>selected_level</th>\n",
       "      <th>start_time</th>\n",
       "      <th>tutorial_id</th>\n",
       "      <th>user_id</th>\n",
       "      <th>purchase_id</th>\n",
       "      <th>event_datetime</th>\n",
       "      <th>amount</th>\n",
       "    </tr>\n",
       "  </thead>\n",
       "  <tbody>\n",
       "    <tr>\n",
       "      <th>0</th>\n",
       "      <td>80308.0</td>\n",
       "      <td>registration</td>\n",
       "      <td>NaN</td>\n",
       "      <td>2018-01-01 03:48:40</td>\n",
       "      <td>NaN</td>\n",
       "      <td>27832</td>\n",
       "      <td>NaN</td>\n",
       "      <td>NaT</td>\n",
       "      <td>NaN</td>\n",
       "    </tr>\n",
       "    <tr>\n",
       "      <th>1</th>\n",
       "      <td>80309.0</td>\n",
       "      <td>registration</td>\n",
       "      <td>NaN</td>\n",
       "      <td>2018-01-01 04:07:25</td>\n",
       "      <td>NaN</td>\n",
       "      <td>27833</td>\n",
       "      <td>NaN</td>\n",
       "      <td>NaT</td>\n",
       "      <td>NaN</td>\n",
       "    </tr>\n",
       "    <tr>\n",
       "      <th>2</th>\n",
       "      <td>80310.0</td>\n",
       "      <td>registration</td>\n",
       "      <td>NaN</td>\n",
       "      <td>2018-01-01 08:35:10</td>\n",
       "      <td>NaN</td>\n",
       "      <td>27834</td>\n",
       "      <td>NaN</td>\n",
       "      <td>NaT</td>\n",
       "      <td>NaN</td>\n",
       "    </tr>\n",
       "    <tr>\n",
       "      <th>3</th>\n",
       "      <td>80311.0</td>\n",
       "      <td>registration</td>\n",
       "      <td>NaN</td>\n",
       "      <td>2018-01-01 11:54:47</td>\n",
       "      <td>NaN</td>\n",
       "      <td>27835</td>\n",
       "      <td>NaN</td>\n",
       "      <td>NaT</td>\n",
       "      <td>NaN</td>\n",
       "    </tr>\n",
       "    <tr>\n",
       "      <th>4</th>\n",
       "      <td>80312.0</td>\n",
       "      <td>registration</td>\n",
       "      <td>NaN</td>\n",
       "      <td>2018-01-01 13:28:07</td>\n",
       "      <td>NaN</td>\n",
       "      <td>27836</td>\n",
       "      <td>NaN</td>\n",
       "      <td>NaT</td>\n",
       "      <td>NaN</td>\n",
       "    </tr>\n",
       "    <tr>\n",
       "      <th>...</th>\n",
       "      <td>...</td>\n",
       "      <td>...</td>\n",
       "      <td>...</td>\n",
       "      <td>...</td>\n",
       "      <td>...</td>\n",
       "      <td>...</td>\n",
       "      <td>...</td>\n",
       "      <td>...</td>\n",
       "      <td>...</td>\n",
       "    </tr>\n",
       "    <tr>\n",
       "      <th>68554</th>\n",
       "      <td>NaN</td>\n",
       "      <td>purchase</td>\n",
       "      <td>NaN</td>\n",
       "      <td>NaT</td>\n",
       "      <td>NaN</td>\n",
       "      <td>47498</td>\n",
       "      <td>18441.0</td>\n",
       "      <td>2019-01-02 03:48:19</td>\n",
       "      <td>100.0</td>\n",
       "    </tr>\n",
       "    <tr>\n",
       "      <th>68555</th>\n",
       "      <td>NaN</td>\n",
       "      <td>purchase</td>\n",
       "      <td>NaN</td>\n",
       "      <td>NaT</td>\n",
       "      <td>NaN</td>\n",
       "      <td>47647</td>\n",
       "      <td>18442.0</td>\n",
       "      <td>2019-01-02 23:26:26</td>\n",
       "      <td>150.0</td>\n",
       "    </tr>\n",
       "    <tr>\n",
       "      <th>68556</th>\n",
       "      <td>NaN</td>\n",
       "      <td>purchase</td>\n",
       "      <td>NaN</td>\n",
       "      <td>NaT</td>\n",
       "      <td>NaN</td>\n",
       "      <td>47554</td>\n",
       "      <td>18443.0</td>\n",
       "      <td>2019-01-03 00:36:36</td>\n",
       "      <td>50.0</td>\n",
       "    </tr>\n",
       "    <tr>\n",
       "      <th>68557</th>\n",
       "      <td>NaN</td>\n",
       "      <td>purchase</td>\n",
       "      <td>NaN</td>\n",
       "      <td>NaT</td>\n",
       "      <td>NaN</td>\n",
       "      <td>47742</td>\n",
       "      <td>18448.0</td>\n",
       "      <td>2019-01-04 12:51:41</td>\n",
       "      <td>50.0</td>\n",
       "    </tr>\n",
       "    <tr>\n",
       "      <th>68558</th>\n",
       "      <td>NaN</td>\n",
       "      <td>purchase</td>\n",
       "      <td>NaN</td>\n",
       "      <td>NaT</td>\n",
       "      <td>NaN</td>\n",
       "      <td>47732</td>\n",
       "      <td>18452.0</td>\n",
       "      <td>2019-01-06 07:14:25</td>\n",
       "      <td>150.0</td>\n",
       "    </tr>\n",
       "  </tbody>\n",
       "</table>\n",
       "<p>68559 rows × 9 columns</p>\n",
       "</div>"
      ],
      "text/plain": [
       "       event_id    event_type selected_level          start_time  tutorial_id  \\\n",
       "0       80308.0  registration            NaN 2018-01-01 03:48:40          NaN   \n",
       "1       80309.0  registration            NaN 2018-01-01 04:07:25          NaN   \n",
       "2       80310.0  registration            NaN 2018-01-01 08:35:10          NaN   \n",
       "3       80311.0  registration            NaN 2018-01-01 11:54:47          NaN   \n",
       "4       80312.0  registration            NaN 2018-01-01 13:28:07          NaN   \n",
       "...         ...           ...            ...                 ...          ...   \n",
       "68554       NaN      purchase            NaN                 NaT          NaN   \n",
       "68555       NaN      purchase            NaN                 NaT          NaN   \n",
       "68556       NaN      purchase            NaN                 NaT          NaN   \n",
       "68557       NaN      purchase            NaN                 NaT          NaN   \n",
       "68558       NaN      purchase            NaN                 NaT          NaN   \n",
       "\n",
       "       user_id  purchase_id      event_datetime  amount  \n",
       "0        27832          NaN                 NaT     NaN  \n",
       "1        27833          NaN                 NaT     NaN  \n",
       "2        27834          NaN                 NaT     NaN  \n",
       "3        27835          NaN                 NaT     NaN  \n",
       "4        27836          NaN                 NaT     NaN  \n",
       "...        ...          ...                 ...     ...  \n",
       "68554    47498      18441.0 2019-01-02 03:48:19   100.0  \n",
       "68555    47647      18442.0 2019-01-02 23:26:26   150.0  \n",
       "68556    47554      18443.0 2019-01-03 00:36:36    50.0  \n",
       "68557    47742      18448.0 2019-01-04 12:51:41    50.0  \n",
       "68558    47732      18452.0 2019-01-06 07:14:25   150.0  \n",
       "\n",
       "[68559 rows x 9 columns]"
      ]
     },
     "execution_count": 20,
     "metadata": {},
     "output_type": "execute_result"
    }
   ],
   "source": [
    "# Cбросим индексы объединенного датафрейма (так как после объединения они дублировались и несут мало смысла)\n",
    "# с помощью метода reset_index() и отсортируем все события по возрастанию времени с помощью sort_values():\n",
    "total_events=total_events.reset_index(drop=True).sort_values('start_time')\n",
    "total_events"
   ]
  },
  {
   "cell_type": "code",
   "execution_count": 21,
   "metadata": {},
   "outputs": [
    {
     "data": {
      "text/plain": [
       "19926"
      ]
     },
     "execution_count": 21,
     "metadata": {},
     "output_type": "execute_result"
    }
   ],
   "source": [
    "# Количество уникальных пользователей, зарегистрировавшихся в 2018 году\n",
    "user_total_events=total_events['user_id'].nunique() ## количество уникальных пользователей, зарегистрировавшихся в 2018 году\n",
    "user_total_events"
   ]
  },
  {
   "cell_type": "markdown",
   "metadata": {},
   "source": [
    "#### Расчет количества и доли пользователей, которые приступили к этапу выбора уровня сложности.\n"
   ]
  },
  {
   "cell_type": "code",
   "execution_count": 22,
   "metadata": {},
   "outputs": [
    {
     "data": {
      "text/plain": [
       "8342"
      ]
     },
     "execution_count": 22,
     "metadata": {},
     "output_type": "execute_result"
    }
   ],
   "source": [
    "# Количество пользователей, которые приступили к выбору уровня сложности \n",
    "level_choice=total_events[total_events['event_type']=='level_choice']\n",
    "user_level_choice=level_choice['user_id'].nunique()\n",
    "user_level_choice"
   ]
  },
  {
   "cell_type": "code",
   "execution_count": 23,
   "metadata": {},
   "outputs": [
    {
     "data": {
      "text/plain": [
       "41.86490013048279"
      ]
     },
     "execution_count": 23,
     "metadata": {},
     "output_type": "execute_result"
    }
   ],
   "source": [
    "#Процент пользователей, которые приступили к выбору уровня сложности от общего количества пользователей\n",
    "persent_user_level_choice=user_level_choice*100/user_total_events\n",
    "persent_user_level_choice"
   ]
  },
  {
   "cell_type": "markdown",
   "metadata": {},
   "source": [
    "#### Расчет количества и доли пользователей, выбравших разные уровни сложности (easy, medium, hard)"
   ]
  },
  {
   "cell_type": "code",
   "execution_count": 24,
   "metadata": {},
   "outputs": [
    {
     "data": {
      "text/plain": [
       "2448"
      ]
     },
     "execution_count": 24,
     "metadata": {},
     "output_type": "execute_result"
    }
   ],
   "source": [
    "# EASY\n",
    "\n",
    "#Кол-во уникальных пользователей, которые выбрали легкий (easy) уровень сложности\n",
    "level_choice_easy=level_choice[level_choice['selected_level']=='easy']\n",
    "user_level_choice_easy=level_choice_easy['user_id'].nunique()\n",
    "user_level_choice_easy "
   ]
  },
  {
   "cell_type": "code",
   "execution_count": 25,
   "metadata": {},
   "outputs": [
    {
     "data": {
      "text/plain": [
       "29.345480700071924"
      ]
     },
     "execution_count": 25,
     "metadata": {},
     "output_type": "execute_result"
    }
   ],
   "source": [
    "#Процент уникальных пользователей, которые выбрали легкий (easy) уровня сложности\n",
    "persent_user_level_choice_easy=user_level_choice_easy*100/user_level_choice\n",
    "persent_user_level_choice_easy "
   ]
  },
  {
   "cell_type": "code",
   "execution_count": 26,
   "metadata": {},
   "outputs": [
    {
     "data": {
      "text/plain": [
       "4645"
      ]
     },
     "execution_count": 26,
     "metadata": {},
     "output_type": "execute_result"
    }
   ],
   "source": [
    "# MEDIUM\n",
    "\n",
    "#Кол-во уникальных пользователей, которые выбрали средний (medium) уровень сложности\n",
    "level_choice_medium=level_choice[level_choice['selected_level']=='medium']\n",
    "user_level_choice_medium=level_choice_medium['user_id'].nunique()\n",
    "user_level_choice_medium"
   ]
  },
  {
   "cell_type": "code",
   "execution_count": 27,
   "metadata": {},
   "outputs": [
    {
     "data": {
      "text/plain": [
       "55.68209062574922"
      ]
     },
     "execution_count": 27,
     "metadata": {},
     "output_type": "execute_result"
    }
   ],
   "source": [
    "# Процент уникальных пользователей, которые выбрали средний (medium) уровень сложности\n",
    "persent_user_level_choice_medium=user_level_choice_medium*100/user_level_choice\n",
    "persent_user_level_choice_medium "
   ]
  },
  {
   "cell_type": "code",
   "execution_count": 28,
   "metadata": {},
   "outputs": [
    {
     "data": {
      "text/plain": [
       "1249"
      ]
     },
     "execution_count": 28,
     "metadata": {},
     "output_type": "execute_result"
    }
   ],
   "source": [
    "# HARD\n",
    "\n",
    "# Кол-во уникальных пользователей, которые выбрали тяжелый (hard) уровень сложности\n",
    "level_choice_hard=level_choice[level_choice['selected_level']=='hard']\n",
    "user_level_choice_hard=level_choice_hard['user_id'].nunique()\n",
    "user_level_choice_hard "
   ]
  },
  {
   "cell_type": "code",
   "execution_count": 29,
   "metadata": {},
   "outputs": [
    {
     "data": {
      "text/plain": [
       "14.972428674178854"
      ]
     },
     "execution_count": 29,
     "metadata": {},
     "output_type": "execute_result"
    }
   ],
   "source": [
    "# Процент уникальных пользователей, которые выбрали тяжелый (hard) уровень сложности\n",
    "persent_user_level_choice_hard=user_level_choice_hard*100/user_level_choice\n",
    "persent_user_level_choice_hard "
   ]
  },
  {
   "cell_type": "markdown",
   "metadata": {},
   "source": [
    "#### Выделяем группы пользователей по выбору уровня сложности и оплате\n",
    "\n"
   ]
  },
  {
   "cell_type": "code",
   "execution_count": 30,
   "metadata": {},
   "outputs": [],
   "source": [
    "# EASY\n",
    "level_choice_easy = total_events[total_events['selected_level'] == 'easy']['user_id'].unique() \n",
    "# список пользоват., которые выбрали легкий уровень\n",
    "\n",
    "purchase_2018_easy=purchase_2018[purchase_2018['user_id'].isin(level_choice_easy)]\n",
    "# пользователи, которые выбрали легк.уровень и совершили оплату\n",
    "\n",
    "\n",
    "# MEDIUM\n",
    "level_choice_medium=total_events[total_events['selected_level']=='medium']['user_id'].unique() \n",
    "#список пользоват., которые выбрали средний уровень\n",
    "\n",
    "purchase_2018_medium=purchase_2018[purchase_2018['user_id'].isin(level_choice_medium)]\n",
    "# пользователи, которые выбрали средн.уровень и совершили оплату\n",
    "\n",
    "# HARD\n",
    "level_choice_hard=total_events[total_events['selected_level']=='hard']['user_id'].unique()\n",
    "# список пользоват., которые выбрали тяжелый уровень\n",
    "\n",
    "purchase_2018_hard=purchase_2018[purchase_2018['user_id'].isin(level_choice_hard)]#выбираем оплаты только тех \n",
    "# пользователи, которые выбрали тяжел.уровень и совершили оплату"
   ]
  },
  {
   "cell_type": "markdown",
   "metadata": {},
   "source": [
    "#### Расчет процента пользователей, выбравших разные уровни сложности, которые совершили оплату"
   ]
  },
  {
   "cell_type": "code",
   "execution_count": 31,
   "metadata": {},
   "outputs": [
    {
     "name": "stdout",
     "output_type": "stream",
     "text": [
      "Процент пользователей, совершивих оплату, от общего количества пользователей, выбравших easy_level: 7.72%\n",
      "Процент пользователей, совершивих оплату, от общего количества пользователей, выбравших medium_level: 20.86%\n",
      "Процент пользователей, совершивих оплату, от общего количества пользователей, выбравших hard_level: 35.39%\n"
     ]
    }
   ],
   "source": [
    "#EASY\n",
    "persent_purchase_easy=purchase_2018_easy['user_id'].nunique()/len(level_choice_easy)\n",
    "\n",
    "#MEDIUM\n",
    "persent_purchase_medium=purchase_2018_medium['user_id'].nunique()/len(level_choice_medium)\n",
    "\n",
    "##HARD\n",
    "persent_purchase_hard=purchase_2018_hard['user_id'].nunique()/len(level_choice_hard)\n",
    "\n",
    "print('Процент пользователей, совершивих оплату, от общего количества пользователей, выбравших easy_level: {:.2%}'.format (persent_purchase_easy))\n",
    "print('Процент пользователей, совершивих оплату, от общего количества пользователей, выбравших medium_level: {:.2%}'.format (persent_purchase_medium))\n",
    "print('Процент пользователей, совершивих оплату, от общего количества пользователей, выбравших hard_level: {:.2%}'.format (persent_purchase_hard))"
   ]
  },
  {
   "cell_type": "markdown",
   "metadata": {},
   "source": [
    "#### Расчет разницы во времени между событиями выбора уровня сложности и оплаты для разных групп пользователей "
   ]
  },
  {
   "cell_type": "markdown",
   "metadata": {},
   "source": [
    "Для каждой группы сделаем по два датафрейма: один — с событиями выбора уровня сложности, другой — с событиями оплаты"
   ]
  },
  {
   "cell_type": "code",
   "execution_count": 32,
   "metadata": {},
   "outputs": [
    {
     "data": {
      "text/html": [
       "<div>\n",
       "<style scoped>\n",
       "    .dataframe tbody tr th:only-of-type {\n",
       "        vertical-align: middle;\n",
       "    }\n",
       "\n",
       "    .dataframe tbody tr th {\n",
       "        vertical-align: top;\n",
       "    }\n",
       "\n",
       "    .dataframe thead th {\n",
       "        text-align: right;\n",
       "    }\n",
       "</style>\n",
       "<table border=\"1\" class=\"dataframe\">\n",
       "  <thead>\n",
       "    <tr style=\"text-align: right;\">\n",
       "      <th></th>\n",
       "      <th>user_id</th>\n",
       "      <th>easy_time</th>\n",
       "    </tr>\n",
       "  </thead>\n",
       "  <tbody>\n",
       "    <tr>\n",
       "      <th>45</th>\n",
       "      <td>27842</td>\n",
       "      <td>2018-01-02 08:46:03</td>\n",
       "    </tr>\n",
       "    <tr>\n",
       "      <th>52</th>\n",
       "      <td>27849</td>\n",
       "      <td>2018-01-02 11:53:11</td>\n",
       "    </tr>\n",
       "    <tr>\n",
       "      <th>88</th>\n",
       "      <td>27853</td>\n",
       "      <td>2018-01-03 00:39:54</td>\n",
       "    </tr>\n",
       "    <tr>\n",
       "      <th>92</th>\n",
       "      <td>27859</td>\n",
       "      <td>2018-01-03 01:11:45</td>\n",
       "    </tr>\n",
       "    <tr>\n",
       "      <th>108</th>\n",
       "      <td>27863</td>\n",
       "      <td>2018-01-03 09:31:00</td>\n",
       "    </tr>\n",
       "  </tbody>\n",
       "</table>\n",
       "</div>"
      ],
      "text/plain": [
       "     user_id           easy_time\n",
       "45     27842 2018-01-02 08:46:03\n",
       "52     27849 2018-01-02 11:53:11\n",
       "88     27853 2018-01-03 00:39:54\n",
       "92     27859 2018-01-03 01:11:45\n",
       "108    27863 2018-01-03 09:31:00"
      ]
     },
     "execution_count": 32,
     "metadata": {},
     "output_type": "execute_result"
    }
   ],
   "source": [
    "# Создадим датафреймы с событиями выбора уровня сложности и оставит только необходимые столбцы\n",
    "\n",
    "#EASY\n",
    "easy=total_events[(total_events['event_type']=='level_choice')& (total_events['selected_level']=='easy')]\n",
    "easy=easy[['user_id','start_time']].rename(columns={'start_time':'easy_time'})\n",
    "easy.head()"
   ]
  },
  {
   "cell_type": "code",
   "execution_count": 33,
   "metadata": {},
   "outputs": [
    {
     "data": {
      "text/html": [
       "<div>\n",
       "<style scoped>\n",
       "    .dataframe tbody tr th:only-of-type {\n",
       "        vertical-align: middle;\n",
       "    }\n",
       "\n",
       "    .dataframe tbody tr th {\n",
       "        vertical-align: top;\n",
       "    }\n",
       "\n",
       "    .dataframe thead th {\n",
       "        text-align: right;\n",
       "    }\n",
       "</style>\n",
       "<table border=\"1\" class=\"dataframe\">\n",
       "  <thead>\n",
       "    <tr style=\"text-align: right;\">\n",
       "      <th></th>\n",
       "      <th>user_id</th>\n",
       "      <th>medium_time</th>\n",
       "    </tr>\n",
       "  </thead>\n",
       "  <tbody>\n",
       "    <tr>\n",
       "      <th>19</th>\n",
       "      <td>27835</td>\n",
       "      <td>2018-01-01 20:37:22</td>\n",
       "    </tr>\n",
       "    <tr>\n",
       "      <th>36</th>\n",
       "      <td>27840</td>\n",
       "      <td>2018-01-02 05:18:42</td>\n",
       "    </tr>\n",
       "    <tr>\n",
       "      <th>57</th>\n",
       "      <td>27843</td>\n",
       "      <td>2018-01-02 14:09:58</td>\n",
       "    </tr>\n",
       "    <tr>\n",
       "      <th>59</th>\n",
       "      <td>27846</td>\n",
       "      <td>2018-01-02 15:10:27</td>\n",
       "    </tr>\n",
       "    <tr>\n",
       "      <th>68</th>\n",
       "      <td>27847</td>\n",
       "      <td>2018-01-02 18:09:02</td>\n",
       "    </tr>\n",
       "  </tbody>\n",
       "</table>\n",
       "</div>"
      ],
      "text/plain": [
       "    user_id         medium_time\n",
       "19    27835 2018-01-01 20:37:22\n",
       "36    27840 2018-01-02 05:18:42\n",
       "57    27843 2018-01-02 14:09:58\n",
       "59    27846 2018-01-02 15:10:27\n",
       "68    27847 2018-01-02 18:09:02"
      ]
     },
     "execution_count": 33,
     "metadata": {},
     "output_type": "execute_result"
    }
   ],
   "source": [
    "#MEDIUM\n",
    "medium=total_events[(total_events['event_type']=='level_choice')&(total_events['selected_level']=='medium')]\n",
    "medium=medium[['user_id','start_time']].rename(columns={'start_time':'medium_time'})\n",
    "medium.head()"
   ]
  },
  {
   "cell_type": "code",
   "execution_count": 34,
   "metadata": {},
   "outputs": [
    {
     "data": {
      "text/html": [
       "<div>\n",
       "<style scoped>\n",
       "    .dataframe tbody tr th:only-of-type {\n",
       "        vertical-align: middle;\n",
       "    }\n",
       "\n",
       "    .dataframe tbody tr th {\n",
       "        vertical-align: top;\n",
       "    }\n",
       "\n",
       "    .dataframe thead th {\n",
       "        text-align: right;\n",
       "    }\n",
       "</style>\n",
       "<table border=\"1\" class=\"dataframe\">\n",
       "  <thead>\n",
       "    <tr style=\"text-align: right;\">\n",
       "      <th></th>\n",
       "      <th>user_id</th>\n",
       "      <th>hard_time</th>\n",
       "    </tr>\n",
       "  </thead>\n",
       "  <tbody>\n",
       "    <tr>\n",
       "      <th>23</th>\n",
       "      <td>27839</td>\n",
       "      <td>2018-01-01 22:37:50</td>\n",
       "    </tr>\n",
       "    <tr>\n",
       "      <th>38</th>\n",
       "      <td>27845</td>\n",
       "      <td>2018-01-02 06:19:18</td>\n",
       "    </tr>\n",
       "    <tr>\n",
       "      <th>151</th>\n",
       "      <td>27865</td>\n",
       "      <td>2018-01-04 05:56:32</td>\n",
       "    </tr>\n",
       "    <tr>\n",
       "      <th>201</th>\n",
       "      <td>27888</td>\n",
       "      <td>2018-01-04 19:41:29</td>\n",
       "    </tr>\n",
       "    <tr>\n",
       "      <th>237</th>\n",
       "      <td>27910</td>\n",
       "      <td>2018-01-05 11:59:50</td>\n",
       "    </tr>\n",
       "  </tbody>\n",
       "</table>\n",
       "</div>"
      ],
      "text/plain": [
       "     user_id           hard_time\n",
       "23     27839 2018-01-01 22:37:50\n",
       "38     27845 2018-01-02 06:19:18\n",
       "151    27865 2018-01-04 05:56:32\n",
       "201    27888 2018-01-04 19:41:29\n",
       "237    27910 2018-01-05 11:59:50"
      ]
     },
     "execution_count": 34,
     "metadata": {},
     "output_type": "execute_result"
    }
   ],
   "source": [
    "#HARD\n",
    "hard=total_events[(total_events['event_type']=='level_choice')&(total_events['selected_level']=='hard')]\n",
    "hard=hard[['user_id','start_time']].rename(columns={'start_time':'hard_time'})\n",
    "hard.head()"
   ]
  },
  {
   "cell_type": "code",
   "execution_count": 35,
   "metadata": {},
   "outputs": [
    {
     "data": {
      "text/html": [
       "<div>\n",
       "<style scoped>\n",
       "    .dataframe tbody tr th:only-of-type {\n",
       "        vertical-align: middle;\n",
       "    }\n",
       "\n",
       "    .dataframe tbody tr th {\n",
       "        vertical-align: top;\n",
       "    }\n",
       "\n",
       "    .dataframe thead th {\n",
       "        text-align: right;\n",
       "    }\n",
       "</style>\n",
       "<table border=\"1\" class=\"dataframe\">\n",
       "  <thead>\n",
       "    <tr style=\"text-align: right;\">\n",
       "      <th></th>\n",
       "      <th>user_id</th>\n",
       "      <th>purchase_time</th>\n",
       "    </tr>\n",
       "  </thead>\n",
       "  <tbody>\n",
       "    <tr>\n",
       "      <th>1171</th>\n",
       "      <td>27845</td>\n",
       "      <td>2018-01-03 18:53:43</td>\n",
       "    </tr>\n",
       "    <tr>\n",
       "      <th>1172</th>\n",
       "      <td>27865</td>\n",
       "      <td>2018-01-04 14:46:10</td>\n",
       "    </tr>\n",
       "    <tr>\n",
       "      <th>1174</th>\n",
       "      <td>27911</td>\n",
       "      <td>2018-01-07 08:19:12</td>\n",
       "    </tr>\n",
       "    <tr>\n",
       "      <th>1175</th>\n",
       "      <td>27910</td>\n",
       "      <td>2018-01-07 12:11:34</td>\n",
       "    </tr>\n",
       "    <tr>\n",
       "      <th>1176</th>\n",
       "      <td>27940</td>\n",
       "      <td>2018-01-07 13:16:41</td>\n",
       "    </tr>\n",
       "  </tbody>\n",
       "</table>\n",
       "</div>"
      ],
      "text/plain": [
       "      user_id       purchase_time\n",
       "1171    27845 2018-01-03 18:53:43\n",
       "1172    27865 2018-01-04 14:46:10\n",
       "1174    27911 2018-01-07 08:19:12\n",
       "1175    27910 2018-01-07 12:11:34\n",
       "1176    27940 2018-01-07 13:16:41"
      ]
     },
     "execution_count": 35,
     "metadata": {},
     "output_type": "execute_result"
    }
   ],
   "source": [
    "# Создадим датафрейм с событиями оплаты, в котором оставим только нужные столбцы\n",
    "purchase=purchase_2018[['user_id','event_datetime']].rename(columns={'event_datetime':'purchase_time'})\n",
    "purchase.head()"
   ]
  },
  {
   "cell_type": "code",
   "execution_count": 36,
   "metadata": {},
   "outputs": [
    {
     "data": {
      "text/plain": [
       "1.0"
      ]
     },
     "execution_count": 36,
     "metadata": {},
     "output_type": "execute_result"
    }
   ],
   "source": [
    "# Проверим, что в нашем датафрейме purchase для каждого пользователя содержится только по одному событию\n",
    "purchase['user_id'].value_counts().mean()"
   ]
  },
  {
   "cell_type": "code",
   "execution_count": 37,
   "metadata": {},
   "outputs": [
    {
     "data": {
      "text/plain": [
       "count                          189\n",
       "mean     3 days 14:58:52.941798941\n",
       "std      2 days 07:06:35.644097504\n",
       "min                0 days 00:49:20\n",
       "25%                1 days 17:18:56\n",
       "50%                3 days 06:03:50\n",
       "75%                5 days 06:58:18\n",
       "max               10 days 18:35:09\n",
       "Name: timedelta, dtype: object"
      ]
     },
     "execution_count": 37,
     "metadata": {},
     "output_type": "execute_result"
    }
   ],
   "source": [
    "# Объединим датафрейм с событием и оплатой для каждой группы и посчитаем среднюю разницу во времени между выбором уровня \n",
    "# сложности и оплатой. \n",
    "\n",
    "#EASY\n",
    "merged_easy=easy.merge(purchase, on='user_id', how='inner')\n",
    "merged_easy['timedelta']=merged_easy['purchase_time']-merged_easy['easy_time']\n",
    "merged_easy['timedelta'].mean()\n",
    "merged_easy['timedelta'].describe()"
   ]
  },
  {
   "cell_type": "code",
   "execution_count": 38,
   "metadata": {
    "scrolled": true
   },
   "outputs": [
    {
     "data": {
      "text/plain": [
       "count                          969\n",
       "mean     3 days 23:14:13.165118679\n",
       "std      2 days 06:18:57.618467109\n",
       "min                0 days 04:18:12\n",
       "25%                2 days 01:20:07\n",
       "50%                3 days 19:53:19\n",
       "75%                5 days 16:07:19\n",
       "max               10 days 13:51:01\n",
       "Name: timedelta, dtype: object"
      ]
     },
     "execution_count": 38,
     "metadata": {},
     "output_type": "execute_result"
    }
   ],
   "source": [
    "#MEDIUM\n",
    "merged_medium=medium.merge(purchase, on='user_id', how='inner')\n",
    "merged_medium['timedelta']=merged_medium['purchase_time']-merged_medium['medium_time']\n",
    "merged_medium['timedelta'].mean()\n",
    "merged_medium['timedelta'].describe()"
   ]
  },
  {
   "cell_type": "code",
   "execution_count": 39,
   "metadata": {},
   "outputs": [
    {
     "data": {
      "text/plain": [
       "count                          442\n",
       "mean     3 days 07:20:41.420814479\n",
       "std      1 days 21:43:52.953292605\n",
       "min                0 days 03:26:45\n",
       "25%         1 days 14:57:23.500000\n",
       "50%         3 days 03:13:57.500000\n",
       "75%         4 days 19:16:00.250000\n",
       "max                8 days 01:18:13\n",
       "Name: timedelta, dtype: object"
      ]
     },
     "execution_count": 39,
     "metadata": {},
     "output_type": "execute_result"
    }
   ],
   "source": [
    "#HARD\n",
    "merged_hard=hard.merge(purchase, on='user_id', how='inner')\n",
    "merged_hard['timedelta']=merged_hard['purchase_time']-merged_hard['hard_time']\n",
    "merged_hard['timedelta'].mean()\n",
    "merged_hard['timedelta'].describe()"
   ]
  },
  {
   "cell_type": "code",
   "execution_count": 40,
   "metadata": {
    "scrolled": true
   },
   "outputs": [
    {
     "name": "stdout",
     "output_type": "stream",
     "text": [
      "Среднее время между событиями выбора уровня сложности и оплаты для группы пользователей, выбравших easy_level:3 days 14:58:52.941798941\n",
      "Среднее время между событиями выбора уровня сложности и оплаты для группы пользователей, выбравших medium_level:3 days 23:14:13.165118679\n",
      "Среднее время между событиями выбора уровня сложности и оплаты для группы пользователей, выбравших hard_level:3 days 07:20:41.420814479\n"
     ]
    }
   ],
   "source": [
    "print('Среднее время между событиями выбора уровня сложности и оплаты для группы пользователей, выбравших easy_level:{}'.format (merged_easy['timedelta'].mean()))\n",
    "print('Среднее время между событиями выбора уровня сложности и оплаты для группы пользователей, выбравших medium_level:{}'.format (merged_medium['timedelta'].mean()))\n",
    "print('Среднее время между событиями выбора уровня сложности и оплаты для группы пользователей, выбравших hard_level:{}'.format (merged_hard['timedelta'].mean()))"
   ]
  },
  {
   "cell_type": "markdown",
   "metadata": {},
   "source": [
    "#### Расчет разницы во времени между событиями регистрации и оплаты для разных групп пользователей с разным уровнем сложности"
   ]
  },
  {
   "cell_type": "code",
   "execution_count": 41,
   "metadata": {},
   "outputs": [
    {
     "data": {
      "text/html": [
       "<div>\n",
       "<style scoped>\n",
       "    .dataframe tbody tr th:only-of-type {\n",
       "        vertical-align: middle;\n",
       "    }\n",
       "\n",
       "    .dataframe tbody tr th {\n",
       "        vertical-align: top;\n",
       "    }\n",
       "\n",
       "    .dataframe thead th {\n",
       "        text-align: right;\n",
       "    }\n",
       "</style>\n",
       "<table border=\"1\" class=\"dataframe\">\n",
       "  <thead>\n",
       "    <tr style=\"text-align: right;\">\n",
       "      <th></th>\n",
       "      <th>user_id</th>\n",
       "      <th>registration_time</th>\n",
       "    </tr>\n",
       "  </thead>\n",
       "  <tbody>\n",
       "    <tr>\n",
       "      <th>0</th>\n",
       "      <td>27832</td>\n",
       "      <td>2018-01-01 03:48:40</td>\n",
       "    </tr>\n",
       "    <tr>\n",
       "      <th>1</th>\n",
       "      <td>27833</td>\n",
       "      <td>2018-01-01 04:07:25</td>\n",
       "    </tr>\n",
       "    <tr>\n",
       "      <th>2</th>\n",
       "      <td>27834</td>\n",
       "      <td>2018-01-01 08:35:10</td>\n",
       "    </tr>\n",
       "    <tr>\n",
       "      <th>3</th>\n",
       "      <td>27835</td>\n",
       "      <td>2018-01-01 11:54:47</td>\n",
       "    </tr>\n",
       "    <tr>\n",
       "      <th>4</th>\n",
       "      <td>27836</td>\n",
       "      <td>2018-01-01 13:28:07</td>\n",
       "    </tr>\n",
       "  </tbody>\n",
       "</table>\n",
       "</div>"
      ],
      "text/plain": [
       "   user_id   registration_time\n",
       "0    27832 2018-01-01 03:48:40\n",
       "1    27833 2018-01-01 04:07:25\n",
       "2    27834 2018-01-01 08:35:10\n",
       "3    27835 2018-01-01 11:54:47\n",
       "4    27836 2018-01-01 13:28:07"
      ]
     },
     "execution_count": 41,
     "metadata": {},
     "output_type": "execute_result"
    }
   ],
   "source": [
    "# Выделим отдельный датафрейм registration_2018, который будет содержать только события с event_type = registration. \n",
    "# Этот датафрейм будет вспомогательным для определения времени между регистрацией и оплатой.\n",
    "# Оставляем только те столбцы, которые нам нужны\n",
    "registration_2018 = total_events[total_events['event_type'] == 'registration']\n",
    "registration_2018=registration_2018[['user_id','start_time']].rename(columns={'start_time':'registration_time'})\n",
    "registration_2018.head()"
   ]
  },
  {
   "cell_type": "code",
   "execution_count": 42,
   "metadata": {},
   "outputs": [
    {
     "data": {
      "text/plain": [
       "count                          189\n",
       "mean     3 days 22:10:23.211640211\n",
       "std      2 days 07:14:41.062010764\n",
       "min                0 days 04:36:58\n",
       "25%                2 days 01:12:12\n",
       "50%                3 days 11:00:23\n",
       "75%                5 days 10:24:59\n",
       "max               11 days 00:35:04\n",
       "Name: timedelta_2, dtype: object"
      ]
     },
     "execution_count": 42,
     "metadata": {},
     "output_type": "execute_result"
    }
   ],
   "source": [
    "# Объединим, созданные ранее датафреймы с событиями и оплатой с датафреймом registration_2018 и посчитаем среднее время \n",
    "# между событиями регистрации и оплаты для группы пользователей, выбравших разные уровни сложности\n",
    "\n",
    "#EASY\n",
    "merged_easy_reg=registration_2018.merge(merged_easy, on='user_id', how='inner')\n",
    "merged_easy_reg['timedelta_2']=merged_easy_reg['purchase_time']-merged_easy_reg['registration_time']\n",
    "merged_easy_reg['timedelta_2'].mean()\n",
    "merged_easy_reg['timedelta_2'].describe()"
   ]
  },
  {
   "cell_type": "code",
   "execution_count": 43,
   "metadata": {},
   "outputs": [
    {
     "data": {
      "text/plain": [
       "count                          969\n",
       "mean     4 days 06:12:06.576883384\n",
       "std      2 days 06:25:57.480868026\n",
       "min                0 days 08:39:24\n",
       "25%                2 days 08:46:51\n",
       "50%                4 days 03:35:26\n",
       "75%                5 days 23:51:27\n",
       "max               10 days 20:34:02\n",
       "Name: timedelta2, dtype: object"
      ]
     },
     "execution_count": 43,
     "metadata": {},
     "output_type": "execute_result"
    }
   ],
   "source": [
    "# MEDIUM\n",
    "merged_medium_reg=registration_2018.merge(merged_medium, on='user_id', how='inner')\n",
    "merged_medium_reg['timedelta2']=merged_medium_reg['purchase_time']-merged_medium_reg['registration_time']\n",
    "merged_medium_reg['timedelta2'].mean()\n",
    "merged_medium_reg['timedelta2'].describe()"
   ]
  },
  {
   "cell_type": "code",
   "execution_count": 44,
   "metadata": {},
   "outputs": [
    {
     "data": {
      "text/plain": [
       "count                          442\n",
       "mean     3 days 14:55:19.257918552\n",
       "std      1 days 22:22:52.441896774\n",
       "min                0 days 09:41:39\n",
       "25%         1 days 23:36:25.500000\n",
       "50%         3 days 10:10:04.500000\n",
       "75%         5 days 03:30:07.750000\n",
       "max                8 days 14:21:29\n",
       "Name: timedelta2, dtype: object"
      ]
     },
     "execution_count": 44,
     "metadata": {},
     "output_type": "execute_result"
    }
   ],
   "source": [
    "#HARD\n",
    "merged_hard_reg=registration_2018.merge(merged_hard, on='user_id', how='inner')\n",
    "merged_hard_reg['timedelta2']=merged_hard_reg['purchase_time']-merged_hard_reg['registration_time']\n",
    "merged_hard_reg['timedelta2'].mean()\n",
    "merged_hard_reg['timedelta2'].describe()"
   ]
  },
  {
   "cell_type": "code",
   "execution_count": 45,
   "metadata": {
    "scrolled": true
   },
   "outputs": [
    {
     "name": "stdout",
     "output_type": "stream",
     "text": [
      "Среднее время между событиями регистрации и оплаты для группы пользователей, выбравших easy_level:3 days 22:10:23.211640211\n",
      "Среднее время между событиями регистрации и оплаты для группы пользователей, выбравших medium_level:4 days 06:12:06.576883384\n",
      "Среднее время между событиями регистрации и оплаты для группы пользователей, выбравших hard_level:3 days 14:55:19.257918552\n"
     ]
    }
   ],
   "source": [
    "print('Среднее время между событиями регистрации и оплаты для группы пользователей, выбравших easy_level:{}'.format (merged_easy_reg['timedelta_2'].mean()))\n",
    "print('Среднее время между событиями регистрации и оплаты для группы пользователей, выбравших medium_level:{}'.format (merged_medium_reg['timedelta2'].mean()))\n",
    "print('Среднее время между событиями регистрации и оплаты для группы пользователей, выбравших hard_level:{}'.format (merged_hard_reg['timedelta2'].mean()))"
   ]
  },
  {
   "cell_type": "markdown",
   "metadata": {},
   "source": [
    "### ВЫВОДЫ:\n",
    "\n",
    "#### 1. До этапа выбора уровня сложности доходит всего 41,86%. Наблюдается прямая зависимость между выбором уровня сложности и оплатой. Чем выше уровень сложности, который выбрал пользователь, тем вероятнее оплата. Однако, стоит обратить внимание на то, что 55,68% выбирают средний уровень и всего 14,97% - тяжелый уровень.¶\n",
    " - Доля пользователей, которые приступили к выбору уровня сложности от общего количества пользователей - 41,86%\n",
    " \n",
    " - Доля пользователей, выбравших разные уровни сложности:\n",
    "   - easy_level - 29.35%\n",
    "   - medium_level - 55.68% \n",
    "   - hard_level - 14.97%\n",
    "\n",
    " - Процент пользователей, выбравших разные уровни сложности, которые совершили ОПЛАТУ\n",
    "   - easy_level - 7.72%\n",
    "   - medium_level - 20.86% \n",
    "   - hard_level - 35.39%\n",
    "   \n",
    "#### 2. Самая большая разница  во времени между событиями регистрации и оплаты наблюдается у группы пользователей, выбравших средний уровень сложности. Быстрее всего выбирают платный пакет пользователи, выбравшие сложный уровень. А вот среднее время между выбором уровня сложности и оплатой у разных групп отличается незначительно.\n",
    "  \n",
    " \n",
    "- Среднее время между событиями регистрации и оплаты для групп пользователей, выбравших разные уровни сложности: \n",
    "   - easy_level - 3 дня 22 часа 10 минут\n",
    "   - medium_level - 4 дня 06 часов 12 минут\n",
    "   - hard_level - 3 дня 14 часов 55 минут\n",
    "\n",
    "- Среднее время между событиями выбора уровня сложности и оплаты для групп пользователей, выбравших разные уровни сложности: \n",
    "   - easy_level - 3 дня 14 часов 58 минут\n",
    "   - medium_level - 3 дня 23 часа 14 минут\n",
    "   - hard_level - 3 дня 7 часов 20 минут\n",
    "   \n",
    "#### Самая результативная группа - пользователи, выбравшие сложный (hard) уровень, но они составляют всего 14,97% процентов. \n"
   ]
  }
 ],
 "metadata": {
  "kernelspec": {
   "display_name": "Python 3",
   "language": "python",
   "name": "python3"
  },
  "language_info": {
   "codemirror_mode": {
    "name": "ipython",
    "version": 3
   },
   "file_extension": ".py",
   "mimetype": "text/x-python",
   "name": "python",
   "nbconvert_exporter": "python",
   "pygments_lexer": "ipython3",
   "version": "3.8.5"
  }
 },
 "nbformat": 4,
 "nbformat_minor": 4
}
